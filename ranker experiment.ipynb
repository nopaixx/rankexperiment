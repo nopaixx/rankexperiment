{
 "cells": [
  {
   "cell_type": "code",
   "execution_count": 312,
   "metadata": {},
   "outputs": [],
   "source": [
    "# The idea was train multiple model group by group's secuence after all we simple average them over unseen data\n",
    "# other ensemble models could by applied\n",
    "# we use autoencode and raw data to train final model and apply special netrualization feature to final preds\n",
    "# this model was constructer to compete in \"numerai\" competition the final results on live data are NOT good...\n",
    "# but I saved this model in future we can improve"
   ]
  },
  {
   "cell_type": "code",
   "execution_count": 1,
   "metadata": {},
   "outputs": [],
   "source": [
    "TAG=\"RANK_SAVED_BEST_VAL_GROUP-{}\"\n",
    "from tensorflow.keras.layers import Input, Dense, BatchNormalization, Dropout, Concatenate, Lambda, GaussianNoise, Activation\n",
    "from tensorflow.keras.models import Model, Sequential\n",
    "from tensorflow.keras.losses import BinaryCrossentropy\n",
    "from tensorflow.keras.optimizers import Adam\n",
    "from tensorflow.keras.callbacks import EarlyStopping\n",
    "from tensorflow.keras.layers.experimental.preprocessing import Normalization\n",
    "import tensorflow as tf\n",
    "import numpy as np\n",
    "import pandas as pd\n",
    "from sklearn.model_selection import GroupKFold\n",
    "\n",
    "from tqdm import tqdm\n",
    "from random import choices\n",
    "# perform GMM clustering over dataset\n",
    "from sklearn import mixture\n",
    "\n",
    "\n",
    "from catboost import CatBoostRegressor\n",
    "from sklearn.model_selection import train_test_split\n",
    "\n",
    "import kerastuner as kt\n",
    "\n",
    "physical_devices = tf.config.list_physical_devices('GPU')\n",
    "try:\n",
    "          tf.config.experimental.set_memory_growth(physical_devices[0], True)\n",
    "except:\n",
    "          # Invalid device or cannot modify virtual devices once initialized.\n",
    "    print(\"Err\")\n",
    "    pass"
   ]
  },
  {
   "cell_type": "code",
   "execution_count": 2,
   "metadata": {},
   "outputs": [
    {
     "data": {
      "text/plain": [
       "[PhysicalDevice(name='/physical_device:GPU:0', device_type='GPU')]"
      ]
     },
     "execution_count": 2,
     "metadata": {},
     "output_type": "execute_result"
    }
   ],
   "source": [
    "physical_devices"
   ]
  },
  {
   "cell_type": "code",
   "execution_count": 270,
   "metadata": {},
   "outputs": [],
   "source": [
    "tf.compat.v1.logging.set_verbosity(tf.compat.v1.logging.ERROR)\n",
    "import sys\n",
    "if not sys.warnoptions:\n",
    "    import warnings\n",
    "    \n",
    "    warnings.simplefilter(\"ignore\")"
   ]
  },
  {
   "cell_type": "code",
   "execution_count": 3,
   "metadata": {},
   "outputs": [],
   "source": [
    "# NN\n",
    "import random\n",
    "import os\n",
    "def seed_everything(seed : int):    \n",
    "    random.seed(seed)\n",
    "    np.random.seed(seed)\n",
    "    os.environ['PYTHONHASHSEED'] = str(seed)\n",
    "    tf.random.set_seed(seed)\n",
    "\n",
    "seed_everything(1234)    "
   ]
  },
  {
   "cell_type": "code",
   "execution_count": 4,
   "metadata": {},
   "outputs": [
    {
     "data": {
      "text/html": [
       "<div>\n",
       "<style scoped>\n",
       "    .dataframe tbody tr th:only-of-type {\n",
       "        vertical-align: middle;\n",
       "    }\n",
       "\n",
       "    .dataframe tbody tr th {\n",
       "        vertical-align: top;\n",
       "    }\n",
       "\n",
       "    .dataframe thead th {\n",
       "        text-align: right;\n",
       "    }\n",
       "</style>\n",
       "<table border=\"1\" class=\"dataframe\">\n",
       "  <thead>\n",
       "    <tr style=\"text-align: right;\">\n",
       "      <th></th>\n",
       "      <th>id</th>\n",
       "      <th>era</th>\n",
       "      <th>data_type</th>\n",
       "      <th>feature_intelligence1</th>\n",
       "      <th>feature_intelligence2</th>\n",
       "      <th>feature_intelligence3</th>\n",
       "      <th>feature_intelligence4</th>\n",
       "      <th>feature_intelligence5</th>\n",
       "      <th>feature_intelligence6</th>\n",
       "      <th>feature_intelligence7</th>\n",
       "      <th>...</th>\n",
       "      <th>feature_wisdom38</th>\n",
       "      <th>feature_wisdom39</th>\n",
       "      <th>feature_wisdom40</th>\n",
       "      <th>feature_wisdom41</th>\n",
       "      <th>feature_wisdom42</th>\n",
       "      <th>feature_wisdom43</th>\n",
       "      <th>feature_wisdom44</th>\n",
       "      <th>feature_wisdom45</th>\n",
       "      <th>feature_wisdom46</th>\n",
       "      <th>target</th>\n",
       "    </tr>\n",
       "  </thead>\n",
       "  <tbody>\n",
       "    <tr>\n",
       "      <th>0</th>\n",
       "      <td>n000315175b67977</td>\n",
       "      <td>era1</td>\n",
       "      <td>train</td>\n",
       "      <td>0.00</td>\n",
       "      <td>0.50</td>\n",
       "      <td>0.25</td>\n",
       "      <td>0.00</td>\n",
       "      <td>0.5</td>\n",
       "      <td>0.25</td>\n",
       "      <td>0.25</td>\n",
       "      <td>...</td>\n",
       "      <td>1.00</td>\n",
       "      <td>1.00</td>\n",
       "      <td>0.75</td>\n",
       "      <td>0.50</td>\n",
       "      <td>0.75</td>\n",
       "      <td>0.50</td>\n",
       "      <td>1.00</td>\n",
       "      <td>0.50</td>\n",
       "      <td>0.75</td>\n",
       "      <td>0.50</td>\n",
       "    </tr>\n",
       "    <tr>\n",
       "      <th>1</th>\n",
       "      <td>n0014af834a96cdd</td>\n",
       "      <td>era1</td>\n",
       "      <td>train</td>\n",
       "      <td>0.00</td>\n",
       "      <td>0.00</td>\n",
       "      <td>0.00</td>\n",
       "      <td>0.25</td>\n",
       "      <td>0.5</td>\n",
       "      <td>0.00</td>\n",
       "      <td>0.00</td>\n",
       "      <td>...</td>\n",
       "      <td>1.00</td>\n",
       "      <td>1.00</td>\n",
       "      <td>0.00</td>\n",
       "      <td>0.00</td>\n",
       "      <td>0.75</td>\n",
       "      <td>0.25</td>\n",
       "      <td>0.00</td>\n",
       "      <td>0.25</td>\n",
       "      <td>1.00</td>\n",
       "      <td>0.25</td>\n",
       "    </tr>\n",
       "    <tr>\n",
       "      <th>2</th>\n",
       "      <td>n001c93979ac41d4</td>\n",
       "      <td>era1</td>\n",
       "      <td>train</td>\n",
       "      <td>0.25</td>\n",
       "      <td>0.50</td>\n",
       "      <td>0.25</td>\n",
       "      <td>0.25</td>\n",
       "      <td>1.0</td>\n",
       "      <td>0.75</td>\n",
       "      <td>0.75</td>\n",
       "      <td>...</td>\n",
       "      <td>0.25</td>\n",
       "      <td>0.50</td>\n",
       "      <td>0.00</td>\n",
       "      <td>0.00</td>\n",
       "      <td>0.50</td>\n",
       "      <td>1.00</td>\n",
       "      <td>0.00</td>\n",
       "      <td>0.25</td>\n",
       "      <td>0.75</td>\n",
       "      <td>0.25</td>\n",
       "    </tr>\n",
       "    <tr>\n",
       "      <th>3</th>\n",
       "      <td>n0034e4143f22a13</td>\n",
       "      <td>era1</td>\n",
       "      <td>train</td>\n",
       "      <td>1.00</td>\n",
       "      <td>0.00</td>\n",
       "      <td>0.00</td>\n",
       "      <td>0.50</td>\n",
       "      <td>0.5</td>\n",
       "      <td>0.25</td>\n",
       "      <td>0.25</td>\n",
       "      <td>...</td>\n",
       "      <td>1.00</td>\n",
       "      <td>1.00</td>\n",
       "      <td>0.75</td>\n",
       "      <td>0.75</td>\n",
       "      <td>1.00</td>\n",
       "      <td>1.00</td>\n",
       "      <td>0.75</td>\n",
       "      <td>1.00</td>\n",
       "      <td>1.00</td>\n",
       "      <td>0.25</td>\n",
       "    </tr>\n",
       "    <tr>\n",
       "      <th>4</th>\n",
       "      <td>n00679d1a636062f</td>\n",
       "      <td>era1</td>\n",
       "      <td>train</td>\n",
       "      <td>0.25</td>\n",
       "      <td>0.25</td>\n",
       "      <td>0.25</td>\n",
       "      <td>0.25</td>\n",
       "      <td>0.0</td>\n",
       "      <td>0.25</td>\n",
       "      <td>0.50</td>\n",
       "      <td>...</td>\n",
       "      <td>0.75</td>\n",
       "      <td>0.75</td>\n",
       "      <td>0.25</td>\n",
       "      <td>0.50</td>\n",
       "      <td>0.75</td>\n",
       "      <td>0.00</td>\n",
       "      <td>0.50</td>\n",
       "      <td>0.25</td>\n",
       "      <td>0.75</td>\n",
       "      <td>0.75</td>\n",
       "    </tr>\n",
       "  </tbody>\n",
       "</table>\n",
       "<p>5 rows × 314 columns</p>\n",
       "</div>"
      ],
      "text/plain": [
       "                 id   era data_type  feature_intelligence1  \\\n",
       "0  n000315175b67977  era1     train                   0.00   \n",
       "1  n0014af834a96cdd  era1     train                   0.00   \n",
       "2  n001c93979ac41d4  era1     train                   0.25   \n",
       "3  n0034e4143f22a13  era1     train                   1.00   \n",
       "4  n00679d1a636062f  era1     train                   0.25   \n",
       "\n",
       "   feature_intelligence2  feature_intelligence3  feature_intelligence4  \\\n",
       "0                   0.50                   0.25                   0.00   \n",
       "1                   0.00                   0.00                   0.25   \n",
       "2                   0.50                   0.25                   0.25   \n",
       "3                   0.00                   0.00                   0.50   \n",
       "4                   0.25                   0.25                   0.25   \n",
       "\n",
       "   feature_intelligence5  feature_intelligence6  feature_intelligence7  ...  \\\n",
       "0                    0.5                   0.25                   0.25  ...   \n",
       "1                    0.5                   0.00                   0.00  ...   \n",
       "2                    1.0                   0.75                   0.75  ...   \n",
       "3                    0.5                   0.25                   0.25  ...   \n",
       "4                    0.0                   0.25                   0.50  ...   \n",
       "\n",
       "   feature_wisdom38  feature_wisdom39  feature_wisdom40  feature_wisdom41  \\\n",
       "0              1.00              1.00              0.75              0.50   \n",
       "1              1.00              1.00              0.00              0.00   \n",
       "2              0.25              0.50              0.00              0.00   \n",
       "3              1.00              1.00              0.75              0.75   \n",
       "4              0.75              0.75              0.25              0.50   \n",
       "\n",
       "   feature_wisdom42  feature_wisdom43  feature_wisdom44  feature_wisdom45  \\\n",
       "0              0.75              0.50              1.00              0.50   \n",
       "1              0.75              0.25              0.00              0.25   \n",
       "2              0.50              1.00              0.00              0.25   \n",
       "3              1.00              1.00              0.75              1.00   \n",
       "4              0.75              0.00              0.50              0.25   \n",
       "\n",
       "   feature_wisdom46  target  \n",
       "0              0.75    0.50  \n",
       "1              1.00    0.25  \n",
       "2              0.75    0.25  \n",
       "3              1.00    0.25  \n",
       "4              0.75    0.75  \n",
       "\n",
       "[5 rows x 314 columns]"
      ]
     },
     "execution_count": 4,
     "metadata": {},
     "output_type": "execute_result"
    }
   ],
   "source": [
    "# download the latest training dataset (takes around 30s)\n",
    "# training_data = pd.read_csv(\"latest_numerai_training_data.csv.xz\")\n",
    "training_data = pd.read_csv(\"https://numerai-public-datasets.s3-us-west-2.amazonaws.com/latest_numerai_training_data.csv.xz\")\n",
    "training_data.head()"
   ]
  },
  {
   "cell_type": "code",
   "execution_count": 5,
   "metadata": {},
   "outputs": [
    {
     "data": {
      "text/html": [
       "<div>\n",
       "<style scoped>\n",
       "    .dataframe tbody tr th:only-of-type {\n",
       "        vertical-align: middle;\n",
       "    }\n",
       "\n",
       "    .dataframe tbody tr th {\n",
       "        vertical-align: top;\n",
       "    }\n",
       "\n",
       "    .dataframe thead th {\n",
       "        text-align: right;\n",
       "    }\n",
       "</style>\n",
       "<table border=\"1\" class=\"dataframe\">\n",
       "  <thead>\n",
       "    <tr style=\"text-align: right;\">\n",
       "      <th></th>\n",
       "      <th>id</th>\n",
       "      <th>era</th>\n",
       "      <th>data_type</th>\n",
       "      <th>feature_intelligence1</th>\n",
       "      <th>feature_intelligence2</th>\n",
       "      <th>feature_intelligence3</th>\n",
       "      <th>feature_intelligence4</th>\n",
       "      <th>feature_intelligence5</th>\n",
       "      <th>feature_intelligence6</th>\n",
       "      <th>feature_intelligence7</th>\n",
       "      <th>...</th>\n",
       "      <th>feature_wisdom38</th>\n",
       "      <th>feature_wisdom39</th>\n",
       "      <th>feature_wisdom40</th>\n",
       "      <th>feature_wisdom41</th>\n",
       "      <th>feature_wisdom42</th>\n",
       "      <th>feature_wisdom43</th>\n",
       "      <th>feature_wisdom44</th>\n",
       "      <th>feature_wisdom45</th>\n",
       "      <th>feature_wisdom46</th>\n",
       "      <th>target</th>\n",
       "    </tr>\n",
       "  </thead>\n",
       "  <tbody>\n",
       "    <tr>\n",
       "      <th>0</th>\n",
       "      <td>n0003aa52cab36c2</td>\n",
       "      <td>era121</td>\n",
       "      <td>validation</td>\n",
       "      <td>0.25</td>\n",
       "      <td>0.75</td>\n",
       "      <td>0.50</td>\n",
       "      <td>0.50</td>\n",
       "      <td>0.0</td>\n",
       "      <td>0.75</td>\n",
       "      <td>0.5</td>\n",
       "      <td>...</td>\n",
       "      <td>0.75</td>\n",
       "      <td>0.75</td>\n",
       "      <td>1.00</td>\n",
       "      <td>0.75</td>\n",
       "      <td>0.50</td>\n",
       "      <td>0.5</td>\n",
       "      <td>1.0</td>\n",
       "      <td>0.00</td>\n",
       "      <td>0.00</td>\n",
       "      <td>0.25</td>\n",
       "    </tr>\n",
       "    <tr>\n",
       "      <th>1</th>\n",
       "      <td>n000920ed083903f</td>\n",
       "      <td>era121</td>\n",
       "      <td>validation</td>\n",
       "      <td>0.75</td>\n",
       "      <td>0.50</td>\n",
       "      <td>0.75</td>\n",
       "      <td>1.00</td>\n",
       "      <td>0.5</td>\n",
       "      <td>0.00</td>\n",
       "      <td>0.0</td>\n",
       "      <td>...</td>\n",
       "      <td>0.50</td>\n",
       "      <td>0.50</td>\n",
       "      <td>0.75</td>\n",
       "      <td>1.00</td>\n",
       "      <td>0.75</td>\n",
       "      <td>0.5</td>\n",
       "      <td>0.5</td>\n",
       "      <td>0.50</td>\n",
       "      <td>0.50</td>\n",
       "      <td>0.50</td>\n",
       "    </tr>\n",
       "    <tr>\n",
       "      <th>2</th>\n",
       "      <td>n0038e640522c4a6</td>\n",
       "      <td>era121</td>\n",
       "      <td>validation</td>\n",
       "      <td>1.00</td>\n",
       "      <td>0.00</td>\n",
       "      <td>0.00</td>\n",
       "      <td>1.00</td>\n",
       "      <td>1.0</td>\n",
       "      <td>1.00</td>\n",
       "      <td>1.0</td>\n",
       "      <td>...</td>\n",
       "      <td>0.00</td>\n",
       "      <td>0.00</td>\n",
       "      <td>0.50</td>\n",
       "      <td>0.25</td>\n",
       "      <td>0.00</td>\n",
       "      <td>0.0</td>\n",
       "      <td>0.5</td>\n",
       "      <td>0.50</td>\n",
       "      <td>0.00</td>\n",
       "      <td>1.00</td>\n",
       "    </tr>\n",
       "    <tr>\n",
       "      <th>3</th>\n",
       "      <td>n004ac94a87dc54b</td>\n",
       "      <td>era121</td>\n",
       "      <td>validation</td>\n",
       "      <td>0.75</td>\n",
       "      <td>1.00</td>\n",
       "      <td>1.00</td>\n",
       "      <td>0.50</td>\n",
       "      <td>0.0</td>\n",
       "      <td>0.00</td>\n",
       "      <td>0.0</td>\n",
       "      <td>...</td>\n",
       "      <td>0.00</td>\n",
       "      <td>0.00</td>\n",
       "      <td>0.00</td>\n",
       "      <td>0.25</td>\n",
       "      <td>0.00</td>\n",
       "      <td>0.0</td>\n",
       "      <td>0.0</td>\n",
       "      <td>0.25</td>\n",
       "      <td>0.25</td>\n",
       "      <td>0.50</td>\n",
       "    </tr>\n",
       "    <tr>\n",
       "      <th>4</th>\n",
       "      <td>n0052fe97ea0c05f</td>\n",
       "      <td>era121</td>\n",
       "      <td>validation</td>\n",
       "      <td>0.25</td>\n",
       "      <td>0.50</td>\n",
       "      <td>0.50</td>\n",
       "      <td>0.25</td>\n",
       "      <td>1.0</td>\n",
       "      <td>0.50</td>\n",
       "      <td>0.5</td>\n",
       "      <td>...</td>\n",
       "      <td>0.50</td>\n",
       "      <td>0.75</td>\n",
       "      <td>0.00</td>\n",
       "      <td>0.00</td>\n",
       "      <td>0.75</td>\n",
       "      <td>1.0</td>\n",
       "      <td>0.0</td>\n",
       "      <td>0.25</td>\n",
       "      <td>1.00</td>\n",
       "      <td>0.75</td>\n",
       "    </tr>\n",
       "  </tbody>\n",
       "</table>\n",
       "<p>5 rows × 314 columns</p>\n",
       "</div>"
      ],
      "text/plain": [
       "                 id     era   data_type  feature_intelligence1  \\\n",
       "0  n0003aa52cab36c2  era121  validation                   0.25   \n",
       "1  n000920ed083903f  era121  validation                   0.75   \n",
       "2  n0038e640522c4a6  era121  validation                   1.00   \n",
       "3  n004ac94a87dc54b  era121  validation                   0.75   \n",
       "4  n0052fe97ea0c05f  era121  validation                   0.25   \n",
       "\n",
       "   feature_intelligence2  feature_intelligence3  feature_intelligence4  \\\n",
       "0                   0.75                   0.50                   0.50   \n",
       "1                   0.50                   0.75                   1.00   \n",
       "2                   0.00                   0.00                   1.00   \n",
       "3                   1.00                   1.00                   0.50   \n",
       "4                   0.50                   0.50                   0.25   \n",
       "\n",
       "   feature_intelligence5  feature_intelligence6  feature_intelligence7  ...  \\\n",
       "0                    0.0                   0.75                    0.5  ...   \n",
       "1                    0.5                   0.00                    0.0  ...   \n",
       "2                    1.0                   1.00                    1.0  ...   \n",
       "3                    0.0                   0.00                    0.0  ...   \n",
       "4                    1.0                   0.50                    0.5  ...   \n",
       "\n",
       "   feature_wisdom38  feature_wisdom39  feature_wisdom40  feature_wisdom41  \\\n",
       "0              0.75              0.75              1.00              0.75   \n",
       "1              0.50              0.50              0.75              1.00   \n",
       "2              0.00              0.00              0.50              0.25   \n",
       "3              0.00              0.00              0.00              0.25   \n",
       "4              0.50              0.75              0.00              0.00   \n",
       "\n",
       "   feature_wisdom42  feature_wisdom43  feature_wisdom44  feature_wisdom45  \\\n",
       "0              0.50               0.5               1.0              0.00   \n",
       "1              0.75               0.5               0.5              0.50   \n",
       "2              0.00               0.0               0.5              0.50   \n",
       "3              0.00               0.0               0.0              0.25   \n",
       "4              0.75               1.0               0.0              0.25   \n",
       "\n",
       "   feature_wisdom46  target  \n",
       "0              0.00    0.25  \n",
       "1              0.50    0.50  \n",
       "2              0.00    1.00  \n",
       "3              0.25    0.50  \n",
       "4              1.00    0.75  \n",
       "\n",
       "[5 rows x 314 columns]"
      ]
     },
     "execution_count": 5,
     "metadata": {},
     "output_type": "execute_result"
    }
   ],
   "source": [
    "# download the latest tournament dataset (takes around 30s)\n",
    "# tournament_data = pd.read_csv(\"latest_numerai_tournament_data.csv.xz\")\n",
    "tournament_data = pd.read_csv(\"https://numerai-public-datasets.s3-us-west-2.amazonaws.com/latest_numerai_tournament_data.csv.xz\")\n",
    "tournament_data.head()"
   ]
  },
  {
   "cell_type": "code",
   "execution_count": 6,
   "metadata": {},
   "outputs": [],
   "source": [
    "TARGET_NAME=\"target\"\n",
    "\n",
    "feature_cols = tournament_data.columns[tournament_data.columns.str.startswith('feature')]\n",
    "feats_and_target = feature_cols.to_list().copy()\n",
    "feats_and_target.append(TARGET_NAME)\n"
   ]
  },
  {
   "cell_type": "code",
   "execution_count": 7,
   "metadata": {},
   "outputs": [
    {
     "data": {
      "text/html": [
       "<div>\n",
       "<style scoped>\n",
       "    .dataframe tbody tr th:only-of-type {\n",
       "        vertical-align: middle;\n",
       "    }\n",
       "\n",
       "    .dataframe tbody tr th {\n",
       "        vertical-align: top;\n",
       "    }\n",
       "\n",
       "    .dataframe thead th {\n",
       "        text-align: right;\n",
       "    }\n",
       "</style>\n",
       "<table border=\"1\" class=\"dataframe\">\n",
       "  <thead>\n",
       "    <tr style=\"text-align: right;\">\n",
       "      <th></th>\n",
       "      <th>id</th>\n",
       "      <th>era</th>\n",
       "      <th>data_type</th>\n",
       "      <th>feature_intelligence1</th>\n",
       "      <th>feature_intelligence2</th>\n",
       "      <th>feature_intelligence3</th>\n",
       "      <th>feature_intelligence4</th>\n",
       "      <th>feature_intelligence5</th>\n",
       "      <th>feature_intelligence6</th>\n",
       "      <th>feature_intelligence7</th>\n",
       "      <th>...</th>\n",
       "      <th>feature_wisdom38</th>\n",
       "      <th>feature_wisdom39</th>\n",
       "      <th>feature_wisdom40</th>\n",
       "      <th>feature_wisdom41</th>\n",
       "      <th>feature_wisdom42</th>\n",
       "      <th>feature_wisdom43</th>\n",
       "      <th>feature_wisdom44</th>\n",
       "      <th>feature_wisdom45</th>\n",
       "      <th>feature_wisdom46</th>\n",
       "      <th>target</th>\n",
       "    </tr>\n",
       "  </thead>\n",
       "  <tbody>\n",
       "    <tr>\n",
       "      <th>0</th>\n",
       "      <td>n0003aa52cab36c2</td>\n",
       "      <td>era121</td>\n",
       "      <td>validation</td>\n",
       "      <td>0.25</td>\n",
       "      <td>0.75</td>\n",
       "      <td>0.50</td>\n",
       "      <td>0.50</td>\n",
       "      <td>0.00</td>\n",
       "      <td>0.75</td>\n",
       "      <td>0.50</td>\n",
       "      <td>...</td>\n",
       "      <td>0.75</td>\n",
       "      <td>0.75</td>\n",
       "      <td>1.00</td>\n",
       "      <td>0.75</td>\n",
       "      <td>0.50</td>\n",
       "      <td>0.50</td>\n",
       "      <td>1.00</td>\n",
       "      <td>0.00</td>\n",
       "      <td>0.00</td>\n",
       "      <td>0.25</td>\n",
       "    </tr>\n",
       "    <tr>\n",
       "      <th>1</th>\n",
       "      <td>n000920ed083903f</td>\n",
       "      <td>era121</td>\n",
       "      <td>validation</td>\n",
       "      <td>0.75</td>\n",
       "      <td>0.50</td>\n",
       "      <td>0.75</td>\n",
       "      <td>1.00</td>\n",
       "      <td>0.50</td>\n",
       "      <td>0.00</td>\n",
       "      <td>0.00</td>\n",
       "      <td>...</td>\n",
       "      <td>0.50</td>\n",
       "      <td>0.50</td>\n",
       "      <td>0.75</td>\n",
       "      <td>1.00</td>\n",
       "      <td>0.75</td>\n",
       "      <td>0.50</td>\n",
       "      <td>0.50</td>\n",
       "      <td>0.50</td>\n",
       "      <td>0.50</td>\n",
       "      <td>0.50</td>\n",
       "    </tr>\n",
       "    <tr>\n",
       "      <th>2</th>\n",
       "      <td>n0038e640522c4a6</td>\n",
       "      <td>era121</td>\n",
       "      <td>validation</td>\n",
       "      <td>1.00</td>\n",
       "      <td>0.00</td>\n",
       "      <td>0.00</td>\n",
       "      <td>1.00</td>\n",
       "      <td>1.00</td>\n",
       "      <td>1.00</td>\n",
       "      <td>1.00</td>\n",
       "      <td>...</td>\n",
       "      <td>0.00</td>\n",
       "      <td>0.00</td>\n",
       "      <td>0.50</td>\n",
       "      <td>0.25</td>\n",
       "      <td>0.00</td>\n",
       "      <td>0.00</td>\n",
       "      <td>0.50</td>\n",
       "      <td>0.50</td>\n",
       "      <td>0.00</td>\n",
       "      <td>1.00</td>\n",
       "    </tr>\n",
       "    <tr>\n",
       "      <th>3</th>\n",
       "      <td>n004ac94a87dc54b</td>\n",
       "      <td>era121</td>\n",
       "      <td>validation</td>\n",
       "      <td>0.75</td>\n",
       "      <td>1.00</td>\n",
       "      <td>1.00</td>\n",
       "      <td>0.50</td>\n",
       "      <td>0.00</td>\n",
       "      <td>0.00</td>\n",
       "      <td>0.00</td>\n",
       "      <td>...</td>\n",
       "      <td>0.00</td>\n",
       "      <td>0.00</td>\n",
       "      <td>0.00</td>\n",
       "      <td>0.25</td>\n",
       "      <td>0.00</td>\n",
       "      <td>0.00</td>\n",
       "      <td>0.00</td>\n",
       "      <td>0.25</td>\n",
       "      <td>0.25</td>\n",
       "      <td>0.50</td>\n",
       "    </tr>\n",
       "    <tr>\n",
       "      <th>4</th>\n",
       "      <td>n0052fe97ea0c05f</td>\n",
       "      <td>era121</td>\n",
       "      <td>validation</td>\n",
       "      <td>0.25</td>\n",
       "      <td>0.50</td>\n",
       "      <td>0.50</td>\n",
       "      <td>0.25</td>\n",
       "      <td>1.00</td>\n",
       "      <td>0.50</td>\n",
       "      <td>0.50</td>\n",
       "      <td>...</td>\n",
       "      <td>0.50</td>\n",
       "      <td>0.75</td>\n",
       "      <td>0.00</td>\n",
       "      <td>0.00</td>\n",
       "      <td>0.75</td>\n",
       "      <td>1.00</td>\n",
       "      <td>0.00</td>\n",
       "      <td>0.25</td>\n",
       "      <td>1.00</td>\n",
       "      <td>0.75</td>\n",
       "    </tr>\n",
       "    <tr>\n",
       "      <th>...</th>\n",
       "      <td>...</td>\n",
       "      <td>...</td>\n",
       "      <td>...</td>\n",
       "      <td>...</td>\n",
       "      <td>...</td>\n",
       "      <td>...</td>\n",
       "      <td>...</td>\n",
       "      <td>...</td>\n",
       "      <td>...</td>\n",
       "      <td>...</td>\n",
       "      <td>...</td>\n",
       "      <td>...</td>\n",
       "      <td>...</td>\n",
       "      <td>...</td>\n",
       "      <td>...</td>\n",
       "      <td>...</td>\n",
       "      <td>...</td>\n",
       "      <td>...</td>\n",
       "      <td>...</td>\n",
       "      <td>...</td>\n",
       "      <td>...</td>\n",
       "    </tr>\n",
       "    <tr>\n",
       "      <th>1545360</th>\n",
       "      <td>nffb61f786fe2a96</td>\n",
       "      <td>era212</td>\n",
       "      <td>validation</td>\n",
       "      <td>0.00</td>\n",
       "      <td>0.50</td>\n",
       "      <td>0.75</td>\n",
       "      <td>0.00</td>\n",
       "      <td>0.50</td>\n",
       "      <td>0.50</td>\n",
       "      <td>0.50</td>\n",
       "      <td>...</td>\n",
       "      <td>1.00</td>\n",
       "      <td>1.00</td>\n",
       "      <td>1.00</td>\n",
       "      <td>1.00</td>\n",
       "      <td>1.00</td>\n",
       "      <td>0.75</td>\n",
       "      <td>0.75</td>\n",
       "      <td>0.75</td>\n",
       "      <td>1.00</td>\n",
       "      <td>0.50</td>\n",
       "    </tr>\n",
       "    <tr>\n",
       "      <th>1545361</th>\n",
       "      <td>nffbe101615ad597</td>\n",
       "      <td>era212</td>\n",
       "      <td>validation</td>\n",
       "      <td>0.75</td>\n",
       "      <td>0.75</td>\n",
       "      <td>0.75</td>\n",
       "      <td>0.75</td>\n",
       "      <td>0.25</td>\n",
       "      <td>0.25</td>\n",
       "      <td>0.25</td>\n",
       "      <td>...</td>\n",
       "      <td>0.75</td>\n",
       "      <td>0.75</td>\n",
       "      <td>0.25</td>\n",
       "      <td>0.25</td>\n",
       "      <td>0.75</td>\n",
       "      <td>0.75</td>\n",
       "      <td>0.25</td>\n",
       "      <td>0.50</td>\n",
       "      <td>0.75</td>\n",
       "      <td>0.25</td>\n",
       "    </tr>\n",
       "    <tr>\n",
       "      <th>1545362</th>\n",
       "      <td>nffc1dc801a3318a</td>\n",
       "      <td>era212</td>\n",
       "      <td>validation</td>\n",
       "      <td>0.25</td>\n",
       "      <td>1.00</td>\n",
       "      <td>0.50</td>\n",
       "      <td>0.00</td>\n",
       "      <td>0.00</td>\n",
       "      <td>0.25</td>\n",
       "      <td>0.50</td>\n",
       "      <td>...</td>\n",
       "      <td>0.25</td>\n",
       "      <td>0.50</td>\n",
       "      <td>0.00</td>\n",
       "      <td>0.00</td>\n",
       "      <td>0.25</td>\n",
       "      <td>0.25</td>\n",
       "      <td>0.00</td>\n",
       "      <td>0.75</td>\n",
       "      <td>0.75</td>\n",
       "      <td>0.50</td>\n",
       "    </tr>\n",
       "    <tr>\n",
       "      <th>1545363</th>\n",
       "      <td>nffc376c3127112d</td>\n",
       "      <td>era212</td>\n",
       "      <td>validation</td>\n",
       "      <td>0.00</td>\n",
       "      <td>0.75</td>\n",
       "      <td>0.75</td>\n",
       "      <td>0.00</td>\n",
       "      <td>0.75</td>\n",
       "      <td>0.50</td>\n",
       "      <td>0.75</td>\n",
       "      <td>...</td>\n",
       "      <td>0.50</td>\n",
       "      <td>0.50</td>\n",
       "      <td>0.75</td>\n",
       "      <td>0.75</td>\n",
       "      <td>0.25</td>\n",
       "      <td>0.25</td>\n",
       "      <td>0.75</td>\n",
       "      <td>0.50</td>\n",
       "      <td>0.50</td>\n",
       "      <td>1.00</td>\n",
       "    </tr>\n",
       "    <tr>\n",
       "      <th>1545364</th>\n",
       "      <td>nffe5d84fb971b26</td>\n",
       "      <td>era212</td>\n",
       "      <td>validation</td>\n",
       "      <td>0.00</td>\n",
       "      <td>0.50</td>\n",
       "      <td>0.50</td>\n",
       "      <td>0.25</td>\n",
       "      <td>0.50</td>\n",
       "      <td>0.25</td>\n",
       "      <td>0.25</td>\n",
       "      <td>...</td>\n",
       "      <td>0.25</td>\n",
       "      <td>0.00</td>\n",
       "      <td>0.75</td>\n",
       "      <td>0.50</td>\n",
       "      <td>0.00</td>\n",
       "      <td>0.00</td>\n",
       "      <td>0.75</td>\n",
       "      <td>0.25</td>\n",
       "      <td>0.50</td>\n",
       "      <td>0.50</td>\n",
       "    </tr>\n",
       "  </tbody>\n",
       "</table>\n",
       "<p>137779 rows × 314 columns</p>\n",
       "</div>"
      ],
      "text/plain": [
       "                       id     era   data_type  feature_intelligence1  \\\n",
       "0        n0003aa52cab36c2  era121  validation                   0.25   \n",
       "1        n000920ed083903f  era121  validation                   0.75   \n",
       "2        n0038e640522c4a6  era121  validation                   1.00   \n",
       "3        n004ac94a87dc54b  era121  validation                   0.75   \n",
       "4        n0052fe97ea0c05f  era121  validation                   0.25   \n",
       "...                   ...     ...         ...                    ...   \n",
       "1545360  nffb61f786fe2a96  era212  validation                   0.00   \n",
       "1545361  nffbe101615ad597  era212  validation                   0.75   \n",
       "1545362  nffc1dc801a3318a  era212  validation                   0.25   \n",
       "1545363  nffc376c3127112d  era212  validation                   0.00   \n",
       "1545364  nffe5d84fb971b26  era212  validation                   0.00   \n",
       "\n",
       "         feature_intelligence2  feature_intelligence3  feature_intelligence4  \\\n",
       "0                         0.75                   0.50                   0.50   \n",
       "1                         0.50                   0.75                   1.00   \n",
       "2                         0.00                   0.00                   1.00   \n",
       "3                         1.00                   1.00                   0.50   \n",
       "4                         0.50                   0.50                   0.25   \n",
       "...                        ...                    ...                    ...   \n",
       "1545360                   0.50                   0.75                   0.00   \n",
       "1545361                   0.75                   0.75                   0.75   \n",
       "1545362                   1.00                   0.50                   0.00   \n",
       "1545363                   0.75                   0.75                   0.00   \n",
       "1545364                   0.50                   0.50                   0.25   \n",
       "\n",
       "         feature_intelligence5  feature_intelligence6  feature_intelligence7  \\\n",
       "0                         0.00                   0.75                   0.50   \n",
       "1                         0.50                   0.00                   0.00   \n",
       "2                         1.00                   1.00                   1.00   \n",
       "3                         0.00                   0.00                   0.00   \n",
       "4                         1.00                   0.50                   0.50   \n",
       "...                        ...                    ...                    ...   \n",
       "1545360                   0.50                   0.50                   0.50   \n",
       "1545361                   0.25                   0.25                   0.25   \n",
       "1545362                   0.00                   0.25                   0.50   \n",
       "1545363                   0.75                   0.50                   0.75   \n",
       "1545364                   0.50                   0.25                   0.25   \n",
       "\n",
       "         ...  feature_wisdom38  feature_wisdom39  feature_wisdom40  \\\n",
       "0        ...              0.75              0.75              1.00   \n",
       "1        ...              0.50              0.50              0.75   \n",
       "2        ...              0.00              0.00              0.50   \n",
       "3        ...              0.00              0.00              0.00   \n",
       "4        ...              0.50              0.75              0.00   \n",
       "...      ...               ...               ...               ...   \n",
       "1545360  ...              1.00              1.00              1.00   \n",
       "1545361  ...              0.75              0.75              0.25   \n",
       "1545362  ...              0.25              0.50              0.00   \n",
       "1545363  ...              0.50              0.50              0.75   \n",
       "1545364  ...              0.25              0.00              0.75   \n",
       "\n",
       "         feature_wisdom41  feature_wisdom42  feature_wisdom43  \\\n",
       "0                    0.75              0.50              0.50   \n",
       "1                    1.00              0.75              0.50   \n",
       "2                    0.25              0.00              0.00   \n",
       "3                    0.25              0.00              0.00   \n",
       "4                    0.00              0.75              1.00   \n",
       "...                   ...               ...               ...   \n",
       "1545360              1.00              1.00              0.75   \n",
       "1545361              0.25              0.75              0.75   \n",
       "1545362              0.00              0.25              0.25   \n",
       "1545363              0.75              0.25              0.25   \n",
       "1545364              0.50              0.00              0.00   \n",
       "\n",
       "         feature_wisdom44  feature_wisdom45  feature_wisdom46  target  \n",
       "0                    1.00              0.00              0.00    0.25  \n",
       "1                    0.50              0.50              0.50    0.50  \n",
       "2                    0.50              0.50              0.00    1.00  \n",
       "3                    0.00              0.25              0.25    0.50  \n",
       "4                    0.00              0.25              1.00    0.75  \n",
       "...                   ...               ...               ...     ...  \n",
       "1545360              0.75              0.75              1.00    0.50  \n",
       "1545361              0.25              0.50              0.75    0.25  \n",
       "1545362              0.00              0.75              0.75    0.50  \n",
       "1545363              0.75              0.50              0.50    1.00  \n",
       "1545364              0.75              0.25              0.50    0.50  \n",
       "\n",
       "[137779 rows x 314 columns]"
      ]
     },
     "execution_count": 7,
     "metadata": {},
     "output_type": "execute_result"
    }
   ],
   "source": [
    "validation = tournament_data[tournament_data[\"data_type\"]==\"validation\"].copy()\n",
    "validation"
   ]
  },
  {
   "cell_type": "code",
   "execution_count": 178,
   "metadata": {},
   "outputs": [],
   "source": [
    "validation = validation.reset_index().reindex().drop('index', axis=1)"
   ]
  },
  {
   "cell_type": "code",
   "execution_count": 8,
   "metadata": {},
   "outputs": [
    {
     "data": {
      "text/html": [
       "<div>\n",
       "<style scoped>\n",
       "    .dataframe tbody tr th:only-of-type {\n",
       "        vertical-align: middle;\n",
       "    }\n",
       "\n",
       "    .dataframe tbody tr th {\n",
       "        vertical-align: top;\n",
       "    }\n",
       "\n",
       "    .dataframe thead th {\n",
       "        text-align: right;\n",
       "    }\n",
       "</style>\n",
       "<table border=\"1\" class=\"dataframe\">\n",
       "  <thead>\n",
       "    <tr style=\"text-align: right;\">\n",
       "      <th></th>\n",
       "      <th>id</th>\n",
       "      <th>era</th>\n",
       "      <th>data_type</th>\n",
       "      <th>feature_intelligence1</th>\n",
       "      <th>feature_intelligence2</th>\n",
       "      <th>feature_intelligence3</th>\n",
       "      <th>feature_intelligence4</th>\n",
       "      <th>feature_intelligence5</th>\n",
       "      <th>feature_intelligence6</th>\n",
       "      <th>feature_intelligence7</th>\n",
       "      <th>...</th>\n",
       "      <th>feature_wisdom38</th>\n",
       "      <th>feature_wisdom39</th>\n",
       "      <th>feature_wisdom40</th>\n",
       "      <th>feature_wisdom41</th>\n",
       "      <th>feature_wisdom42</th>\n",
       "      <th>feature_wisdom43</th>\n",
       "      <th>feature_wisdom44</th>\n",
       "      <th>feature_wisdom45</th>\n",
       "      <th>feature_wisdom46</th>\n",
       "      <th>target</th>\n",
       "    </tr>\n",
       "  </thead>\n",
       "  <tbody>\n",
       "    <tr>\n",
       "      <th>0</th>\n",
       "      <td>n000315175b67977</td>\n",
       "      <td>era1</td>\n",
       "      <td>train</td>\n",
       "      <td>0.00</td>\n",
       "      <td>0.50</td>\n",
       "      <td>0.25</td>\n",
       "      <td>0.00</td>\n",
       "      <td>0.50</td>\n",
       "      <td>0.25</td>\n",
       "      <td>0.25</td>\n",
       "      <td>...</td>\n",
       "      <td>1.00</td>\n",
       "      <td>1.00</td>\n",
       "      <td>0.75</td>\n",
       "      <td>0.50</td>\n",
       "      <td>0.75</td>\n",
       "      <td>0.50</td>\n",
       "      <td>1.00</td>\n",
       "      <td>0.50</td>\n",
       "      <td>0.75</td>\n",
       "      <td>0.50</td>\n",
       "    </tr>\n",
       "    <tr>\n",
       "      <th>1</th>\n",
       "      <td>n0014af834a96cdd</td>\n",
       "      <td>era1</td>\n",
       "      <td>train</td>\n",
       "      <td>0.00</td>\n",
       "      <td>0.00</td>\n",
       "      <td>0.00</td>\n",
       "      <td>0.25</td>\n",
       "      <td>0.50</td>\n",
       "      <td>0.00</td>\n",
       "      <td>0.00</td>\n",
       "      <td>...</td>\n",
       "      <td>1.00</td>\n",
       "      <td>1.00</td>\n",
       "      <td>0.00</td>\n",
       "      <td>0.00</td>\n",
       "      <td>0.75</td>\n",
       "      <td>0.25</td>\n",
       "      <td>0.00</td>\n",
       "      <td>0.25</td>\n",
       "      <td>1.00</td>\n",
       "      <td>0.25</td>\n",
       "    </tr>\n",
       "    <tr>\n",
       "      <th>2</th>\n",
       "      <td>n001c93979ac41d4</td>\n",
       "      <td>era1</td>\n",
       "      <td>train</td>\n",
       "      <td>0.25</td>\n",
       "      <td>0.50</td>\n",
       "      <td>0.25</td>\n",
       "      <td>0.25</td>\n",
       "      <td>1.00</td>\n",
       "      <td>0.75</td>\n",
       "      <td>0.75</td>\n",
       "      <td>...</td>\n",
       "      <td>0.25</td>\n",
       "      <td>0.50</td>\n",
       "      <td>0.00</td>\n",
       "      <td>0.00</td>\n",
       "      <td>0.50</td>\n",
       "      <td>1.00</td>\n",
       "      <td>0.00</td>\n",
       "      <td>0.25</td>\n",
       "      <td>0.75</td>\n",
       "      <td>0.25</td>\n",
       "    </tr>\n",
       "    <tr>\n",
       "      <th>3</th>\n",
       "      <td>n0034e4143f22a13</td>\n",
       "      <td>era1</td>\n",
       "      <td>train</td>\n",
       "      <td>1.00</td>\n",
       "      <td>0.00</td>\n",
       "      <td>0.00</td>\n",
       "      <td>0.50</td>\n",
       "      <td>0.50</td>\n",
       "      <td>0.25</td>\n",
       "      <td>0.25</td>\n",
       "      <td>...</td>\n",
       "      <td>1.00</td>\n",
       "      <td>1.00</td>\n",
       "      <td>0.75</td>\n",
       "      <td>0.75</td>\n",
       "      <td>1.00</td>\n",
       "      <td>1.00</td>\n",
       "      <td>0.75</td>\n",
       "      <td>1.00</td>\n",
       "      <td>1.00</td>\n",
       "      <td>0.25</td>\n",
       "    </tr>\n",
       "    <tr>\n",
       "      <th>4</th>\n",
       "      <td>n00679d1a636062f</td>\n",
       "      <td>era1</td>\n",
       "      <td>train</td>\n",
       "      <td>0.25</td>\n",
       "      <td>0.25</td>\n",
       "      <td>0.25</td>\n",
       "      <td>0.25</td>\n",
       "      <td>0.00</td>\n",
       "      <td>0.25</td>\n",
       "      <td>0.50</td>\n",
       "      <td>...</td>\n",
       "      <td>0.75</td>\n",
       "      <td>0.75</td>\n",
       "      <td>0.25</td>\n",
       "      <td>0.50</td>\n",
       "      <td>0.75</td>\n",
       "      <td>0.00</td>\n",
       "      <td>0.50</td>\n",
       "      <td>0.25</td>\n",
       "      <td>0.75</td>\n",
       "      <td>0.75</td>\n",
       "    </tr>\n",
       "    <tr>\n",
       "      <th>...</th>\n",
       "      <td>...</td>\n",
       "      <td>...</td>\n",
       "      <td>...</td>\n",
       "      <td>...</td>\n",
       "      <td>...</td>\n",
       "      <td>...</td>\n",
       "      <td>...</td>\n",
       "      <td>...</td>\n",
       "      <td>...</td>\n",
       "      <td>...</td>\n",
       "      <td>...</td>\n",
       "      <td>...</td>\n",
       "      <td>...</td>\n",
       "      <td>...</td>\n",
       "      <td>...</td>\n",
       "      <td>...</td>\n",
       "      <td>...</td>\n",
       "      <td>...</td>\n",
       "      <td>...</td>\n",
       "      <td>...</td>\n",
       "      <td>...</td>\n",
       "    </tr>\n",
       "    <tr>\n",
       "      <th>1665893</th>\n",
       "      <td>nffcbaaa118a9c2a</td>\n",
       "      <td>eraX</td>\n",
       "      <td>live</td>\n",
       "      <td>0.50</td>\n",
       "      <td>0.75</td>\n",
       "      <td>0.50</td>\n",
       "      <td>1.00</td>\n",
       "      <td>0.25</td>\n",
       "      <td>0.25</td>\n",
       "      <td>0.25</td>\n",
       "      <td>...</td>\n",
       "      <td>0.50</td>\n",
       "      <td>0.00</td>\n",
       "      <td>0.25</td>\n",
       "      <td>0.25</td>\n",
       "      <td>0.00</td>\n",
       "      <td>0.25</td>\n",
       "      <td>0.25</td>\n",
       "      <td>0.25</td>\n",
       "      <td>0.25</td>\n",
       "      <td>NaN</td>\n",
       "    </tr>\n",
       "    <tr>\n",
       "      <th>1665894</th>\n",
       "      <td>nffd1dc6e0f798a6</td>\n",
       "      <td>eraX</td>\n",
       "      <td>live</td>\n",
       "      <td>1.00</td>\n",
       "      <td>0.50</td>\n",
       "      <td>0.75</td>\n",
       "      <td>0.75</td>\n",
       "      <td>1.00</td>\n",
       "      <td>0.75</td>\n",
       "      <td>0.75</td>\n",
       "      <td>...</td>\n",
       "      <td>0.00</td>\n",
       "      <td>0.00</td>\n",
       "      <td>0.00</td>\n",
       "      <td>0.00</td>\n",
       "      <td>0.25</td>\n",
       "      <td>0.75</td>\n",
       "      <td>0.00</td>\n",
       "      <td>0.50</td>\n",
       "      <td>0.00</td>\n",
       "      <td>NaN</td>\n",
       "    </tr>\n",
       "    <tr>\n",
       "      <th>1665895</th>\n",
       "      <td>nffdfcf0fb116595</td>\n",
       "      <td>eraX</td>\n",
       "      <td>live</td>\n",
       "      <td>1.00</td>\n",
       "      <td>1.00</td>\n",
       "      <td>1.00</td>\n",
       "      <td>1.00</td>\n",
       "      <td>0.00</td>\n",
       "      <td>0.00</td>\n",
       "      <td>0.00</td>\n",
       "      <td>...</td>\n",
       "      <td>0.00</td>\n",
       "      <td>0.25</td>\n",
       "      <td>0.00</td>\n",
       "      <td>0.00</td>\n",
       "      <td>0.25</td>\n",
       "      <td>0.50</td>\n",
       "      <td>0.00</td>\n",
       "      <td>0.25</td>\n",
       "      <td>0.25</td>\n",
       "      <td>NaN</td>\n",
       "    </tr>\n",
       "    <tr>\n",
       "      <th>1665896</th>\n",
       "      <td>nfff187c15c3ede1</td>\n",
       "      <td>eraX</td>\n",
       "      <td>live</td>\n",
       "      <td>0.75</td>\n",
       "      <td>0.50</td>\n",
       "      <td>0.50</td>\n",
       "      <td>0.75</td>\n",
       "      <td>0.25</td>\n",
       "      <td>0.25</td>\n",
       "      <td>0.25</td>\n",
       "      <td>...</td>\n",
       "      <td>0.00</td>\n",
       "      <td>0.00</td>\n",
       "      <td>1.00</td>\n",
       "      <td>1.00</td>\n",
       "      <td>0.25</td>\n",
       "      <td>1.00</td>\n",
       "      <td>1.00</td>\n",
       "      <td>0.00</td>\n",
       "      <td>0.25</td>\n",
       "      <td>NaN</td>\n",
       "    </tr>\n",
       "    <tr>\n",
       "      <th>1665897</th>\n",
       "      <td>nfffe16fb4524553</td>\n",
       "      <td>eraX</td>\n",
       "      <td>live</td>\n",
       "      <td>0.25</td>\n",
       "      <td>0.00</td>\n",
       "      <td>0.00</td>\n",
       "      <td>0.00</td>\n",
       "      <td>0.00</td>\n",
       "      <td>1.00</td>\n",
       "      <td>0.75</td>\n",
       "      <td>...</td>\n",
       "      <td>0.50</td>\n",
       "      <td>0.50</td>\n",
       "      <td>1.00</td>\n",
       "      <td>1.00</td>\n",
       "      <td>0.50</td>\n",
       "      <td>0.25</td>\n",
       "      <td>1.00</td>\n",
       "      <td>0.50</td>\n",
       "      <td>0.25</td>\n",
       "      <td>NaN</td>\n",
       "    </tr>\n",
       "  </tbody>\n",
       "</table>\n",
       "<p>2167706 rows × 314 columns</p>\n",
       "</div>"
      ],
      "text/plain": [
       "                       id   era data_type  feature_intelligence1  \\\n",
       "0        n000315175b67977  era1     train                   0.00   \n",
       "1        n0014af834a96cdd  era1     train                   0.00   \n",
       "2        n001c93979ac41d4  era1     train                   0.25   \n",
       "3        n0034e4143f22a13  era1     train                   1.00   \n",
       "4        n00679d1a636062f  era1     train                   0.25   \n",
       "...                   ...   ...       ...                    ...   \n",
       "1665893  nffcbaaa118a9c2a  eraX      live                   0.50   \n",
       "1665894  nffd1dc6e0f798a6  eraX      live                   1.00   \n",
       "1665895  nffdfcf0fb116595  eraX      live                   1.00   \n",
       "1665896  nfff187c15c3ede1  eraX      live                   0.75   \n",
       "1665897  nfffe16fb4524553  eraX      live                   0.25   \n",
       "\n",
       "         feature_intelligence2  feature_intelligence3  feature_intelligence4  \\\n",
       "0                         0.50                   0.25                   0.00   \n",
       "1                         0.00                   0.00                   0.25   \n",
       "2                         0.50                   0.25                   0.25   \n",
       "3                         0.00                   0.00                   0.50   \n",
       "4                         0.25                   0.25                   0.25   \n",
       "...                        ...                    ...                    ...   \n",
       "1665893                   0.75                   0.50                   1.00   \n",
       "1665894                   0.50                   0.75                   0.75   \n",
       "1665895                   1.00                   1.00                   1.00   \n",
       "1665896                   0.50                   0.50                   0.75   \n",
       "1665897                   0.00                   0.00                   0.00   \n",
       "\n",
       "         feature_intelligence5  feature_intelligence6  feature_intelligence7  \\\n",
       "0                         0.50                   0.25                   0.25   \n",
       "1                         0.50                   0.00                   0.00   \n",
       "2                         1.00                   0.75                   0.75   \n",
       "3                         0.50                   0.25                   0.25   \n",
       "4                         0.00                   0.25                   0.50   \n",
       "...                        ...                    ...                    ...   \n",
       "1665893                   0.25                   0.25                   0.25   \n",
       "1665894                   1.00                   0.75                   0.75   \n",
       "1665895                   0.00                   0.00                   0.00   \n",
       "1665896                   0.25                   0.25                   0.25   \n",
       "1665897                   0.00                   1.00                   0.75   \n",
       "\n",
       "         ...  feature_wisdom38  feature_wisdom39  feature_wisdom40  \\\n",
       "0        ...              1.00              1.00              0.75   \n",
       "1        ...              1.00              1.00              0.00   \n",
       "2        ...              0.25              0.50              0.00   \n",
       "3        ...              1.00              1.00              0.75   \n",
       "4        ...              0.75              0.75              0.25   \n",
       "...      ...               ...               ...               ...   \n",
       "1665893  ...              0.50              0.00              0.25   \n",
       "1665894  ...              0.00              0.00              0.00   \n",
       "1665895  ...              0.00              0.25              0.00   \n",
       "1665896  ...              0.00              0.00              1.00   \n",
       "1665897  ...              0.50              0.50              1.00   \n",
       "\n",
       "         feature_wisdom41  feature_wisdom42  feature_wisdom43  \\\n",
       "0                    0.50              0.75              0.50   \n",
       "1                    0.00              0.75              0.25   \n",
       "2                    0.00              0.50              1.00   \n",
       "3                    0.75              1.00              1.00   \n",
       "4                    0.50              0.75              0.00   \n",
       "...                   ...               ...               ...   \n",
       "1665893              0.25              0.00              0.25   \n",
       "1665894              0.00              0.25              0.75   \n",
       "1665895              0.00              0.25              0.50   \n",
       "1665896              1.00              0.25              1.00   \n",
       "1665897              1.00              0.50              0.25   \n",
       "\n",
       "         feature_wisdom44  feature_wisdom45  feature_wisdom46  target  \n",
       "0                    1.00              0.50              0.75    0.50  \n",
       "1                    0.00              0.25              1.00    0.25  \n",
       "2                    0.00              0.25              0.75    0.25  \n",
       "3                    0.75              1.00              1.00    0.25  \n",
       "4                    0.50              0.25              0.75    0.75  \n",
       "...                   ...               ...               ...     ...  \n",
       "1665893              0.25              0.25              0.25     NaN  \n",
       "1665894              0.00              0.50              0.00     NaN  \n",
       "1665895              0.00              0.25              0.25     NaN  \n",
       "1665896              1.00              0.00              0.25     NaN  \n",
       "1665897              1.00              0.50              0.25     NaN  \n",
       "\n",
       "[2167706 rows x 314 columns]"
      ]
     },
     "execution_count": 8,
     "metadata": {},
     "output_type": "execute_result"
    }
   ],
   "source": [
    "allData = pd.concat((training_data, tournament_data))\n",
    "allData"
   ]
  },
  {
   "cell_type": "code",
   "execution_count": 117,
   "metadata": {},
   "outputs": [
    {
     "name": "stdout",
     "output_type": "stream",
     "text": [
      "Model: \"model_43\"\n",
      "__________________________________________________________________________________________________\n",
      "Layer (type)                    Output Shape         Param #     Connected to                     \n",
      "==================================================================================================\n",
      "input_30 (InputLayer)           [(None, 310)]        0                                            \n",
      "__________________________________________________________________________________________________\n",
      "dense_139 (Dense)               (None, 512)          159232      input_30[0][0]                   \n",
      "__________________________________________________________________________________________________\n",
      "batch_normalization_105 (BatchN (None, 512)          2048        dense_139[0][0]                  \n",
      "__________________________________________________________________________________________________\n",
      "dropout_105 (Dropout)           (None, 512)          0           batch_normalization_105[0][0]    \n",
      "__________________________________________________________________________________________________\n",
      "dense_140 (Dense)               (None, 256)          131328      dropout_105[0][0]                \n",
      "__________________________________________________________________________________________________\n",
      "batch_normalization_106 (BatchN (None, 256)          1024        dense_140[0][0]                  \n",
      "__________________________________________________________________________________________________\n",
      "dropout_106 (Dropout)           (None, 256)          0           batch_normalization_106[0][0]    \n",
      "__________________________________________________________________________________________________\n",
      "dense_141 (Dense)               (None, 128)          32896       dropout_106[0][0]                \n",
      "__________________________________________________________________________________________________\n",
      "batch_normalization_107 (BatchN (None, 128)          512         dense_141[0][0]                  \n",
      "__________________________________________________________________________________________________\n",
      "dropout_107 (Dropout)           (None, 128)          0           batch_normalization_107[0][0]    \n",
      "__________________________________________________________________________________________________\n",
      "dense_142 (Dense)               (None, 85)           10965       dropout_107[0][0]                \n",
      "__________________________________________________________________________________________________\n",
      "batch_normalization_108 (BatchN (None, 85)           340         dense_142[0][0]                  \n",
      "__________________________________________________________________________________________________\n",
      "dropout_108 (Dropout)           (None, 85)           0           batch_normalization_108[0][0]    \n",
      "__________________________________________________________________________________________________\n",
      "l2_norm (Lambda)                (None, 85)           0           dropout_108[0][0]                \n",
      "__________________________________________________________________________________________________\n",
      "dense_143 (Dense)               (None, 310)          26660       l2_norm[0][0]                    \n",
      "__________________________________________________________________________________________________\n",
      "l_neut (Dense)                  (None, 1)            86          l2_norm[0][0]                    \n",
      "==================================================================================================\n",
      "Total params: 365,091\n",
      "Trainable params: 363,129\n",
      "Non-trainable params: 1,962\n",
      "__________________________________________________________________________________________________\n"
     ]
    }
   ],
   "source": [
    "from sklearn.model_selection import train_test_split\n",
    "from sklearn import decomposition\n",
    "import umap\n",
    "SEED=1234\n",
    "\n",
    "\n",
    "\n",
    "def generateEncodeModel(num_feats=310):\n",
    "    \"\"\"\n",
    "    yield a simple MLP with metric learning\n",
    "    \n",
    "    \"\"\"\n",
    "\n",
    "\n",
    "    # adapted from https://github.com/ghmagazine/kagglebook/blob/master/ch06/ch06-03-hopt_nn.py\n",
    "    params = {\n",
    "        'input_dropout': 0.0,\n",
    "        'hidden_layers': 4,\n",
    "        'hidden_units': 512,\n",
    "        'hidden_activation': 'relu',\n",
    "        'dropout': 0.1,\n",
    "        'lr': 1e-3,\n",
    "        'batch_size': 10000,\n",
    "        'epochs': 192\n",
    "    }\n",
    "    # NN model architecture\n",
    "    n_neuron = params['hidden_units']\n",
    "\n",
    "    inputs = tf.keras.layers.Input(shape=(num_feats, ))\n",
    "    x = tf.keras.layers.Dense(n_neuron, activation=params['hidden_activation'])(inputs)\n",
    "    x = tf.keras.layers.BatchNormalization()(x)\n",
    "    x = tf.keras.layers.Dropout(params['dropout'])(x)\n",
    "\n",
    "    # stack hidden layers\n",
    "    for i in np.arange(params['hidden_layers'] - 1):\n",
    "        x = tf.keras.layers.Dense(n_neuron // (2 * (i+1)), activation=params['hidden_activation'])(x)\n",
    "        x = tf.keras.layers.BatchNormalization()(x)\n",
    "        x = tf.keras.layers.Dropout(params['dropout'])(x)\n",
    "        \n",
    "    x = tf.keras.layers.Lambda(lambda x: tf.math.l2_normalize(x, axis=1), name='l2_norm')(x) # L2 normalize embeddings!\n",
    "    out = tf.keras.layers.Dense(num_feats,)(x)\n",
    "    out2 = tf.keras.layers.Dense(1,name='l_neut')(x)\n",
    "   \n",
    "    # output\n",
    "    model = tf.keras.models.Model(inputs=inputs, outputs=[out, out2])\n",
    "\n",
    "    # compile\n",
    "    loss = tf.keras.losses.MeanSquaredError()\n",
    "    opt = tf.keras.optimizers.Adam(lr=params['lr'])\n",
    "    model.compile(loss=loss, optimizer=opt)\n",
    "    \n",
    "    return model\n",
    "\n",
    "# extract embedding features\n",
    "\n",
    "def extract_emb(best_model, x_train, layer_name='l2_norm', method='umap'):\n",
    "    \n",
    "    hidden_model = tf.keras.models.Model(inputs=best_model.input,\n",
    "                         outputs=best_model.get_layer(layer_name).output)\n",
    "\n",
    "    # input train, get embedded outputs\n",
    "    train_dist = hidden_model.predict(x_train)\n",
    "    \n",
    "    return train_dist\n",
    "\n",
    "model = generateEncodeModel(310)\n",
    "model.summary()"
   ]
  },
  {
   "cell_type": "code",
   "execution_count": 23,
   "metadata": {},
   "outputs": [
    {
     "data": {
      "text/plain": [
       "'./ae_model'"
      ]
     },
     "execution_count": 23,
     "metadata": {},
     "output_type": "execute_result"
    }
   ],
   "source": [
    "Ranker.AE_MODEL_PATH"
   ]
  },
  {
   "cell_type": "code",
   "execution_count": 256,
   "metadata": {},
   "outputs": [],
   "source": [
    "from sklearn.linear_model import LinearRegression\n",
    "\n",
    "def neutralize_series(Y, X, data):\n",
    "    \"\"\"\n",
    "    neutralize pandas series (originally from the Numerai Tournament)\n",
    "    \"\"\"\n",
    "    lm = LinearRegression()\n",
    "    lm.fit(data[[Y]], data[X])\n",
    "    neutralized_feature = data[X] - lm.predict(data[[Y]])\n",
    "    \n",
    "    return neutralized_feature, lm\n",
    "\n",
    "def neutralize_group(train, target='target', feature_cols=[]):\n",
    "    allnts = []\n",
    "    for f in feature_cols:\n",
    "    # neut\n",
    "        neut, lm = neutralize_series(target, f, train)      \n",
    "        # assign\n",
    "        train[f] = neut.values\n",
    "        allnts.append(lm)\n",
    "    return train, allnts\n",
    "\n",
    "def neutralize(series,by, proportion):\n",
    "    scores = series.values.reshape(-1, 1)\n",
    "    exposures = by.values.reshape(-1, 1)\n",
    "    exposures = np.hstack((exposures, np.array([np.mean(series)] * len(exposures)).reshape(-1, 1)))\n",
    "    correction = proportion * (exposures.dot(np.linalg.lstsq(exposures, scores)[0]))\n",
    "    corrected_scores = scores - correction\n",
    "    neutralized = pd.Series(corrected_scores.ravel(), index=series.index)\n",
    "    return neutralized\n",
    "\n",
    "def spearmanr(target, pred):\n",
    "    return np.corrcoef(\n",
    "        target,\n",
    "        pred.rank(pct=True, method=\"first\")\n",
    "    )[0, 1]\n",
    "def ar1(x):\n",
    "    return np.corrcoef(x[:-1], x[1:])[0,1]\n",
    "\n",
    "\n",
    "def finalneutralize(series,by, proportion):\n",
    "    scores = series.values.reshape(-1, 1)\n",
    "    exposures = by.values.reshape(-1, 1)\n",
    "    exposures = np.hstack((exposures, np.array([np.mean(series)] * len(exposures)).reshape(-1, 1)))\n",
    "    correction = proportion * (exposures.dot(np.linalg.lstsq(exposures, scores)[0]))\n",
    "    corrected_scores = scores - correction\n",
    "    neutralized = pd.Series(corrected_scores.ravel(), index=series.index)\n",
    "    return neutralized\n",
    "    "
   ]
  },
  {
   "cell_type": "code",
   "execution_count": 310,
   "metadata": {},
   "outputs": [],
   "source": [
    "\n",
    "\n",
    "class Ranker():\n",
    "    \n",
    "    AE_MODEL_PATH='./ae_model'\n",
    "    def __init__(self, \n",
    "                 fullData=None, \n",
    "                 groupbyField='era', \n",
    "                 train_dataset=None, \n",
    "                 validation_dataset=None, \n",
    "                 numNeutralizedFeats=10,\n",
    "                 feature_cols=None,\n",
    "                 target_col=None,                 \n",
    "                 encode_model_path=None,\n",
    "                 neutralizedTrain=None\n",
    "                ):\n",
    "        \n",
    "        self.fullData = fullData\n",
    "        self.groupbyField=groupbyField\n",
    "        self.train_dataset = train_dataset\n",
    "        self.validation_dataset = validation_dataset\n",
    "        self.numNeutralizedFeats = numNeutralizedFeats\n",
    "        self.feature_cols = feature_cols\n",
    "        self.target_col = target_col\n",
    "        self.feats_and_target = self.feature_cols.to_list().copy()\n",
    "        self.feats_and_target.append(self.target_col)        \n",
    "        self.encode_model_path = encode_model_path\n",
    "        self.neutralizedTrain=neutralizedTrain\n",
    "        \n",
    "        self.neutralizeTrain()\n",
    "        self.reduceDimension()\n",
    "\n",
    "        \n",
    "    def reduceDimension(self):\n",
    "        \"\"\"\n",
    "        We need reduce the original dataset dimension in order the reduce the dimensionality \n",
    "        and perform the operations faster\n",
    "        By removing some high correlated feature by netrualize them again other feats\n",
    "        we can improve the generalitzacion on unseen data\n",
    "        Experiment and determine the number of gold features\n",
    "        Final and trainable dataset should be = numNetualizedFeats*(encode_dim-numNeutralizedFeatures)\n",
    "        \"\"\"\n",
    "        \n",
    "        if self.encode_model_path:\n",
    "            self.encode_model = generateEncodeModel(len(self.feature_cols))\n",
    "            self.encode_model.load_weights(self.encode_model_path)\n",
    "        else:\n",
    "            self.encode_model = generateEncodeModel(len(self.feature_cols))\n",
    "            \n",
    "            \n",
    "            X_train, X_test, y_train, y_test, y_target_train, y_target_test = train_test_split(self.train_dataset[self.feature_cols].values, \n",
    "                                                                self.neutralizedTrain[self.feature_cols].values, \n",
    "                                                                self.train_dataset[self.target_col].values,                                                                                                \n",
    "                                                                test_size=0.33, \n",
    "                                                                random_state=42)\n",
    "            \n",
    "            train_set = {'X': X_train, 'y':[y_train,y_target_train]}\n",
    "            valid_set = {'X': X_test, 'y': [y_test, y_target_test]}\n",
    "            early_stop = tf.keras.callbacks.EarlyStopping(patience=4, restore_best_weights=True, monitor='val_loss')\n",
    "            reduce_lr = tf.keras.callbacks.ReduceLROnPlateau(monitor='val_loss', factor=0.1, patience=8, verbose=1, mode='min')\n",
    "            model_checkpoint_callback = tf.keras.callbacks.ModelCheckpoint(filepath=Ranker.AE_MODEL_PATH, \n",
    "                                    save_weights_only=True, verbose=0, monitor='val_loss', save_best_only=True)\n",
    "\n",
    "            # fit            \n",
    "            self.ae_history = self.encode_model.fit(train_set['X'], train_set['y'], \n",
    "                                   callbacks=[reduce_lr, model_checkpoint_callback, early_stop], \n",
    "                                   verbose=2, epochs=150, batch_size=10000,\n",
    "                                   validation_data=(valid_set['X'], valid_set['y'])) \n",
    "            \n",
    "            self.encode_model.save_weights(Ranker.AE_MODEL_PATH)\n",
    "            \n",
    "        pass\n",
    "        \n",
    "    def prepareTrainableDataSet(self):\n",
    "        # 1.- Autoencode for train and autoencode port validation\n",
    "        self.train_encode = extract_emb(self.encode_model, self.train_dataset[self.feature_cols].values)\n",
    "        self.val_encode = extract_emb(self.encode_model, self.validation_dataset[self.feature_cols].values)\n",
    "        \n",
    "        \n",
    "        self.features_encoded = [x for x in range(self.train_encode.shape[1])]\n",
    "        \n",
    "        self.feats_and_targetneu = self.feature_cols.to_list().copy()\n",
    "        self.feats_and_targetneu.append('pred_neut')     \n",
    "        \n",
    "        # for train dataset\n",
    "        by = extract_emb(self.encode_model, self.train_dataset[self.feature_cols].values, layer_name='l_neut')\n",
    "        \n",
    "        self.train_dataset['pred_neut'] = by        \n",
    "\n",
    "        \n",
    "        allFrames = []\n",
    "        for group in self.train_dataset[self.groupbyField].unique():\n",
    "\n",
    "            train, _ = neutralize_group(self.train_dataset[self.train_dataset[self.groupbyField] == group][self.feats_and_targetneu].copy(), target='pred_neut', feature_cols=self.feature_cols)\n",
    "            allFrames.append(train)\n",
    "                    \n",
    "        neutData = pd.concat(allFrames, axis=0) \n",
    "        \n",
    "        self.train_encode=pd.DataFrame(self.train_encode)\n",
    "        \n",
    "        self.train_encode['group'] = self.train_dataset[self.groupbyField].values\n",
    "        self.train_encode['target'] = self.train_dataset[self.target_col].values\n",
    "        \n",
    "        # used for train raw neutrailzed data and encoders layer l2_norm\n",
    "        self.train_encode = pd.concat((self.train_encode, neutData), axis=1)\n",
    "        \n",
    "        \n",
    "        # for validation dataset\n",
    "        by = extract_emb(self.encode_model, self.validation_dataset[self.feature_cols].values, layer_name='l_neut')\n",
    "        self.validation_dataset['pred_neut'] = by        \n",
    "        \n",
    "        allFrames = []\n",
    "        for group in self.validation_dataset[self.groupbyField].unique():\n",
    "\n",
    "            train, _ = neutralize_group(self.validation_dataset[self.validation_dataset[self.groupbyField] == group][self.feats_and_targetneu].copy(), target='pred_neut', feature_cols=self.feature_cols)\n",
    "            allFrames.append(train)\n",
    "                    \n",
    "        neutData = pd.concat(allFrames, axis=0) \n",
    "        \n",
    "        \n",
    "        self.val_encode=pd.DataFrame(self.val_encode)\n",
    "        \n",
    "        self.val_encode['group'] = self.validation_dataset[self.groupbyField].values\n",
    "        self.val_encode['target'] = self.validation_dataset[self.target_col].values\n",
    "        \n",
    "        # used for val raw neutrailzed data and encoders layer l2_norm\n",
    "        self.val_encode = pd.concat((self.val_encode, neutData), axis=1)\n",
    "        print(\"DataSet Ready\")\n",
    "        \n",
    "    def neutralizeTrain(self):\n",
    "        \n",
    "        if not isinstance(self.neutralizedTrain,pd.DataFrame):\n",
    "            allFrames = []\n",
    "            allNts = []\n",
    "            for group in self.train_dataset[self.groupbyField].unique():\n",
    "\n",
    "                train, _ = neutralize_group(self.train_dataset[self.train_dataset[self.groupbyField] == group][self.feats_and_target].copy(), target=self.target_col, feature_cols=self.feature_cols)\n",
    "                allFrames.append(train)\n",
    "                allNts.append(_)\n",
    "    \n",
    "            self.neutralizedTrain = pd.concat(allFrames, axis=0)    \n",
    "\n",
    "    def perdict_int(self, data):\n",
    "        data = data.copy()\n",
    "        data = data.reset_index().reindex().drop('index', axis=1)    \n",
    "        encode_data = extract_emb(self.encode_model, data[self.feature_cols].values)    \n",
    "        by = extract_emb(self.encode_model, data[self.feature_cols].values, layer_name='l_neut')\n",
    "\n",
    "        data['pred_neut'] = by        \n",
    "        dataNeut, _ = neutralize_group(data[self.feats_and_targetneu].copy(), target='pred_neut', feature_cols=self.feature_cols)        \n",
    "\n",
    "        data=pd.DataFrame(encode_data)\n",
    "\n",
    "        # used for val raw neutrailzed data and encoders layer l2_norm\n",
    "        data = pd.concat((data, dataNeut), axis=1)\n",
    "\n",
    "        feats =  self.features_encoded + [col for col in self.feature_cols]\n",
    "\n",
    "        pred = np.mean([finalneutralize(pd.Series(model.predict(data[feats].values)), \n",
    "                                        pd.Series(by.reshape(-1)), 0.8).values for model in self.allmodels], \n",
    "                        axis=0)\n",
    "\n",
    "        return pred\n",
    "\n",
    "    def predict_val(self):\n",
    "        scores = []\n",
    "\n",
    "        for group in self.validation_dataset[self.groupbyField].unique():    \n",
    "            predictions = self.perdict_int(self.validation_dataset[self.validation_dataset[self.groupbyField]==group])\n",
    "            score = np.corrcoef(self.validation_dataset[self.validation_dataset[self.groupbyField]==group]['target'], \n",
    "                                pd.Series(predictions).rank(pct=True, method=\"first\"))[0][1]\n",
    "            scores.append(score)\n",
    "            print(\"Score group {} - correlation {}\".format(group, score))\n",
    "\n",
    "        print(\"Autocrrelation\", ar1(scores))\n",
    "        print(\"AVG Score:\",np.mean(scores))\n",
    "        print(\"Rshape:\",np.mean(scores)/np.std(scores))\n",
    "        return np.mean(scores)/np.std(scores)  \n",
    "\n",
    "    def train_groups(self):\n",
    "        self.allmodels = []\n",
    "        feats =  self.features_encoded + [col for col in self.feature_cols]\n",
    "\n",
    "        for x in range(len(self.train_encode['group'].unique())-5):\n",
    "        #for x in range(100):            \n",
    "            # train_groups = np.random.choice(self.train_encode['group'].unique(), 70)\n",
    "            train_groups = self.train_encode['group'].unique()[x:x+5]\n",
    "            print(\"train groups\", train_groups)\n",
    "            train_X = self.train_encode[self.train_encode['group'].isin(train_groups)][feats].values\n",
    "            train_y = self.train_encode[self.train_encode['group'].isin(train_groups)]['target'].values\n",
    "            test_X = self.train_encode[~self.train_encode['group'].isin(train_groups)][feats].values\n",
    "            test_y = self.train_encode[~self.train_encode['group'].isin(train_groups)]['target'].values\n",
    "\n",
    "            model = CatBoostRegressor(iterations=1000,    \n",
    "                            verbose=False,\n",
    "                            #use_best_model=True,\n",
    "                            # depth=6,\n",
    "                            # subsample=0.7,\n",
    "                            # l2_leaf_reg=7,\n",
    "                            # random_strength=0.2,\n",
    "                            # bagging_temperature=0.3,\n",
    "\n",
    "                            # learning_rate=0.003,\n",
    "                            #     custom_loss=['Accuracy'],\n",
    "                            #     eval_metric='Accuracy',   \n",
    "                            task_type=\"GPU\",  \n",
    "                           devices='0:1')\n",
    "\n",
    "            model.fit(train_X, train_y, \n",
    "                      # eval_set = (test_X, test_y), \n",
    "                      # early_stopping_rounds=200, \n",
    "                      plot=False)   \n",
    "            self.allmodels.append(model)\n",
    "\n",
    "            if x%5==0 and x>0:\n",
    "                self.predict_val()    \n",
    "                \n",
    "    def load_models(self):\n",
    "        #TODO\n",
    "        pass\n",
    "    def save_models(self):\n",
    "        #TODO\n",
    "        pass\n",
    "    def train(self):\n",
    "        self.prepareTrainableDataSet()\n",
    "        self.train_groups()"
   ]
  },
  {
   "cell_type": "code",
   "execution_count": null,
   "metadata": {},
   "outputs": [],
   "source": []
  },
  {
   "cell_type": "code",
   "execution_count": null,
   "metadata": {},
   "outputs": [],
   "source": []
  },
  {
   "cell_type": "code",
   "execution_count": null,
   "metadata": {},
   "outputs": [],
   "source": []
  },
  {
   "cell_type": "code",
   "execution_count": 112,
   "metadata": {
    "scrolled": true
   },
   "outputs": [
    {
     "name": "stdout",
     "output_type": "stream",
     "text": [
      "Epoch 1/150\n",
      "34/34 - 2s - loss: 0.2935 - dense_131_loss: 0.1158 - dense_132_loss: 0.1777 - val_loss: 0.2368 - val_dense_131_loss: 0.1238 - val_dense_132_loss: 0.1130\n",
      "Epoch 2/150\n",
      "34/34 - 1s - loss: 0.1712 - dense_131_loss: 0.1082 - dense_132_loss: 0.0631 - val_loss: 0.1902 - val_dense_131_loss: 0.1180 - val_dense_132_loss: 0.0723\n",
      "Epoch 3/150\n",
      "34/34 - 1s - loss: 0.1551 - dense_131_loss: 0.0980 - dense_132_loss: 0.0571 - val_loss: 0.1834 - val_dense_131_loss: 0.1151 - val_dense_132_loss: 0.0682\n",
      "Epoch 4/150\n",
      "34/34 - 1s - loss: 0.1473 - dense_131_loss: 0.0914 - dense_132_loss: 0.0559 - val_loss: 0.1741 - val_dense_131_loss: 0.1052 - val_dense_132_loss: 0.0689\n",
      "Epoch 5/150\n",
      "34/34 - 1s - loss: 0.1410 - dense_131_loss: 0.0865 - dense_132_loss: 0.0544 - val_loss: 0.1645 - val_dense_131_loss: 0.0950 - val_dense_132_loss: 0.0695\n",
      "Epoch 6/150\n",
      "34/34 - 1s - loss: 0.1363 - dense_131_loss: 0.0828 - dense_132_loss: 0.0535 - val_loss: 0.1555 - val_dense_131_loss: 0.0881 - val_dense_132_loss: 0.0674\n",
      "Epoch 7/150\n",
      "34/34 - 1s - loss: 0.1330 - dense_131_loss: 0.0799 - dense_132_loss: 0.0531 - val_loss: 0.1449 - val_dense_131_loss: 0.0804 - val_dense_132_loss: 0.0645\n",
      "Epoch 8/150\n",
      "34/34 - 1s - loss: 0.1305 - dense_131_loss: 0.0775 - dense_132_loss: 0.0531 - val_loss: 0.1341 - val_dense_131_loss: 0.0747 - val_dense_132_loss: 0.0595\n",
      "Epoch 9/150\n",
      "34/34 - 1s - loss: 0.1279 - dense_131_loss: 0.0754 - dense_132_loss: 0.0525 - val_loss: 0.1302 - val_dense_131_loss: 0.0719 - val_dense_132_loss: 0.0583\n",
      "Epoch 10/150\n",
      "34/34 - 1s - loss: 0.1257 - dense_131_loss: 0.0734 - dense_132_loss: 0.0523 - val_loss: 0.1263 - val_dense_131_loss: 0.0696 - val_dense_132_loss: 0.0566\n",
      "Epoch 11/150\n",
      "34/34 - 1s - loss: 0.1238 - dense_131_loss: 0.0717 - dense_132_loss: 0.0520 - val_loss: 0.1230 - val_dense_131_loss: 0.0678 - val_dense_132_loss: 0.0551\n",
      "Epoch 12/150\n",
      "34/34 - 1s - loss: 0.1221 - dense_131_loss: 0.0703 - dense_132_loss: 0.0518 - val_loss: 0.1213 - val_dense_131_loss: 0.0663 - val_dense_132_loss: 0.0550\n",
      "Epoch 13/150\n",
      "34/34 - 1s - loss: 0.1206 - dense_131_loss: 0.0689 - dense_132_loss: 0.0517 - val_loss: 0.1189 - val_dense_131_loss: 0.0650 - val_dense_132_loss: 0.0538\n",
      "Epoch 14/150\n",
      "34/34 - 1s - loss: 0.1193 - dense_131_loss: 0.0676 - dense_132_loss: 0.0517 - val_loss: 0.1169 - val_dense_131_loss: 0.0636 - val_dense_132_loss: 0.0534\n",
      "Epoch 15/150\n",
      "34/34 - 1s - loss: 0.1179 - dense_131_loss: 0.0663 - dense_132_loss: 0.0516 - val_loss: 0.1159 - val_dense_131_loss: 0.0621 - val_dense_132_loss: 0.0538\n",
      "Epoch 16/150\n",
      "34/34 - 1s - loss: 0.1166 - dense_131_loss: 0.0652 - dense_132_loss: 0.0514 - val_loss: 0.1142 - val_dense_131_loss: 0.0614 - val_dense_132_loss: 0.0527\n",
      "Epoch 17/150\n",
      "34/34 - 1s - loss: 0.1155 - dense_131_loss: 0.0641 - dense_132_loss: 0.0514 - val_loss: 0.1128 - val_dense_131_loss: 0.0604 - val_dense_132_loss: 0.0525\n",
      "Epoch 18/150\n",
      "34/34 - 1s - loss: 0.1142 - dense_131_loss: 0.0630 - dense_132_loss: 0.0512 - val_loss: 0.1110 - val_dense_131_loss: 0.0588 - val_dense_132_loss: 0.0523\n",
      "Epoch 19/150\n",
      "34/34 - 1s - loss: 0.1133 - dense_131_loss: 0.0620 - dense_132_loss: 0.0513 - val_loss: 0.1096 - val_dense_131_loss: 0.0574 - val_dense_132_loss: 0.0522\n",
      "Epoch 20/150\n",
      "34/34 - 1s - loss: 0.1120 - dense_131_loss: 0.0609 - dense_132_loss: 0.0511 - val_loss: 0.1080 - val_dense_131_loss: 0.0560 - val_dense_132_loss: 0.0520\n",
      "Epoch 21/150\n",
      "34/34 - 1s - loss: 0.1110 - dense_131_loss: 0.0599 - dense_132_loss: 0.0511 - val_loss: 0.1071 - val_dense_131_loss: 0.0551 - val_dense_132_loss: 0.0520\n",
      "Epoch 22/150\n",
      "34/34 - 1s - loss: 0.1098 - dense_131_loss: 0.0588 - dense_132_loss: 0.0510 - val_loss: 0.1060 - val_dense_131_loss: 0.0539 - val_dense_132_loss: 0.0522\n",
      "Epoch 23/150\n",
      "34/34 - 1s - loss: 0.1088 - dense_131_loss: 0.0578 - dense_132_loss: 0.0509 - val_loss: 0.1046 - val_dense_131_loss: 0.0525 - val_dense_132_loss: 0.0521\n",
      "Epoch 24/150\n",
      "34/34 - 1s - loss: 0.1077 - dense_131_loss: 0.0568 - dense_132_loss: 0.0510 - val_loss: 0.1034 - val_dense_131_loss: 0.0516 - val_dense_132_loss: 0.0518\n",
      "Epoch 25/150\n",
      "34/34 - 1s - loss: 0.1066 - dense_131_loss: 0.0557 - dense_132_loss: 0.0509 - val_loss: 0.1025 - val_dense_131_loss: 0.0504 - val_dense_132_loss: 0.0521\n",
      "Epoch 26/150\n",
      "34/34 - 1s - loss: 0.1058 - dense_131_loss: 0.0548 - dense_132_loss: 0.0510 - val_loss: 0.1018 - val_dense_131_loss: 0.0495 - val_dense_132_loss: 0.0523\n",
      "Epoch 27/150\n",
      "34/34 - 1s - loss: 0.1048 - dense_131_loss: 0.0538 - dense_132_loss: 0.0510 - val_loss: 0.1003 - val_dense_131_loss: 0.0482 - val_dense_132_loss: 0.0521\n",
      "Epoch 28/150\n",
      "34/34 - 1s - loss: 0.1036 - dense_131_loss: 0.0528 - dense_132_loss: 0.0509 - val_loss: 0.0993 - val_dense_131_loss: 0.0469 - val_dense_132_loss: 0.0524\n",
      "Epoch 29/150\n",
      "34/34 - 1s - loss: 0.1028 - dense_131_loss: 0.0519 - dense_132_loss: 0.0509 - val_loss: 0.0982 - val_dense_131_loss: 0.0458 - val_dense_132_loss: 0.0524\n",
      "Epoch 30/150\n",
      "34/34 - 1s - loss: 0.1020 - dense_131_loss: 0.0512 - dense_132_loss: 0.0509 - val_loss: 0.0974 - val_dense_131_loss: 0.0447 - val_dense_132_loss: 0.0526\n",
      "Epoch 31/150\n",
      "34/34 - 1s - loss: 0.1012 - dense_131_loss: 0.0504 - dense_132_loss: 0.0508 - val_loss: 0.0958 - val_dense_131_loss: 0.0434 - val_dense_132_loss: 0.0524\n",
      "Epoch 32/150\n",
      "34/34 - 1s - loss: 0.1005 - dense_131_loss: 0.0498 - dense_132_loss: 0.0507 - val_loss: 0.0946 - val_dense_131_loss: 0.0423 - val_dense_132_loss: 0.0523\n",
      "Epoch 33/150\n",
      "34/34 - 1s - loss: 0.0999 - dense_131_loss: 0.0491 - dense_132_loss: 0.0507 - val_loss: 0.0942 - val_dense_131_loss: 0.0415 - val_dense_132_loss: 0.0527\n",
      "Epoch 34/150\n",
      "34/34 - 1s - loss: 0.0992 - dense_131_loss: 0.0485 - dense_132_loss: 0.0507 - val_loss: 0.0928 - val_dense_131_loss: 0.0402 - val_dense_132_loss: 0.0526\n",
      "Epoch 35/150\n",
      "34/34 - 1s - loss: 0.0987 - dense_131_loss: 0.0480 - dense_132_loss: 0.0507 - val_loss: 0.0915 - val_dense_131_loss: 0.0393 - val_dense_132_loss: 0.0522\n",
      "Epoch 36/150\n",
      "34/34 - 1s - loss: 0.0980 - dense_131_loss: 0.0474 - dense_132_loss: 0.0506 - val_loss: 0.0902 - val_dense_131_loss: 0.0382 - val_dense_132_loss: 0.0519\n",
      "Epoch 37/150\n",
      "34/34 - 1s - loss: 0.0976 - dense_131_loss: 0.0469 - dense_132_loss: 0.0507 - val_loss: 0.0894 - val_dense_131_loss: 0.0374 - val_dense_132_loss: 0.0520\n",
      "Epoch 38/150\n",
      "34/34 - 1s - loss: 0.0969 - dense_131_loss: 0.0464 - dense_132_loss: 0.0505 - val_loss: 0.0894 - val_dense_131_loss: 0.0365 - val_dense_132_loss: 0.0529\n",
      "Epoch 39/150\n",
      "34/34 - 1s - loss: 0.0963 - dense_131_loss: 0.0459 - dense_132_loss: 0.0504 - val_loss: 0.0887 - val_dense_131_loss: 0.0359 - val_dense_132_loss: 0.0529\n",
      "Epoch 40/150\n",
      "34/34 - 1s - loss: 0.0959 - dense_131_loss: 0.0455 - dense_132_loss: 0.0503 - val_loss: 0.0883 - val_dense_131_loss: 0.0354 - val_dense_132_loss: 0.0529\n",
      "Epoch 41/150\n",
      "34/34 - 1s - loss: 0.0955 - dense_131_loss: 0.0452 - dense_132_loss: 0.0503 - val_loss: 0.0872 - val_dense_131_loss: 0.0348 - val_dense_132_loss: 0.0524\n",
      "Epoch 42/150\n",
      "34/34 - 1s - loss: 0.0951 - dense_131_loss: 0.0448 - dense_132_loss: 0.0503 - val_loss: 0.0872 - val_dense_131_loss: 0.0340 - val_dense_132_loss: 0.0532\n",
      "Epoch 43/150\n",
      "34/34 - 1s - loss: 0.0948 - dense_131_loss: 0.0446 - dense_132_loss: 0.0502 - val_loss: 0.0870 - val_dense_131_loss: 0.0337 - val_dense_132_loss: 0.0533\n",
      "Epoch 44/150\n",
      "34/34 - 1s - loss: 0.0945 - dense_131_loss: 0.0443 - dense_132_loss: 0.0501 - val_loss: 0.0860 - val_dense_131_loss: 0.0332 - val_dense_132_loss: 0.0527\n",
      "Epoch 45/150\n",
      "34/34 - 1s - loss: 0.0941 - dense_131_loss: 0.0441 - dense_132_loss: 0.0501 - val_loss: 0.0856 - val_dense_131_loss: 0.0329 - val_dense_132_loss: 0.0527\n",
      "Epoch 46/150\n",
      "34/34 - 1s - loss: 0.0939 - dense_131_loss: 0.0439 - dense_132_loss: 0.0501 - val_loss: 0.0848 - val_dense_131_loss: 0.0324 - val_dense_132_loss: 0.0524\n",
      "Epoch 47/150\n",
      "34/34 - 1s - loss: 0.0935 - dense_131_loss: 0.0436 - dense_132_loss: 0.0500 - val_loss: 0.0851 - val_dense_131_loss: 0.0321 - val_dense_132_loss: 0.0529\n",
      "Epoch 48/150\n",
      "34/34 - 1s - loss: 0.0932 - dense_131_loss: 0.0433 - dense_132_loss: 0.0499 - val_loss: 0.0844 - val_dense_131_loss: 0.0316 - val_dense_132_loss: 0.0528\n",
      "Epoch 49/150\n",
      "34/34 - 1s - loss: 0.0929 - dense_131_loss: 0.0431 - dense_132_loss: 0.0498 - val_loss: 0.0839 - val_dense_131_loss: 0.0313 - val_dense_132_loss: 0.0526\n",
      "Epoch 50/150\n",
      "34/34 - 1s - loss: 0.0926 - dense_131_loss: 0.0429 - dense_132_loss: 0.0497 - val_loss: 0.0832 - val_dense_131_loss: 0.0309 - val_dense_132_loss: 0.0523\n"
     ]
    },
    {
     "name": "stdout",
     "output_type": "stream",
     "text": [
      "Epoch 51/150\n",
      "34/34 - 1s - loss: 0.0922 - dense_131_loss: 0.0427 - dense_132_loss: 0.0496 - val_loss: 0.0829 - val_dense_131_loss: 0.0306 - val_dense_132_loss: 0.0523\n",
      "Epoch 52/150\n",
      "34/34 - 1s - loss: 0.0921 - dense_131_loss: 0.0425 - dense_132_loss: 0.0496 - val_loss: 0.0828 - val_dense_131_loss: 0.0304 - val_dense_132_loss: 0.0524\n",
      "Epoch 53/150\n",
      "34/34 - 1s - loss: 0.0920 - dense_131_loss: 0.0424 - dense_132_loss: 0.0496 - val_loss: 0.0826 - val_dense_131_loss: 0.0304 - val_dense_132_loss: 0.0522\n",
      "Epoch 54/150\n",
      "34/34 - 1s - loss: 0.0917 - dense_131_loss: 0.0423 - dense_132_loss: 0.0495 - val_loss: 0.0827 - val_dense_131_loss: 0.0301 - val_dense_132_loss: 0.0526\n",
      "Epoch 55/150\n",
      "34/34 - 1s - loss: 0.0916 - dense_131_loss: 0.0421 - dense_132_loss: 0.0494 - val_loss: 0.0823 - val_dense_131_loss: 0.0299 - val_dense_132_loss: 0.0524\n",
      "Epoch 56/150\n",
      "34/34 - 1s - loss: 0.0914 - dense_131_loss: 0.0420 - dense_132_loss: 0.0494 - val_loss: 0.0817 - val_dense_131_loss: 0.0298 - val_dense_132_loss: 0.0519\n",
      "Epoch 57/150\n",
      "34/34 - 1s - loss: 0.0912 - dense_131_loss: 0.0419 - dense_132_loss: 0.0493 - val_loss: 0.0815 - val_dense_131_loss: 0.0295 - val_dense_132_loss: 0.0520\n",
      "Epoch 58/150\n",
      "34/34 - 1s - loss: 0.0910 - dense_131_loss: 0.0418 - dense_132_loss: 0.0492 - val_loss: 0.0816 - val_dense_131_loss: 0.0294 - val_dense_132_loss: 0.0523\n",
      "Epoch 59/150\n",
      "34/34 - 1s - loss: 0.0908 - dense_131_loss: 0.0416 - dense_132_loss: 0.0491 - val_loss: 0.0820 - val_dense_131_loss: 0.0295 - val_dense_132_loss: 0.0525\n",
      "Epoch 60/150\n",
      "34/34 - 1s - loss: 0.0906 - dense_131_loss: 0.0415 - dense_132_loss: 0.0491 - val_loss: 0.0817 - val_dense_131_loss: 0.0293 - val_dense_132_loss: 0.0524\n",
      "Epoch 61/150\n",
      "34/34 - 1s - loss: 0.0903 - dense_131_loss: 0.0414 - dense_132_loss: 0.0489 - val_loss: 0.0813 - val_dense_131_loss: 0.0291 - val_dense_132_loss: 0.0523\n",
      "Epoch 62/150\n",
      "34/34 - 1s - loss: 0.0903 - dense_131_loss: 0.0413 - dense_132_loss: 0.0490 - val_loss: 0.0810 - val_dense_131_loss: 0.0289 - val_dense_132_loss: 0.0521\n",
      "Epoch 63/150\n",
      "34/34 - 1s - loss: 0.0902 - dense_131_loss: 0.0413 - dense_132_loss: 0.0490 - val_loss: 0.0805 - val_dense_131_loss: 0.0287 - val_dense_132_loss: 0.0518\n",
      "Epoch 64/150\n",
      "34/34 - 1s - loss: 0.0900 - dense_131_loss: 0.0411 - dense_132_loss: 0.0489 - val_loss: 0.0807 - val_dense_131_loss: 0.0285 - val_dense_132_loss: 0.0521\n",
      "Epoch 65/150\n",
      "34/34 - 1s - loss: 0.0898 - dense_131_loss: 0.0410 - dense_132_loss: 0.0488 - val_loss: 0.0807 - val_dense_131_loss: 0.0284 - val_dense_132_loss: 0.0523\n",
      "Epoch 66/150\n",
      "34/34 - 1s - loss: 0.0896 - dense_131_loss: 0.0409 - dense_132_loss: 0.0487 - val_loss: 0.0808 - val_dense_131_loss: 0.0282 - val_dense_132_loss: 0.0526\n",
      "Epoch 67/150\n",
      "34/34 - 1s - loss: 0.0894 - dense_131_loss: 0.0408 - dense_132_loss: 0.0486 - val_loss: 0.0803 - val_dense_131_loss: 0.0280 - val_dense_132_loss: 0.0523\n",
      "Epoch 68/150\n",
      "34/34 - 1s - loss: 0.0892 - dense_131_loss: 0.0406 - dense_132_loss: 0.0485 - val_loss: 0.0797 - val_dense_131_loss: 0.0278 - val_dense_132_loss: 0.0519\n",
      "Epoch 69/150\n",
      "34/34 - 1s - loss: 0.0890 - dense_131_loss: 0.0405 - dense_132_loss: 0.0485 - val_loss: 0.0802 - val_dense_131_loss: 0.0277 - val_dense_132_loss: 0.0525\n",
      "Epoch 70/150\n",
      "34/34 - 1s - loss: 0.0892 - dense_131_loss: 0.0405 - dense_132_loss: 0.0487 - val_loss: 0.0798 - val_dense_131_loss: 0.0275 - val_dense_132_loss: 0.0523\n",
      "Epoch 71/150\n",
      "34/34 - 1s - loss: 0.0889 - dense_131_loss: 0.0404 - dense_132_loss: 0.0485 - val_loss: 0.0799 - val_dense_131_loss: 0.0277 - val_dense_132_loss: 0.0523\n",
      "Epoch 72/150\n",
      "34/34 - 1s - loss: 0.0887 - dense_131_loss: 0.0403 - dense_132_loss: 0.0484 - val_loss: 0.0799 - val_dense_131_loss: 0.0274 - val_dense_132_loss: 0.0525\n"
     ]
    }
   ],
   "source": [
    "ranker = Ranker(fullData=allData,\n",
    "               groupbyField='era', \n",
    "               train_dataset=training_data, \n",
    "               validation_dataset=validation, \n",
    "               numNeutralizedFeats=10,\n",
    "               feature_cols = feature_cols,\n",
    "               target_col = TARGET_NAME,               \n",
    "               encode_model_path=None,\n",
    "               neutralizedTrain=None\n",
    "              )    \n",
    "\n",
    "ranker.train()"
   ]
  },
  {
   "cell_type": "code",
   "execution_count": 113,
   "metadata": {},
   "outputs": [],
   "source": [
    "copyNeut = ranker.neutralizedTrain.copy()"
   ]
  },
  {
   "cell_type": "code",
   "execution_count": 311,
   "metadata": {
    "scrolled": false
   },
   "outputs": [
    {
     "name": "stdout",
     "output_type": "stream",
     "text": [
      "DataSet Ready\n",
      "train groups ['era1' 'era2' 'era3' 'era4' 'era5']\n"
     ]
    },
    {
     "name": "stderr",
     "output_type": "stream",
     "text": [
      "Warning: less than 75% gpu memory available for training. Free: 4284.4375 Total: 5944.625\n"
     ]
    },
    {
     "name": "stdout",
     "output_type": "stream",
     "text": [
      "train groups ['era2' 'era3' 'era4' 'era5' 'era6']\n"
     ]
    },
    {
     "name": "stderr",
     "output_type": "stream",
     "text": [
      "Warning: less than 75% gpu memory available for training. Free: 4283.9375 Total: 5944.625\n"
     ]
    },
    {
     "name": "stdout",
     "output_type": "stream",
     "text": [
      "train groups ['era3' 'era4' 'era5' 'era6' 'era7']\n"
     ]
    },
    {
     "name": "stderr",
     "output_type": "stream",
     "text": [
      "Warning: less than 75% gpu memory available for training. Free: 4267 Total: 5944.625\n"
     ]
    },
    {
     "name": "stdout",
     "output_type": "stream",
     "text": [
      "train groups ['era4' 'era5' 'era6' 'era7' 'era8']\n"
     ]
    },
    {
     "name": "stderr",
     "output_type": "stream",
     "text": [
      "Warning: less than 75% gpu memory available for training. Free: 4280.375 Total: 5944.625\n"
     ]
    },
    {
     "name": "stdout",
     "output_type": "stream",
     "text": [
      "train groups ['era5' 'era6' 'era7' 'era8' 'era9']\n"
     ]
    },
    {
     "name": "stderr",
     "output_type": "stream",
     "text": [
      "Warning: less than 75% gpu memory available for training. Free: 4279.3125 Total: 5944.625\n"
     ]
    },
    {
     "name": "stdout",
     "output_type": "stream",
     "text": [
      "train groups ['era6' 'era7' 'era8' 'era9' 'era10']\n"
     ]
    },
    {
     "name": "stderr",
     "output_type": "stream",
     "text": [
      "Warning: less than 75% gpu memory available for training. Free: 4297.875 Total: 5944.625\n"
     ]
    },
    {
     "name": "stdout",
     "output_type": "stream",
     "text": [
      "Score group era121 - correlation 0.007475274694083618\n",
      "Score group era122 - correlation -0.004653301055219105\n",
      "Score group era123 - correlation 0.02887474071525366\n",
      "Score group era124 - correlation 0.018689010837211664\n",
      "Score group era125 - correlation -0.005410840952499887\n",
      "Score group era126 - correlation 0.01558020121964141\n",
      "Score group era127 - correlation -0.00892157954224216\n",
      "Score group era128 - correlation 0.041754662984630535\n",
      "Score group era129 - correlation -0.01577706914022739\n",
      "Score group era130 - correlation 0.05378955117708517\n",
      "Score group era131 - correlation -0.005427553584207804\n",
      "Score group era132 - correlation 0.038943817184685287\n",
      "Score group era197 - correlation 0.0002423096136079217\n",
      "Score group era198 - correlation 0.005184300448145893\n",
      "Score group era199 - correlation -0.044384689864230366\n",
      "Score group era200 - correlation 0.01612036922152065\n",
      "Score group era201 - correlation 0.03812185987441256\n",
      "Score group era202 - correlation 0.043355764822219936\n",
      "Score group era203 - correlation 0.01812432264826941\n",
      "Score group era204 - correlation 0.026390586371531403\n",
      "Score group era205 - correlation 0.0045254944283275225\n",
      "Score group era206 - correlation 0.006769098192604565\n",
      "Score group era207 - correlation 0.059568874512338346\n",
      "Score group era208 - correlation 0.022709376049890432\n",
      "Score group era209 - correlation -0.003780255702663759\n",
      "Score group era210 - correlation -0.009072780080066822\n",
      "Score group era211 - correlation 0.031143067417403834\n",
      "Score group era212 - correlation 0.009507263264049187\n",
      "Autocrrelation -0.22399690508031297\n",
      "AVG Score: 0.013908638419841274\n",
      "Rshape: 0.610575230199285\n",
      "train groups ['era7' 'era8' 'era9' 'era10' 'era11']\n"
     ]
    },
    {
     "name": "stderr",
     "output_type": "stream",
     "text": [
      "Warning: less than 75% gpu memory available for training. Free: 4279.5625 Total: 5944.625\n"
     ]
    },
    {
     "name": "stdout",
     "output_type": "stream",
     "text": [
      "train groups ['era8' 'era9' 'era10' 'era11' 'era12']\n"
     ]
    },
    {
     "name": "stderr",
     "output_type": "stream",
     "text": [
      "Warning: less than 75% gpu memory available for training. Free: 4286.375 Total: 5944.625\n"
     ]
    },
    {
     "name": "stdout",
     "output_type": "stream",
     "text": [
      "train groups ['era9' 'era10' 'era11' 'era12' 'era13']\n"
     ]
    },
    {
     "name": "stderr",
     "output_type": "stream",
     "text": [
      "Warning: less than 75% gpu memory available for training. Free: 4295.875 Total: 5944.625\n"
     ]
    },
    {
     "name": "stdout",
     "output_type": "stream",
     "text": [
      "train groups ['era10' 'era11' 'era12' 'era13' 'era14']\n"
     ]
    },
    {
     "name": "stderr",
     "output_type": "stream",
     "text": [
      "Warning: less than 75% gpu memory available for training. Free: 4296.3125 Total: 5944.625\n"
     ]
    },
    {
     "name": "stdout",
     "output_type": "stream",
     "text": [
      "train groups ['era11' 'era12' 'era13' 'era14' 'era15']\n"
     ]
    },
    {
     "name": "stderr",
     "output_type": "stream",
     "text": [
      "Warning: less than 75% gpu memory available for training. Free: 4271.75 Total: 5944.625\n"
     ]
    },
    {
     "name": "stdout",
     "output_type": "stream",
     "text": [
      "Score group era121 - correlation -0.00907526335135793\n",
      "Score group era122 - correlation 0.008327707824257596\n",
      "Score group era123 - correlation 0.036696032352427396\n",
      "Score group era124 - correlation 0.03520138698589472\n",
      "Score group era125 - correlation 0.0013724541457780222\n",
      "Score group era126 - correlation 0.02504603454571438\n",
      "Score group era127 - correlation -0.02104225342764864\n",
      "Score group era128 - correlation 0.054854037796702546\n",
      "Score group era129 - correlation -0.003029508533002716\n",
      "Score group era130 - correlation 0.05282693832254389\n",
      "Score group era131 - correlation -0.005167934152794322\n",
      "Score group era132 - correlation 0.017688628466521226\n",
      "Score group era197 - correlation 0.01170598527513357\n",
      "Score group era198 - correlation 0.00616517308891898\n",
      "Score group era199 - correlation -0.055234931198581534\n",
      "Score group era200 - correlation 0.04402632156309542\n",
      "Score group era201 - correlation 0.031487518469337845\n",
      "Score group era202 - correlation 0.05382635358205647\n",
      "Score group era203 - correlation 0.01927810099129279\n",
      "Score group era204 - correlation 0.032420877816047425\n",
      "Score group era205 - correlation 0.007575638128735894\n",
      "Score group era206 - correlation -0.0029132123568293335\n",
      "Score group era207 - correlation 0.0626732371700158\n",
      "Score group era208 - correlation 0.03384387653286891\n",
      "Score group era209 - correlation -0.004782067409351281\n",
      "Score group era210 - correlation -0.019739674122594135\n",
      "Score group era211 - correlation 0.028271907917650912\n",
      "Score group era212 - correlation -0.0005245624633188411\n",
      "Autocrrelation -0.2263285243105178\n",
      "AVG Score: 0.015777814427125537\n",
      "Rshape: 0.5931071711569484\n",
      "train groups ['era12' 'era13' 'era14' 'era15' 'era16']\n"
     ]
    },
    {
     "name": "stderr",
     "output_type": "stream",
     "text": [
      "Warning: less than 75% gpu memory available for training. Free: 4277.0625 Total: 5944.625\n"
     ]
    },
    {
     "name": "stdout",
     "output_type": "stream",
     "text": [
      "train groups ['era13' 'era14' 'era15' 'era16' 'era17']\n"
     ]
    },
    {
     "name": "stderr",
     "output_type": "stream",
     "text": [
      "Warning: less than 75% gpu memory available for training. Free: 4279.875 Total: 5944.625\n"
     ]
    },
    {
     "name": "stdout",
     "output_type": "stream",
     "text": [
      "train groups ['era14' 'era15' 'era16' 'era17' 'era18']\n"
     ]
    },
    {
     "name": "stderr",
     "output_type": "stream",
     "text": [
      "Warning: less than 75% gpu memory available for training. Free: 4284.625 Total: 5944.625\n"
     ]
    },
    {
     "name": "stdout",
     "output_type": "stream",
     "text": [
      "train groups ['era15' 'era16' 'era17' 'era18' 'era19']\n"
     ]
    },
    {
     "name": "stderr",
     "output_type": "stream",
     "text": [
      "Warning: less than 75% gpu memory available for training. Free: 4284.625 Total: 5944.625\n"
     ]
    },
    {
     "name": "stdout",
     "output_type": "stream",
     "text": [
      "train groups ['era16' 'era17' 'era18' 'era19' 'era20']\n"
     ]
    },
    {
     "name": "stderr",
     "output_type": "stream",
     "text": [
      "Warning: less than 75% gpu memory available for training. Free: 4284.625 Total: 5944.625\n"
     ]
    },
    {
     "name": "stdout",
     "output_type": "stream",
     "text": [
      "Score group era121 - correlation -0.020263862840099327\n",
      "Score group era122 - correlation 0.0071735225422592174\n",
      "Score group era123 - correlation 0.04372711019047933\n",
      "Score group era124 - correlation 0.038310090293278684\n",
      "Score group era125 - correlation -0.009841558311295292\n",
      "Score group era126 - correlation 0.02117411457098611\n",
      "Score group era127 - correlation -0.013881913549433907\n",
      "Score group era128 - correlation 0.049360617782515014\n",
      "Score group era129 - correlation 0.0031916221158459126\n",
      "Score group era130 - correlation 0.04397823882638142\n",
      "Score group era131 - correlation 0.0022086076274955083\n",
      "Score group era132 - correlation 0.012124328968312743\n",
      "Score group era197 - correlation 0.017484246177500253\n",
      "Score group era198 - correlation 0.017848105874048142\n",
      "Score group era199 - correlation -0.05171570439561863\n",
      "Score group era200 - correlation 0.04444697347663602\n",
      "Score group era201 - correlation 0.0294083733021378\n",
      "Score group era202 - correlation 0.05575482763923499\n",
      "Score group era203 - correlation 0.011995955621515163\n",
      "Score group era204 - correlation 0.028319900278398934\n",
      "Score group era205 - correlation 0.012468807171855282\n",
      "Score group era206 - correlation -0.012341410924982182\n",
      "Score group era207 - correlation 0.06561792734562615\n",
      "Score group era208 - correlation 0.033924133189053136\n",
      "Score group era209 - correlation -0.006595817287250597\n",
      "Score group era210 - correlation -0.02387739387215808\n",
      "Score group era211 - correlation 0.03058492582742138\n",
      "Score group era212 - correlation -0.002547463980306062\n",
      "Autocrrelation -0.2310899450053283\n",
      "AVG Score: 0.015287046559279895\n",
      "Rshape: 0.570813040098648\n",
      "train groups ['era17' 'era18' 'era19' 'era20' 'era21']\n"
     ]
    },
    {
     "name": "stderr",
     "output_type": "stream",
     "text": [
      "Warning: less than 75% gpu memory available for training. Free: 4289.625 Total: 5944.625\n"
     ]
    },
    {
     "name": "stdout",
     "output_type": "stream",
     "text": [
      "train groups ['era18' 'era19' 'era20' 'era21' 'era22']\n"
     ]
    },
    {
     "name": "stderr",
     "output_type": "stream",
     "text": [
      "Warning: less than 75% gpu memory available for training. Free: 4289.625 Total: 5944.625\n"
     ]
    },
    {
     "name": "stdout",
     "output_type": "stream",
     "text": [
      "train groups ['era19' 'era20' 'era21' 'era22' 'era23']\n"
     ]
    },
    {
     "name": "stderr",
     "output_type": "stream",
     "text": [
      "Warning: less than 75% gpu memory available for training. Free: 4289.625 Total: 5944.625\n"
     ]
    },
    {
     "name": "stdout",
     "output_type": "stream",
     "text": [
      "train groups ['era20' 'era21' 'era22' 'era23' 'era24']\n"
     ]
    },
    {
     "name": "stderr",
     "output_type": "stream",
     "text": [
      "Warning: less than 75% gpu memory available for training. Free: 4295.75 Total: 5944.625\n"
     ]
    },
    {
     "name": "stdout",
     "output_type": "stream",
     "text": [
      "train groups ['era21' 'era22' 'era23' 'era24' 'era25']\n"
     ]
    },
    {
     "name": "stderr",
     "output_type": "stream",
     "text": [
      "Warning: less than 75% gpu memory available for training. Free: 4295.75 Total: 5944.625\n"
     ]
    },
    {
     "name": "stdout",
     "output_type": "stream",
     "text": [
      "Score group era121 - correlation -0.02521193123026179\n",
      "Score group era122 - correlation 0.009710370304272372\n",
      "Score group era123 - correlation 0.04056935745001648\n",
      "Score group era124 - correlation 0.04546453728270032\n",
      "Score group era125 - correlation -0.007218407777279297\n",
      "Score group era126 - correlation 0.022994113323670573\n",
      "Score group era127 - correlation -0.012478814376038117\n",
      "Score group era128 - correlation 0.048882348852485595\n",
      "Score group era129 - correlation 0.0011845683312834468\n",
      "Score group era130 - correlation 0.0418050725779924\n",
      "Score group era131 - correlation 0.006170735143679795\n",
      "Score group era132 - correlation 0.02725359734815422\n",
      "Score group era197 - correlation 0.018561857410574676\n",
      "Score group era198 - correlation 0.01481201949614136\n",
      "Score group era199 - correlation -0.059221730293717044\n",
      "Score group era200 - correlation 0.030743918717359386\n",
      "Score group era201 - correlation 0.018907535626947677\n",
      "Score group era202 - correlation 0.05497309462737298\n",
      "Score group era203 - correlation 0.006272570850904719\n",
      "Score group era204 - correlation 0.023630192375915644\n",
      "Score group era205 - correlation 0.016185242987562586\n",
      "Score group era206 - correlation -0.011846507348535608\n",
      "Score group era207 - correlation 0.062130786060052526\n",
      "Score group era208 - correlation 0.030761399020345966\n",
      "Score group era209 - correlation -0.0033005598999546297\n",
      "Score group era210 - correlation -0.01662504032207419\n",
      "Score group era211 - correlation 0.024486813075411343\n",
      "Score group era212 - correlation 0.0032992218087684634\n",
      "Autocrrelation -0.2374111954257622\n",
      "AVG Score: 0.014746298622276851\n",
      "Rshape: 0.5644542121930386\n",
      "train groups ['era22' 'era23' 'era24' 'era25' 'era26']\n"
     ]
    },
    {
     "name": "stderr",
     "output_type": "stream",
     "text": [
      "Warning: less than 75% gpu memory available for training. Free: 4295.75 Total: 5944.625\n"
     ]
    },
    {
     "name": "stdout",
     "output_type": "stream",
     "text": [
      "train groups ['era23' 'era24' 'era25' 'era26' 'era27']\n"
     ]
    },
    {
     "name": "stderr",
     "output_type": "stream",
     "text": [
      "Warning: less than 75% gpu memory available for training. Free: 4295.6875 Total: 5944.625\n"
     ]
    },
    {
     "name": "stdout",
     "output_type": "stream",
     "text": [
      "train groups ['era24' 'era25' 'era26' 'era27' 'era28']\n"
     ]
    },
    {
     "name": "stderr",
     "output_type": "stream",
     "text": [
      "Warning: less than 75% gpu memory available for training. Free: 4295.6875 Total: 5944.625\n"
     ]
    },
    {
     "name": "stdout",
     "output_type": "stream",
     "text": [
      "train groups ['era25' 'era26' 'era27' 'era28' 'era29']\n"
     ]
    },
    {
     "name": "stderr",
     "output_type": "stream",
     "text": [
      "Warning: less than 75% gpu memory available for training. Free: 4295.6875 Total: 5944.625\n"
     ]
    },
    {
     "name": "stdout",
     "output_type": "stream",
     "text": [
      "train groups ['era26' 'era27' 'era28' 'era29' 'era30']\n"
     ]
    },
    {
     "name": "stderr",
     "output_type": "stream",
     "text": [
      "Warning: less than 75% gpu memory available for training. Free: 4295.6875 Total: 5944.625\n"
     ]
    },
    {
     "name": "stdout",
     "output_type": "stream",
     "text": [
      "Score group era121 - correlation -0.02197576347514148\n",
      "Score group era122 - correlation 0.011241239041842377\n",
      "Score group era123 - correlation 0.04400468875594451\n",
      "Score group era124 - correlation 0.048809173001607156\n",
      "Score group era125 - correlation -0.0072177049907999925\n",
      "Score group era126 - correlation 0.02206660035124401\n",
      "Score group era127 - correlation -0.015167514414080612\n",
      "Score group era128 - correlation 0.044644655293725924\n",
      "Score group era129 - correlation 0.0021639096295837405\n",
      "Score group era130 - correlation 0.042711787357973555\n",
      "Score group era131 - correlation 0.007976346415058606\n",
      "Score group era132 - correlation 0.028926403607170272\n",
      "Score group era197 - correlation 0.023937994138643167\n",
      "Score group era198 - correlation 0.019393534228202863\n",
      "Score group era199 - correlation -0.058171353159004874\n",
      "Score group era200 - correlation 0.034019745494056695\n",
      "Score group era201 - correlation 0.019501469999317452\n",
      "Score group era202 - correlation 0.054094504446928454\n",
      "Score group era203 - correlation 0.006055083116120431\n",
      "Score group era204 - correlation 0.02235059750612602\n",
      "Score group era205 - correlation 0.02217242210435084\n",
      "Score group era206 - correlation -0.01288081337372684\n",
      "Score group era207 - correlation 0.06198401797527026\n",
      "Score group era208 - correlation 0.031226058406150694\n",
      "Score group era209 - correlation -0.005772111896166173\n",
      "Score group era210 - correlation -0.0061918324394948255\n",
      "Score group era211 - correlation 0.026014675485399225\n",
      "Score group era212 - correlation -0.00017226585281139329\n",
      "Autocrrelation -0.2681587957964543\n",
      "AVG Score: 0.015919483812624646\n",
      "Rshape: 0.6130695124299687\n",
      "train groups ['era27' 'era28' 'era29' 'era30' 'era31']\n"
     ]
    },
    {
     "name": "stderr",
     "output_type": "stream",
     "text": [
      "Warning: less than 75% gpu memory available for training. Free: 4315.1875 Total: 5944.625\n"
     ]
    },
    {
     "name": "stdout",
     "output_type": "stream",
     "text": [
      "train groups ['era28' 'era29' 'era30' 'era31' 'era32']\n"
     ]
    },
    {
     "name": "stderr",
     "output_type": "stream",
     "text": [
      "Warning: less than 75% gpu memory available for training. Free: 4314.875 Total: 5944.625\n"
     ]
    },
    {
     "name": "stdout",
     "output_type": "stream",
     "text": [
      "train groups ['era29' 'era30' 'era31' 'era32' 'era33']\n"
     ]
    },
    {
     "name": "stderr",
     "output_type": "stream",
     "text": [
      "Warning: less than 75% gpu memory available for training. Free: 4315.125 Total: 5944.625\n"
     ]
    },
    {
     "name": "stdout",
     "output_type": "stream",
     "text": [
      "train groups ['era30' 'era31' 'era32' 'era33' 'era34']\n"
     ]
    },
    {
     "name": "stderr",
     "output_type": "stream",
     "text": [
      "Warning: less than 75% gpu memory available for training. Free: 4315.125 Total: 5944.625\n"
     ]
    },
    {
     "name": "stdout",
     "output_type": "stream",
     "text": [
      "train groups ['era31' 'era32' 'era33' 'era34' 'era35']\n"
     ]
    },
    {
     "name": "stderr",
     "output_type": "stream",
     "text": [
      "Warning: less than 75% gpu memory available for training. Free: 4315.125 Total: 5944.625\n"
     ]
    },
    {
     "name": "stdout",
     "output_type": "stream",
     "text": [
      "Score group era121 - correlation -0.01671423019202735\n",
      "Score group era122 - correlation 0.014002273350265992\n",
      "Score group era123 - correlation 0.04726719501157964\n",
      "Score group era124 - correlation 0.051936497794344984\n",
      "Score group era125 - correlation -0.001785692595610947\n",
      "Score group era126 - correlation 0.025052049316086778\n",
      "Score group era127 - correlation -0.017879149557434488\n",
      "Score group era128 - correlation 0.0453517791529436\n",
      "Score group era129 - correlation 0.0024471264402589864\n",
      "Score group era130 - correlation 0.04516392957970397\n",
      "Score group era131 - correlation 0.009143293885160303\n",
      "Score group era132 - correlation 0.03183397196368222\n",
      "Score group era197 - correlation 0.02829235278732291\n",
      "Score group era198 - correlation 0.012456583207170663\n",
      "Score group era199 - correlation -0.05643467814053884\n",
      "Score group era200 - correlation 0.03516124182307365\n",
      "Score group era201 - correlation 0.02286324950664655\n",
      "Score group era202 - correlation 0.05119970076801231\n",
      "Score group era203 - correlation 0.01005555723773668\n",
      "Score group era204 - correlation 0.018610299389015726\n",
      "Score group era205 - correlation 0.01938513158841997\n",
      "Score group era206 - correlation -0.011747848664558982\n",
      "Score group era207 - correlation 0.05922449812696468\n",
      "Score group era208 - correlation 0.030529661627489234\n",
      "Score group era209 - correlation -0.006128324527372346\n",
      "Score group era210 - correlation -0.004794394875000233\n",
      "Score group era211 - correlation 0.025141181028928778\n",
      "Score group era212 - correlation 0.000863054798475786\n",
      "Autocrrelation -0.21836060438035987\n",
      "AVG Score: 0.01680343963681215\n",
      "Rshape: 0.6578889967050957\n",
      "train groups ['era32' 'era33' 'era34' 'era35' 'era36']\n"
     ]
    },
    {
     "name": "stderr",
     "output_type": "stream",
     "text": [
      "Warning: less than 75% gpu memory available for training. Free: 4315.125 Total: 5944.625\n"
     ]
    },
    {
     "name": "stdout",
     "output_type": "stream",
     "text": [
      "train groups ['era33' 'era34' 'era35' 'era36' 'era37']\n"
     ]
    },
    {
     "name": "stderr",
     "output_type": "stream",
     "text": [
      "Warning: less than 75% gpu memory available for training. Free: 4315.125 Total: 5944.625\n"
     ]
    },
    {
     "name": "stdout",
     "output_type": "stream",
     "text": [
      "train groups ['era34' 'era35' 'era36' 'era37' 'era38']\n"
     ]
    },
    {
     "name": "stderr",
     "output_type": "stream",
     "text": [
      "Warning: less than 75% gpu memory available for training. Free: 4315.125 Total: 5944.625\n"
     ]
    },
    {
     "name": "stdout",
     "output_type": "stream",
     "text": [
      "train groups ['era35' 'era36' 'era37' 'era38' 'era39']\n"
     ]
    },
    {
     "name": "stderr",
     "output_type": "stream",
     "text": [
      "Warning: less than 75% gpu memory available for training. Free: 4315.125 Total: 5944.625\n"
     ]
    },
    {
     "name": "stdout",
     "output_type": "stream",
     "text": [
      "train groups ['era36' 'era37' 'era38' 'era39' 'era40']\n"
     ]
    },
    {
     "name": "stderr",
     "output_type": "stream",
     "text": [
      "Warning: less than 75% gpu memory available for training. Free: 4315.125 Total: 5944.625\n"
     ]
    },
    {
     "name": "stdout",
     "output_type": "stream",
     "text": [
      "Score group era121 - correlation -0.010360116787654219\n",
      "Score group era122 - correlation 0.014640686553800096\n",
      "Score group era123 - correlation 0.04910038152709424\n",
      "Score group era124 - correlation 0.05684732698529995\n",
      "Score group era125 - correlation -0.0009286444840952219\n",
      "Score group era126 - correlation 0.026300291073371125\n",
      "Score group era127 - correlation -0.01860301676583923\n",
      "Score group era128 - correlation 0.04581417792239885\n",
      "Score group era129 - correlation 0.0009078360639219231\n",
      "Score group era130 - correlation 0.04814298831408228\n",
      "Score group era131 - correlation 0.010382097314020997\n",
      "Score group era132 - correlation 0.03263102479580597\n",
      "Score group era197 - correlation 0.03057257251045918\n",
      "Score group era198 - correlation 0.008482379375186927\n",
      "Score group era199 - correlation -0.05595243146192534\n",
      "Score group era200 - correlation 0.030971453161501794\n",
      "Score group era201 - correlation 0.02414273498996674\n",
      "Score group era202 - correlation 0.04911473063752225\n",
      "Score group era203 - correlation 0.009726813888623212\n",
      "Score group era204 - correlation 0.01947887729777944\n",
      "Score group era205 - correlation 0.019502746757801784\n",
      "Score group era206 - correlation -0.012616454941587665\n",
      "Score group era207 - correlation 0.05436202794522169\n",
      "Score group era208 - correlation 0.029039138562635694\n",
      "Score group era209 - correlation -0.004984725084935549\n",
      "Score group era210 - correlation -0.001550156007615933\n",
      "Score group era211 - correlation 0.019210568116872342\n",
      "Score group era212 - correlation 0.000830557233588162\n",
      "Autocrrelation -0.1815573170406502\n",
      "AVG Score: 0.016971638053332197\n",
      "Rshape: 0.6725808448083955\n",
      "train groups ['era37' 'era38' 'era39' 'era40' 'era41']\n"
     ]
    },
    {
     "name": "stderr",
     "output_type": "stream",
     "text": [
      "Warning: less than 75% gpu memory available for training. Free: 4315.1875 Total: 5944.625\n"
     ]
    },
    {
     "name": "stdout",
     "output_type": "stream",
     "text": [
      "train groups ['era38' 'era39' 'era40' 'era41' 'era42']\n"
     ]
    },
    {
     "name": "stderr",
     "output_type": "stream",
     "text": [
      "Warning: less than 75% gpu memory available for training. Free: 4315.1875 Total: 5944.625\n"
     ]
    },
    {
     "name": "stdout",
     "output_type": "stream",
     "text": [
      "train groups ['era39' 'era40' 'era41' 'era42' 'era43']\n"
     ]
    },
    {
     "name": "stderr",
     "output_type": "stream",
     "text": [
      "Warning: less than 75% gpu memory available for training. Free: 4315.1875 Total: 5944.625\n"
     ]
    },
    {
     "name": "stdout",
     "output_type": "stream",
     "text": [
      "train groups ['era40' 'era41' 'era42' 'era43' 'era44']\n"
     ]
    },
    {
     "name": "stderr",
     "output_type": "stream",
     "text": [
      "Warning: less than 75% gpu memory available for training. Free: 4315.1875 Total: 5944.625\n"
     ]
    },
    {
     "name": "stdout",
     "output_type": "stream",
     "text": [
      "train groups ['era41' 'era42' 'era43' 'era44' 'era45']\n"
     ]
    },
    {
     "name": "stderr",
     "output_type": "stream",
     "text": [
      "Warning: less than 75% gpu memory available for training. Free: 4315.1875 Total: 5944.625\n"
     ]
    },
    {
     "name": "stdout",
     "output_type": "stream",
     "text": [
      "Score group era121 - correlation -0.007640822760698728\n",
      "Score group era122 - correlation 0.013120186890944439\n",
      "Score group era123 - correlation 0.0490211776497689\n",
      "Score group era124 - correlation 0.05866120429166711\n",
      "Score group era125 - correlation 0.00035517071698013366\n",
      "Score group era126 - correlation 0.026340448510857456\n",
      "Score group era127 - correlation -0.019697550560853372\n",
      "Score group era128 - correlation 0.04513230204591276\n",
      "Score group era129 - correlation 0.004567396845920616\n",
      "Score group era130 - correlation 0.04893687814602493\n",
      "Score group era131 - correlation 0.007590937181715125\n",
      "Score group era132 - correlation 0.03365145335861316\n",
      "Score group era197 - correlation 0.033070635633790514\n",
      "Score group era198 - correlation 0.008252687277315797\n",
      "Score group era199 - correlation -0.05520434668789433\n",
      "Score group era200 - correlation 0.03151989402756493\n",
      "Score group era201 - correlation 0.02542641894903205\n",
      "Score group era202 - correlation 0.047281170626717044\n",
      "Score group era203 - correlation 0.009010818261745065\n",
      "Score group era204 - correlation 0.017148759843897955\n",
      "Score group era205 - correlation 0.016408261120852696\n",
      "Score group era206 - correlation -0.012526286174036335\n",
      "Score group era207 - correlation 0.048719541363740716\n",
      "Score group era208 - correlation 0.023897678016456054\n",
      "Score group era209 - correlation -0.006585793359210952\n",
      "Score group era210 - correlation 0.0004435499443672306\n",
      "Score group era211 - correlation 0.017698193705784276\n",
      "Score group era212 - correlation -0.0007014297412470573\n",
      "Autocrrelation -0.16488736492605008\n",
      "AVG Score: 0.016567804825918863\n",
      "Rshape: 0.6664983293677724\n",
      "train groups ['era42' 'era43' 'era44' 'era45' 'era46']\n"
     ]
    },
    {
     "name": "stderr",
     "output_type": "stream",
     "text": [
      "Warning: less than 75% gpu memory available for training. Free: 4315.1875 Total: 5944.625\n"
     ]
    },
    {
     "name": "stdout",
     "output_type": "stream",
     "text": [
      "train groups ['era43' 'era44' 'era45' 'era46' 'era47']\n"
     ]
    },
    {
     "name": "stderr",
     "output_type": "stream",
     "text": [
      "Warning: less than 75% gpu memory available for training. Free: 4315.1875 Total: 5944.625\n"
     ]
    },
    {
     "name": "stdout",
     "output_type": "stream",
     "text": [
      "train groups ['era44' 'era45' 'era46' 'era47' 'era48']\n"
     ]
    },
    {
     "name": "stderr",
     "output_type": "stream",
     "text": [
      "Warning: less than 75% gpu memory available for training. Free: 4315.1875 Total: 5944.625\n"
     ]
    },
    {
     "name": "stdout",
     "output_type": "stream",
     "text": [
      "train groups ['era45' 'era46' 'era47' 'era48' 'era49']\n"
     ]
    },
    {
     "name": "stderr",
     "output_type": "stream",
     "text": [
      "Warning: less than 75% gpu memory available for training. Free: 4315.1875 Total: 5944.625\n"
     ]
    },
    {
     "name": "stdout",
     "output_type": "stream",
     "text": [
      "train groups ['era46' 'era47' 'era48' 'era49' 'era50']\n"
     ]
    },
    {
     "name": "stderr",
     "output_type": "stream",
     "text": [
      "Warning: less than 75% gpu memory available for training. Free: 4315.1875 Total: 5944.625\n"
     ]
    },
    {
     "name": "stdout",
     "output_type": "stream",
     "text": [
      "Score group era121 - correlation -0.003126854065393536\n",
      "Score group era122 - correlation 0.01260155437807621\n",
      "Score group era123 - correlation 0.05016926887616036\n",
      "Score group era124 - correlation 0.06099304815666495\n",
      "Score group era125 - correlation 0.00023042611690301848\n",
      "Score group era126 - correlation 0.025348188304422096\n",
      "Score group era127 - correlation -0.019409450353364947\n",
      "Score group era128 - correlation 0.044615620113584636\n",
      "Score group era129 - correlation 0.003156921046221098\n",
      "Score group era130 - correlation 0.050842899608632794\n",
      "Score group era131 - correlation 0.008604290446264483\n",
      "Score group era132 - correlation 0.03533698567125131\n",
      "Score group era197 - correlation 0.03261456032222298\n",
      "Score group era198 - correlation 0.007953713052097642\n",
      "Score group era199 - correlation -0.05472287234540936\n",
      "Score group era200 - correlation 0.031148796184142194\n",
      "Score group era201 - correlation 0.025482648534903982\n",
      "Score group era202 - correlation 0.04920426373008541\n",
      "Score group era203 - correlation 0.007853641672865693\n",
      "Score group era204 - correlation 0.017143944948720877\n",
      "Score group era205 - correlation 0.01623918022840392\n",
      "Score group era206 - correlation -0.01180815634675239\n",
      "Score group era207 - correlation 0.04853545935909856\n",
      "Score group era208 - correlation 0.022117224079261647\n",
      "Score group era209 - correlation -0.006665694234889344\n",
      "Score group era210 - correlation 0.0009726052008999049\n",
      "Score group era211 - correlation 0.016615181041974562\n",
      "Score group era212 - correlation 0.0008571592225448441\n",
      "Autocrrelation -0.15565990821046077\n",
      "AVG Score: 0.016889448319628346\n",
      "Rshape: 0.6768522515463962\n",
      "train groups ['era47' 'era48' 'era49' 'era50' 'era51']\n"
     ]
    },
    {
     "name": "stderr",
     "output_type": "stream",
     "text": [
      "Warning: less than 75% gpu memory available for training. Free: 4326.1875 Total: 5944.625\n"
     ]
    },
    {
     "name": "stdout",
     "output_type": "stream",
     "text": [
      "train groups ['era48' 'era49' 'era50' 'era51' 'era52']\n"
     ]
    },
    {
     "name": "stderr",
     "output_type": "stream",
     "text": [
      "Warning: less than 75% gpu memory available for training. Free: 4326.1875 Total: 5944.625\n"
     ]
    },
    {
     "name": "stdout",
     "output_type": "stream",
     "text": [
      "train groups ['era49' 'era50' 'era51' 'era52' 'era53']\n"
     ]
    },
    {
     "name": "stderr",
     "output_type": "stream",
     "text": [
      "Warning: less than 75% gpu memory available for training. Free: 4326.1875 Total: 5944.625\n"
     ]
    },
    {
     "name": "stdout",
     "output_type": "stream",
     "text": [
      "train groups ['era50' 'era51' 'era52' 'era53' 'era54']\n"
     ]
    },
    {
     "name": "stderr",
     "output_type": "stream",
     "text": [
      "Warning: less than 75% gpu memory available for training. Free: 4326.1875 Total: 5944.625\n"
     ]
    },
    {
     "name": "stdout",
     "output_type": "stream",
     "text": [
      "train groups ['era51' 'era52' 'era53' 'era54' 'era55']\n"
     ]
    },
    {
     "name": "stderr",
     "output_type": "stream",
     "text": [
      "Warning: less than 75% gpu memory available for training. Free: 4326.1875 Total: 5944.625\n"
     ]
    },
    {
     "name": "stdout",
     "output_type": "stream",
     "text": [
      "Score group era121 - correlation 0.003948098678366369\n",
      "Score group era122 - correlation 0.013892504180013976\n",
      "Score group era123 - correlation 0.05187890464294395\n",
      "Score group era124 - correlation 0.06348163792265159\n",
      "Score group era125 - correlation 0.0027212770961893284\n",
      "Score group era126 - correlation 0.021534823888319295\n",
      "Score group era127 - correlation -0.017847393257772563\n",
      "Score group era128 - correlation 0.04246900055320007\n",
      "Score group era129 - correlation 0.0026602400799750365\n",
      "Score group era130 - correlation 0.051801225801014567\n",
      "Score group era131 - correlation 0.009590844285635681\n",
      "Score group era132 - correlation 0.03839760156737697\n",
      "Score group era197 - correlation 0.03161662111744165\n",
      "Score group era198 - correlation 0.0062822037094375635\n",
      "Score group era199 - correlation -0.05304026085593583\n",
      "Score group era200 - correlation 0.02798163781844288\n",
      "Score group era201 - correlation 0.02353470573473841\n",
      "Score group era202 - correlation 0.04929783253800616\n",
      "Score group era203 - correlation 0.0037454579325960826\n",
      "Score group era204 - correlation 0.017811756319191463\n",
      "Score group era205 - correlation 0.016615432463706926\n",
      "Score group era206 - correlation -0.010568774926529611\n",
      "Score group era207 - correlation 0.04295594001738116\n",
      "Score group era208 - correlation 0.02046988957732488\n",
      "Score group era209 - correlation -0.003432468981983669\n",
      "Score group era210 - correlation 0.0030797510363529553\n",
      "Score group era211 - correlation 0.013313225720971093\n",
      "Score group era212 - correlation -0.0012475613848010449\n",
      "Autocrrelation -0.11069407709328231\n",
      "AVG Score: 0.01689086261693769\n",
      "Rshape: 0.6938246386837956\n",
      "train groups ['era52' 'era53' 'era54' 'era55' 'era56']\n"
     ]
    },
    {
     "name": "stderr",
     "output_type": "stream",
     "text": [
      "Warning: less than 75% gpu memory available for training. Free: 4326.1875 Total: 5944.625\n"
     ]
    },
    {
     "name": "stdout",
     "output_type": "stream",
     "text": [
      "train groups ['era53' 'era54' 'era55' 'era56' 'era57']\n"
     ]
    },
    {
     "name": "stderr",
     "output_type": "stream",
     "text": [
      "Warning: less than 75% gpu memory available for training. Free: 4326.1875 Total: 5944.625\n"
     ]
    },
    {
     "name": "stdout",
     "output_type": "stream",
     "text": [
      "train groups ['era54' 'era55' 'era56' 'era57' 'era58']\n"
     ]
    },
    {
     "name": "stderr",
     "output_type": "stream",
     "text": [
      "Warning: less than 75% gpu memory available for training. Free: 4326.1875 Total: 5944.625\n"
     ]
    },
    {
     "name": "stdout",
     "output_type": "stream",
     "text": [
      "train groups ['era55' 'era56' 'era57' 'era58' 'era59']\n"
     ]
    },
    {
     "name": "stderr",
     "output_type": "stream",
     "text": [
      "Warning: less than 75% gpu memory available for training. Free: 4326.1875 Total: 5944.625\n"
     ]
    },
    {
     "name": "stdout",
     "output_type": "stream",
     "text": [
      "train groups ['era56' 'era57' 'era58' 'era59' 'era60']\n"
     ]
    },
    {
     "name": "stderr",
     "output_type": "stream",
     "text": [
      "Warning: less than 75% gpu memory available for training. Free: 4326.1875 Total: 5944.625\n"
     ]
    },
    {
     "name": "stdout",
     "output_type": "stream",
     "text": [
      "Score group era121 - correlation 0.008800216003013154\n",
      "Score group era122 - correlation 0.013649546032827514\n",
      "Score group era123 - correlation 0.05010356980741122\n",
      "Score group era124 - correlation 0.06336195420125071\n",
      "Score group era125 - correlation 0.005566508157666547\n",
      "Score group era126 - correlation 0.018350002976132488\n",
      "Score group era127 - correlation -0.010673468740258017\n",
      "Score group era128 - correlation 0.04205349089453201\n",
      "Score group era129 - correlation 4.3113450139920054e-05\n",
      "Score group era130 - correlation 0.049913551252449395\n",
      "Score group era131 - correlation 0.012591039934331208\n",
      "Score group era132 - correlation 0.04140212235872077\n",
      "Score group era197 - correlation 0.0301044209268866\n",
      "Score group era198 - correlation 0.006070144225057882\n",
      "Score group era199 - correlation -0.0474524089664927\n",
      "Score group era200 - correlation 0.019026532195409555\n",
      "Score group era201 - correlation 0.024836083270158075\n",
      "Score group era202 - correlation 0.05122032775761787\n",
      "Score group era203 - correlation 0.005046838345625923\n",
      "Score group era204 - correlation 0.016351092209560443\n",
      "Score group era205 - correlation 0.017047657307430197\n",
      "Score group era206 - correlation -0.004564208345809251\n",
      "Score group era207 - correlation 0.03997564614323784\n",
      "Score group era208 - correlation 0.016740028114917198\n",
      "Score group era209 - correlation -0.004793544080585089\n",
      "Score group era210 - correlation 7.798991988554935e-05\n",
      "Score group era211 - correlation 0.013888719606017199\n",
      "Score group era212 - correlation -0.0002447382984014962\n",
      "Autocrrelation -0.03144771489246452\n",
      "AVG Score: 0.017089008094954738\n",
      "Rshape: 0.7452734475263337\n",
      "train groups ['era57' 'era58' 'era59' 'era60' 'era61']\n"
     ]
    },
    {
     "name": "stderr",
     "output_type": "stream",
     "text": [
      "Warning: less than 75% gpu memory available for training. Free: 4315.1875 Total: 5944.625\n"
     ]
    },
    {
     "name": "stdout",
     "output_type": "stream",
     "text": [
      "train groups ['era58' 'era59' 'era60' 'era61' 'era62']\n"
     ]
    },
    {
     "name": "stderr",
     "output_type": "stream",
     "text": [
      "Warning: less than 75% gpu memory available for training. Free: 4315.1875 Total: 5944.625\n"
     ]
    },
    {
     "name": "stdout",
     "output_type": "stream",
     "text": [
      "train groups ['era59' 'era60' 'era61' 'era62' 'era63']\n"
     ]
    },
    {
     "name": "stderr",
     "output_type": "stream",
     "text": [
      "Warning: less than 75% gpu memory available for training. Free: 4315.1875 Total: 5944.625\n"
     ]
    },
    {
     "name": "stdout",
     "output_type": "stream",
     "text": [
      "train groups ['era60' 'era61' 'era62' 'era63' 'era64']\n"
     ]
    },
    {
     "name": "stderr",
     "output_type": "stream",
     "text": [
      "Warning: less than 75% gpu memory available for training. Free: 4315.1875 Total: 5944.625\n"
     ]
    },
    {
     "name": "stdout",
     "output_type": "stream",
     "text": [
      "train groups ['era61' 'era62' 'era63' 'era64' 'era65']\n"
     ]
    },
    {
     "name": "stderr",
     "output_type": "stream",
     "text": [
      "Warning: less than 75% gpu memory available for training. Free: 4315.1875 Total: 5944.625\n"
     ]
    },
    {
     "name": "stdout",
     "output_type": "stream",
     "text": [
      "Score group era121 - correlation 0.012158317704059625\n",
      "Score group era122 - correlation 0.01164080597264571\n",
      "Score group era123 - correlation 0.05058919542391538\n",
      "Score group era124 - correlation 0.06232186288823067\n",
      "Score group era125 - correlation 0.004244742486708588\n",
      "Score group era126 - correlation 0.015996104900391904\n",
      "Score group era127 - correlation -0.008189420411147915\n",
      "Score group era128 - correlation 0.03996656477903422\n",
      "Score group era129 - correlation 0.00012951560834716309\n",
      "Score group era130 - correlation 0.04887617900984616\n",
      "Score group era131 - correlation 0.012779808385429912\n",
      "Score group era132 - correlation 0.04104729988996651\n",
      "Score group era197 - correlation 0.029904143013244337\n",
      "Score group era198 - correlation 0.006649055694556474\n",
      "Score group era199 - correlation -0.04261001590824385\n",
      "Score group era200 - correlation 0.019085965211981772\n",
      "Score group era201 - correlation 0.02548849641183464\n",
      "Score group era202 - correlation 0.04764602918923236\n",
      "Score group era203 - correlation 0.006543544020466109\n",
      "Score group era204 - correlation 0.013584278353708592\n",
      "Score group era205 - correlation 0.01723127653972837\n",
      "Score group era206 - correlation 0.0008645076966854603\n",
      "Score group era207 - correlation 0.03686257690425975\n",
      "Score group era208 - correlation 0.01447448044034351\n",
      "Score group era209 - correlation -0.007472693079241002\n",
      "Score group era210 - correlation -0.0006780869034412442\n",
      "Score group era211 - correlation 0.015950487755857244\n",
      "Score group era212 - correlation -0.001558157580187199\n",
      "Autocrrelation -0.0070787119638741555\n",
      "AVG Score: 0.016911673728507617\n",
      "Rshape: 0.7748385342106178\n",
      "train groups ['era62' 'era63' 'era64' 'era65' 'era66']\n"
     ]
    },
    {
     "name": "stderr",
     "output_type": "stream",
     "text": [
      "Warning: less than 75% gpu memory available for training. Free: 4319.0625 Total: 5944.625\n"
     ]
    },
    {
     "name": "stdout",
     "output_type": "stream",
     "text": [
      "train groups ['era63' 'era64' 'era65' 'era66' 'era67']\n"
     ]
    },
    {
     "name": "stderr",
     "output_type": "stream",
     "text": [
      "Warning: less than 75% gpu memory available for training. Free: 4319.0625 Total: 5944.625\n"
     ]
    },
    {
     "name": "stdout",
     "output_type": "stream",
     "text": [
      "train groups ['era64' 'era65' 'era66' 'era67' 'era68']\n"
     ]
    },
    {
     "name": "stderr",
     "output_type": "stream",
     "text": [
      "Warning: less than 75% gpu memory available for training. Free: 4319.0625 Total: 5944.625\n"
     ]
    },
    {
     "name": "stdout",
     "output_type": "stream",
     "text": [
      "train groups ['era65' 'era66' 'era67' 'era68' 'era69']\n"
     ]
    },
    {
     "name": "stderr",
     "output_type": "stream",
     "text": [
      "Warning: less than 75% gpu memory available for training. Free: 4319.0625 Total: 5944.625\n"
     ]
    },
    {
     "name": "stdout",
     "output_type": "stream",
     "text": [
      "train groups ['era66' 'era67' 'era68' 'era69' 'era70']\n"
     ]
    },
    {
     "name": "stderr",
     "output_type": "stream",
     "text": [
      "Warning: less than 75% gpu memory available for training. Free: 4319.0625 Total: 5944.625\n"
     ]
    },
    {
     "name": "stdout",
     "output_type": "stream",
     "text": [
      "Score group era121 - correlation 0.013359654739036591\n",
      "Score group era122 - correlation 0.012951242483960478\n",
      "Score group era123 - correlation 0.0489768307783632\n",
      "Score group era124 - correlation 0.06153017857400941\n",
      "Score group era125 - correlation 0.004575579221842693\n",
      "Score group era126 - correlation 0.013225418618846069\n",
      "Score group era127 - correlation -0.005161104390609887\n",
      "Score group era128 - correlation 0.0374614238638614\n",
      "Score group era129 - correlation -0.0012660632675235246\n",
      "Score group era130 - correlation 0.04993241256595129\n",
      "Score group era131 - correlation 0.01347357850472964\n",
      "Score group era132 - correlation 0.03539642973751267\n",
      "Score group era197 - correlation 0.029708256471240254\n",
      "Score group era198 - correlation 0.0069614494309274315\n",
      "Score group era199 - correlation -0.040358192692091746\n",
      "Score group era200 - correlation 0.020231604324995732\n",
      "Score group era201 - correlation 0.02563034491379421\n",
      "Score group era202 - correlation 0.0450352202947403\n",
      "Score group era203 - correlation 0.004319022733161685\n",
      "Score group era204 - correlation 0.011672764968404801\n",
      "Score group era205 - correlation 0.015846208902274093\n",
      "Score group era206 - correlation 0.004966893864532873\n",
      "Score group era207 - correlation 0.03244181024885827\n",
      "Score group era208 - correlation 0.008210315157652859\n",
      "Score group era209 - correlation -0.007887887084129783\n",
      "Score group era210 - correlation -0.0015426406153360556\n",
      "Score group era211 - correlation 0.012647241768278777\n",
      "Score group era212 - correlation -0.0018599823089443825\n",
      "Autocrrelation 0.024084869319234384\n",
      "AVG Score: 0.016088500421726406\n",
      "Rshape: 0.7685086975611377\n",
      "train groups ['era67' 'era68' 'era69' 'era70' 'era71']\n"
     ]
    },
    {
     "name": "stderr",
     "output_type": "stream",
     "text": [
      "Warning: less than 75% gpu memory available for training. Free: 4319.0625 Total: 5944.625\n"
     ]
    },
    {
     "name": "stdout",
     "output_type": "stream",
     "text": [
      "train groups ['era68' 'era69' 'era70' 'era71' 'era72']\n"
     ]
    },
    {
     "name": "stderr",
     "output_type": "stream",
     "text": [
      "Warning: less than 75% gpu memory available for training. Free: 4319.125 Total: 5944.625\n"
     ]
    },
    {
     "name": "stdout",
     "output_type": "stream",
     "text": [
      "train groups ['era69' 'era70' 'era71' 'era72' 'era73']\n"
     ]
    },
    {
     "name": "stderr",
     "output_type": "stream",
     "text": [
      "Warning: less than 75% gpu memory available for training. Free: 4319.125 Total: 5944.625\n"
     ]
    },
    {
     "name": "stdout",
     "output_type": "stream",
     "text": [
      "train groups ['era70' 'era71' 'era72' 'era73' 'era74']\n"
     ]
    },
    {
     "name": "stderr",
     "output_type": "stream",
     "text": [
      "Warning: less than 75% gpu memory available for training. Free: 4319.125 Total: 5944.625\n"
     ]
    },
    {
     "name": "stdout",
     "output_type": "stream",
     "text": [
      "train groups ['era71' 'era72' 'era73' 'era74' 'era75']\n"
     ]
    },
    {
     "name": "stderr",
     "output_type": "stream",
     "text": [
      "Warning: less than 75% gpu memory available for training. Free: 4319.125 Total: 5944.625\n"
     ]
    },
    {
     "name": "stdout",
     "output_type": "stream",
     "text": [
      "Score group era121 - correlation 0.012642156055702562\n",
      "Score group era122 - correlation 0.012710429662576996\n",
      "Score group era123 - correlation 0.04866074525871449\n",
      "Score group era124 - correlation 0.05850355443507863\n",
      "Score group era125 - correlation 0.0022330161896903025\n",
      "Score group era126 - correlation 0.013533056432893334\n",
      "Score group era127 - correlation -0.0030327266177132828\n",
      "Score group era128 - correlation 0.036771612907088254\n",
      "Score group era129 - correlation -0.0036947876254057226\n",
      "Score group era130 - correlation 0.050271401809525926\n",
      "Score group era131 - correlation 0.014082595441903429\n",
      "Score group era132 - correlation 0.03602151339766351\n",
      "Score group era197 - correlation 0.029811924208842086\n",
      "Score group era198 - correlation 0.008781665682059778\n",
      "Score group era199 - correlation -0.039131877387315286\n",
      "Score group era200 - correlation 0.019559517290407006\n",
      "Score group era201 - correlation 0.029112230816545695\n",
      "Score group era202 - correlation 0.044048413154336274\n",
      "Score group era203 - correlation 0.003961024919722623\n",
      "Score group era204 - correlation 0.009422166237902525\n",
      "Score group era205 - correlation 0.01259296459416933\n",
      "Score group era206 - correlation 0.0075532444389885935\n",
      "Score group era207 - correlation 0.0345055809664428\n",
      "Score group era208 - correlation 0.005677344012472615\n",
      "Score group era209 - correlation -0.01089651823921947\n",
      "Score group era210 - correlation -0.0031975867153073165\n",
      "Score group era211 - correlation 0.01672789925618992\n",
      "Score group era212 - correlation -1.150356279210748e-06\n",
      "Autocrrelation 0.0173948759744172\n",
      "AVG Score: 0.015972478936702728\n",
      "Rshape: 0.7660090130710916\n",
      "train groups ['era72' 'era73' 'era74' 'era75' 'era76']\n"
     ]
    },
    {
     "name": "stderr",
     "output_type": "stream",
     "text": [
      "Warning: less than 75% gpu memory available for training. Free: 4319.125 Total: 5944.625\n"
     ]
    },
    {
     "name": "stdout",
     "output_type": "stream",
     "text": [
      "train groups ['era73' 'era74' 'era75' 'era76' 'era77']\n"
     ]
    },
    {
     "name": "stderr",
     "output_type": "stream",
     "text": [
      "Warning: less than 75% gpu memory available for training. Free: 4319.125 Total: 5944.625\n"
     ]
    },
    {
     "name": "stdout",
     "output_type": "stream",
     "text": [
      "train groups ['era74' 'era75' 'era76' 'era77' 'era78']\n"
     ]
    },
    {
     "name": "stderr",
     "output_type": "stream",
     "text": [
      "Warning: less than 75% gpu memory available for training. Free: 4319.125 Total: 5944.625\n"
     ]
    },
    {
     "name": "stdout",
     "output_type": "stream",
     "text": [
      "train groups ['era75' 'era76' 'era77' 'era78' 'era79']\n"
     ]
    },
    {
     "name": "stderr",
     "output_type": "stream",
     "text": [
      "Warning: less than 75% gpu memory available for training. Free: 4319.125 Total: 5944.625\n"
     ]
    },
    {
     "name": "stdout",
     "output_type": "stream",
     "text": [
      "train groups ['era76' 'era77' 'era78' 'era79' 'era80']\n"
     ]
    },
    {
     "name": "stderr",
     "output_type": "stream",
     "text": [
      "Warning: less than 75% gpu memory available for training. Free: 4319.125 Total: 5944.625\n"
     ]
    },
    {
     "name": "stdout",
     "output_type": "stream",
     "text": [
      "Score group era121 - correlation 0.012553443078301212\n",
      "Score group era122 - correlation 0.010801983583684081\n",
      "Score group era123 - correlation 0.049159875683794874\n",
      "Score group era124 - correlation 0.06024656162242897\n",
      "Score group era125 - correlation -7.089358610016496e-05\n",
      "Score group era126 - correlation 0.014651980627171017\n",
      "Score group era127 - correlation -0.0019581287219313437\n",
      "Score group era128 - correlation 0.03610218067923414\n",
      "Score group era129 - correlation -0.006559203190799477\n",
      "Score group era130 - correlation 0.05153699594550186\n",
      "Score group era131 - correlation 0.014233174712123249\n",
      "Score group era132 - correlation 0.0377720155630042\n",
      "Score group era197 - correlation 0.031038371573511303\n",
      "Score group era198 - correlation 0.0065771208731443915\n",
      "Score group era199 - correlation -0.038526674797050235\n",
      "Score group era200 - correlation 0.01786543731132993\n",
      "Score group era201 - correlation 0.03255453109084337\n",
      "Score group era202 - correlation 0.04418921477903494\n",
      "Score group era203 - correlation 0.00310274621635179\n",
      "Score group era204 - correlation 0.010130831264421152\n",
      "Score group era205 - correlation 0.01200503413065876\n",
      "Score group era206 - correlation 0.00877945185096525\n",
      "Score group era207 - correlation 0.04043320808551987\n",
      "Score group era208 - correlation 0.010168903333573552\n",
      "Score group era209 - correlation -0.00969219413126709\n",
      "Score group era210 - correlation -0.006619642600030611\n",
      "Score group era211 - correlation 0.022934571407895957\n",
      "Score group era212 - correlation 0.0024864950975080342\n",
      "Autocrrelation -0.005706926778697937\n",
      "AVG Score: 0.01663919255295796\n",
      "Rshape: 0.7727232213936437\n",
      "train groups ['era77' 'era78' 'era79' 'era80' 'era81']\n"
     ]
    },
    {
     "name": "stderr",
     "output_type": "stream",
     "text": [
      "Warning: less than 75% gpu memory available for training. Free: 4326.1875 Total: 5944.625\n"
     ]
    },
    {
     "name": "stdout",
     "output_type": "stream",
     "text": [
      "train groups ['era78' 'era79' 'era80' 'era81' 'era82']\n"
     ]
    },
    {
     "name": "stderr",
     "output_type": "stream",
     "text": [
      "Warning: less than 75% gpu memory available for training. Free: 4326.1875 Total: 5944.625\n"
     ]
    },
    {
     "name": "stdout",
     "output_type": "stream",
     "text": [
      "train groups ['era79' 'era80' 'era81' 'era82' 'era83']\n"
     ]
    },
    {
     "name": "stderr",
     "output_type": "stream",
     "text": [
      "Warning: less than 75% gpu memory available for training. Free: 4326.1875 Total: 5944.625\n"
     ]
    },
    {
     "name": "stdout",
     "output_type": "stream",
     "text": [
      "train groups ['era80' 'era81' 'era82' 'era83' 'era84']\n"
     ]
    },
    {
     "name": "stderr",
     "output_type": "stream",
     "text": [
      "Warning: less than 75% gpu memory available for training. Free: 4326.1875 Total: 5944.625\n"
     ]
    },
    {
     "name": "stdout",
     "output_type": "stream",
     "text": [
      "train groups ['era81' 'era82' 'era83' 'era84' 'era85']\n"
     ]
    },
    {
     "name": "stderr",
     "output_type": "stream",
     "text": [
      "Warning: less than 75% gpu memory available for training. Free: 4326.1875 Total: 5944.625\n"
     ]
    },
    {
     "name": "stdout",
     "output_type": "stream",
     "text": [
      "Score group era121 - correlation 0.011463646837086179\n",
      "Score group era122 - correlation 0.010549371470384247\n",
      "Score group era123 - correlation 0.04777910025558347\n",
      "Score group era124 - correlation 0.05936195067255807\n",
      "Score group era125 - correlation 0.0018702026697476994\n",
      "Score group era126 - correlation 0.0171176826698339\n",
      "Score group era127 - correlation -0.0016934928914153398\n",
      "Score group era128 - correlation 0.03656800596063155\n",
      "Score group era129 - correlation -0.004530767939094429\n",
      "Score group era130 - correlation 0.049936699228110795\n",
      "Score group era131 - correlation 0.015679673686114684\n",
      "Score group era132 - correlation 0.040009791623613844\n",
      "Score group era197 - correlation 0.03446066159198272\n",
      "Score group era198 - correlation 0.006863767873001255\n",
      "Score group era199 - correlation -0.03903440856790301\n",
      "Score group era200 - correlation 0.020751364378772005\n",
      "Score group era201 - correlation 0.03199508419780835\n",
      "Score group era202 - correlation 0.04372794746075461\n",
      "Score group era203 - correlation 0.005005025146615078\n",
      "Score group era204 - correlation 0.008481948525140335\n",
      "Score group era205 - correlation 0.010997963329289437\n",
      "Score group era206 - correlation 0.00741345357371013\n",
      "Score group era207 - correlation 0.043792704670239366\n",
      "Score group era208 - correlation 0.011507057211686147\n",
      "Score group era209 - correlation -0.009707302660486297\n",
      "Score group era210 - correlation -0.007050430557507498\n",
      "Score group era211 - correlation 0.025153370657692527\n",
      "Score group era212 - correlation 0.004047672362928156\n",
      "Autocrrelation -0.0054070299804792575\n",
      "AVG Score: 0.01723277655131707\n",
      "Rshape: 0.800609112950898\n",
      "train groups ['era82' 'era83' 'era84' 'era85' 'era86']\n"
     ]
    },
    {
     "name": "stderr",
     "output_type": "stream",
     "text": [
      "Warning: less than 75% gpu memory available for training. Free: 4326.1875 Total: 5944.625\n"
     ]
    },
    {
     "name": "stdout",
     "output_type": "stream",
     "text": [
      "train groups ['era83' 'era84' 'era85' 'era86' 'era87']\n"
     ]
    },
    {
     "name": "stderr",
     "output_type": "stream",
     "text": [
      "Warning: less than 75% gpu memory available for training. Free: 4326.1875 Total: 5944.625\n"
     ]
    },
    {
     "name": "stdout",
     "output_type": "stream",
     "text": [
      "train groups ['era84' 'era85' 'era86' 'era87' 'era88']\n"
     ]
    },
    {
     "name": "stderr",
     "output_type": "stream",
     "text": [
      "Warning: less than 75% gpu memory available for training. Free: 4326.1875 Total: 5944.625\n"
     ]
    },
    {
     "name": "stdout",
     "output_type": "stream",
     "text": [
      "train groups ['era85' 'era86' 'era87' 'era88' 'era89']\n"
     ]
    },
    {
     "name": "stderr",
     "output_type": "stream",
     "text": [
      "Warning: less than 75% gpu memory available for training. Free: 4326.1875 Total: 5944.625\n"
     ]
    },
    {
     "name": "stdout",
     "output_type": "stream",
     "text": [
      "train groups ['era86' 'era87' 'era88' 'era89' 'era90']\n"
     ]
    },
    {
     "name": "stderr",
     "output_type": "stream",
     "text": [
      "Warning: less than 75% gpu memory available for training. Free: 4319.0625 Total: 5944.625\n"
     ]
    },
    {
     "name": "stdout",
     "output_type": "stream",
     "text": [
      "Score group era121 - correlation 0.01179864040237793\n",
      "Score group era122 - correlation 0.010402237875730492\n",
      "Score group era123 - correlation 0.04659961947412294\n",
      "Score group era124 - correlation 0.058206695416135656\n",
      "Score group era125 - correlation 0.004667292857392334\n",
      "Score group era126 - correlation 0.019163589121505318\n",
      "Score group era127 - correlation -9.668029008184262e-05\n",
      "Score group era128 - correlation 0.03493860936077651\n",
      "Score group era129 - correlation -0.004636448469315455\n",
      "Score group era130 - correlation 0.051190805109499235\n",
      "Score group era131 - correlation 0.015554553869814138\n",
      "Score group era132 - correlation 0.04108932935653438\n",
      "Score group era197 - correlation 0.03691653618064706\n",
      "Score group era198 - correlation 0.0068096217059079684\n",
      "Score group era199 - correlation -0.03970819460637575\n",
      "Score group era200 - correlation 0.01956844020978514\n",
      "Score group era201 - correlation 0.032290177064464194\n",
      "Score group era202 - correlation 0.04557346514669346\n",
      "Score group era203 - correlation 0.004530157225693437\n",
      "Score group era204 - correlation 0.008639672818668585\n",
      "Score group era205 - correlation 0.011125173802971873\n",
      "Score group era206 - correlation 0.006513522432629488\n",
      "Score group era207 - correlation 0.044169886210156536\n",
      "Score group era208 - correlation 0.013472456838131709\n",
      "Score group era209 - correlation -0.009421693348515925\n",
      "Score group era210 - correlation -0.005845840794911679\n",
      "Score group era211 - correlation 0.028248102289712324\n",
      "Score group era212 - correlation 0.004594091595551929\n",
      "Autocrrelation -0.007711994854597499\n",
      "AVG Score: 0.017726922101989354\n",
      "Rshape: 0.8222412468771814\n",
      "train groups ['era87' 'era88' 'era89' 'era90' 'era91']\n"
     ]
    },
    {
     "name": "stderr",
     "output_type": "stream",
     "text": [
      "Warning: less than 75% gpu memory available for training. Free: 4318.9375 Total: 5944.625\n"
     ]
    },
    {
     "name": "stdout",
     "output_type": "stream",
     "text": [
      "train groups ['era88' 'era89' 'era90' 'era91' 'era92']\n"
     ]
    },
    {
     "name": "stderr",
     "output_type": "stream",
     "text": [
      "Warning: less than 75% gpu memory available for training. Free: 4318.625 Total: 5944.625\n"
     ]
    },
    {
     "name": "stdout",
     "output_type": "stream",
     "text": [
      "train groups ['era89' 'era90' 'era91' 'era92' 'era93']\n"
     ]
    },
    {
     "name": "stderr",
     "output_type": "stream",
     "text": [
      "Warning: less than 75% gpu memory available for training. Free: 4318.5625 Total: 5944.625\n"
     ]
    },
    {
     "name": "stdout",
     "output_type": "stream",
     "text": [
      "train groups ['era90' 'era91' 'era92' 'era93' 'era94']\n"
     ]
    },
    {
     "name": "stderr",
     "output_type": "stream",
     "text": [
      "Warning: less than 75% gpu memory available for training. Free: 4319.125 Total: 5944.625\n"
     ]
    },
    {
     "name": "stdout",
     "output_type": "stream",
     "text": [
      "train groups ['era91' 'era92' 'era93' 'era94' 'era95']\n"
     ]
    },
    {
     "name": "stderr",
     "output_type": "stream",
     "text": [
      "Warning: less than 75% gpu memory available for training. Free: 4319.125 Total: 5944.625\n"
     ]
    },
    {
     "name": "stdout",
     "output_type": "stream",
     "text": [
      "Score group era121 - correlation 0.010696595088969401\n",
      "Score group era122 - correlation 0.009105567204984823\n",
      "Score group era123 - correlation 0.04432789167470771\n",
      "Score group era124 - correlation 0.05847227757132885\n",
      "Score group era125 - correlation 0.004578917457619403\n",
      "Score group era126 - correlation 0.01881844744513602\n",
      "Score group era127 - correlation 0.0028238407354926613\n",
      "Score group era128 - correlation 0.034809483963377935\n",
      "Score group era129 - correlation -0.0059578932418967705\n",
      "Score group era130 - correlation 0.0499829951794336\n",
      "Score group era131 - correlation 0.015414024384036117\n",
      "Score group era132 - correlation 0.04390865257806119\n",
      "Score group era197 - correlation 0.037617430461044335\n",
      "Score group era198 - correlation 0.004124159067074875\n",
      "Score group era199 - correlation -0.039536735985856566\n",
      "Score group era200 - correlation 0.016821137068396216\n",
      "Score group era201 - correlation 0.031496065366390394\n",
      "Score group era202 - correlation 0.04615057244283097\n",
      "Score group era203 - correlation 0.00539094767600132\n",
      "Score group era204 - correlation 0.008078956389409564\n",
      "Score group era205 - correlation 0.011824031799533495\n",
      "Score group era206 - correlation 0.007062293065015842\n",
      "Score group era207 - correlation 0.0437543024277169\n",
      "Score group era208 - correlation 0.016379317387122328\n",
      "Score group era209 - correlation -0.009270317507685246\n",
      "Score group era210 - correlation -0.0073263730740479776\n",
      "Score group era211 - correlation 0.028386347020632908\n",
      "Score group era212 - correlation 0.0030631111824610323\n",
      "Autocrrelation 0.008865776965538752\n",
      "AVG Score: 0.017535573029546118\n",
      "Rshape: 0.8111049352868924\n",
      "train groups ['era92' 'era93' 'era94' 'era95' 'era96']\n"
     ]
    },
    {
     "name": "stderr",
     "output_type": "stream",
     "text": [
      "Warning: less than 75% gpu memory available for training. Free: 4319.125 Total: 5944.625\n"
     ]
    },
    {
     "name": "stdout",
     "output_type": "stream",
     "text": [
      "train groups ['era93' 'era94' 'era95' 'era96' 'era97']\n"
     ]
    },
    {
     "name": "stderr",
     "output_type": "stream",
     "text": [
      "Warning: less than 75% gpu memory available for training. Free: 4319.125 Total: 5944.625\n"
     ]
    },
    {
     "name": "stdout",
     "output_type": "stream",
     "text": [
      "train groups ['era94' 'era95' 'era96' 'era97' 'era98']\n"
     ]
    },
    {
     "name": "stderr",
     "output_type": "stream",
     "text": [
      "Warning: less than 75% gpu memory available for training. Free: 4319.125 Total: 5944.625\n"
     ]
    },
    {
     "name": "stdout",
     "output_type": "stream",
     "text": [
      "train groups ['era95' 'era96' 'era97' 'era98' 'era99']\n"
     ]
    },
    {
     "name": "stderr",
     "output_type": "stream",
     "text": [
      "Warning: less than 75% gpu memory available for training. Free: 4319.125 Total: 5944.625\n"
     ]
    },
    {
     "name": "stdout",
     "output_type": "stream",
     "text": [
      "train groups ['era96' 'era97' 'era98' 'era99' 'era100']\n"
     ]
    },
    {
     "name": "stderr",
     "output_type": "stream",
     "text": [
      "Warning: less than 75% gpu memory available for training. Free: 4319.125 Total: 5944.625\n"
     ]
    },
    {
     "name": "stdout",
     "output_type": "stream",
     "text": [
      "Score group era121 - correlation 0.011674293760413672\n",
      "Score group era122 - correlation 0.012153360062405529\n",
      "Score group era123 - correlation 0.0443185843066349\n",
      "Score group era124 - correlation 0.06285176166077747\n",
      "Score group era125 - correlation 0.004350863245084052\n",
      "Score group era126 - correlation 0.020870368667179832\n",
      "Score group era127 - correlation 0.001349289887857545\n",
      "Score group era128 - correlation 0.035673506000998924\n",
      "Score group era129 - correlation -0.006430038098307095\n",
      "Score group era130 - correlation 0.051347696944537606\n",
      "Score group era131 - correlation 0.01482527451215332\n",
      "Score group era132 - correlation 0.04621591958937068\n",
      "Score group era197 - correlation 0.03653229116230441\n",
      "Score group era198 - correlation 0.002019168306013958\n",
      "Score group era199 - correlation -0.0416027351295\n",
      "Score group era200 - correlation 0.016344079557358136\n",
      "Score group era201 - correlation 0.030891035022408534\n",
      "Score group era202 - correlation 0.04713513751914741\n",
      "Score group era203 - correlation 0.00526698557716708\n",
      "Score group era204 - correlation 0.010489176190328032\n",
      "Score group era205 - correlation 0.009809017896403848\n",
      "Score group era206 - correlation 0.003735563227127164\n",
      "Score group era207 - correlation 0.042607832240021515\n",
      "Score group era208 - correlation 0.015462584991482717\n",
      "Score group era209 - correlation -0.007779221893207173\n",
      "Score group era210 - correlation -0.005300336755275877\n",
      "Score group era211 - correlation 0.025496687966638544\n",
      "Score group era212 - correlation 0.0021792061764246006\n",
      "Autocrrelation 0.009009873222065463\n",
      "AVG Score: 0.017588834021212477\n",
      "Rshape: 0.7906385310835731\n",
      "train groups ['era97' 'era98' 'era99' 'era100' 'era101']\n"
     ]
    },
    {
     "name": "stderr",
     "output_type": "stream",
     "text": [
      "Warning: less than 75% gpu memory available for training. Free: 4326.1875 Total: 5944.625\n"
     ]
    },
    {
     "name": "stdout",
     "output_type": "stream",
     "text": [
      "train groups ['era98' 'era99' 'era100' 'era101' 'era102']\n"
     ]
    },
    {
     "name": "stderr",
     "output_type": "stream",
     "text": [
      "Warning: less than 75% gpu memory available for training. Free: 4326.1875 Total: 5944.625\n"
     ]
    },
    {
     "name": "stdout",
     "output_type": "stream",
     "text": [
      "train groups ['era99' 'era100' 'era101' 'era102' 'era103']\n"
     ]
    },
    {
     "name": "stderr",
     "output_type": "stream",
     "text": [
      "Warning: less than 75% gpu memory available for training. Free: 4326.1875 Total: 5944.625\n"
     ]
    },
    {
     "name": "stdout",
     "output_type": "stream",
     "text": [
      "train groups ['era100' 'era101' 'era102' 'era103' 'era104']\n"
     ]
    },
    {
     "name": "stderr",
     "output_type": "stream",
     "text": [
      "Warning: less than 75% gpu memory available for training. Free: 4326.1875 Total: 5944.625\n"
     ]
    },
    {
     "name": "stdout",
     "output_type": "stream",
     "text": [
      "train groups ['era101' 'era102' 'era103' 'era104' 'era105']\n"
     ]
    },
    {
     "name": "stderr",
     "output_type": "stream",
     "text": [
      "Warning: less than 75% gpu memory available for training. Free: 4326.1875 Total: 5944.625\n"
     ]
    },
    {
     "name": "stdout",
     "output_type": "stream",
     "text": [
      "Score group era121 - correlation 0.01142968350054968\n",
      "Score group era122 - correlation 0.01337601699294871\n",
      "Score group era123 - correlation 0.04383350618237032\n",
      "Score group era124 - correlation 0.062441546609631554\n",
      "Score group era125 - correlation 0.00595163514832717\n",
      "Score group era126 - correlation 0.021805488555077374\n",
      "Score group era127 - correlation 0.0028423652436287577\n",
      "Score group era128 - correlation 0.03593049439665948\n",
      "Score group era129 - correlation -0.006401295798213831\n",
      "Score group era130 - correlation 0.05051934234883244\n",
      "Score group era131 - correlation 0.01501203300636366\n",
      "Score group era132 - correlation 0.04741149883755633\n",
      "Score group era197 - correlation 0.036492611982859226\n",
      "Score group era198 - correlation 0.00046640603297338535\n",
      "Score group era199 - correlation -0.04137041642205779\n",
      "Score group era200 - correlation 0.01435570257664869\n",
      "Score group era201 - correlation 0.03388619762985272\n",
      "Score group era202 - correlation 0.048464532052130346\n",
      "Score group era203 - correlation 0.005042553600850959\n",
      "Score group era204 - correlation 0.010494428803248485\n",
      "Score group era205 - correlation 0.009065381813106002\n",
      "Score group era206 - correlation 0.003501944147562312\n",
      "Score group era207 - correlation 0.04212601624983058\n",
      "Score group era208 - correlation 0.015584006500838977\n",
      "Score group era209 - correlation -0.00951452363862226\n",
      "Score group era210 - correlation -0.005305725149740702\n",
      "Score group era211 - correlation 0.024890218083792787\n",
      "Score group era212 - correlation 0.001556144456698586\n",
      "Autocrrelation 0.040427714999108695\n",
      "AVG Score: 0.017638849776560855\n",
      "Rshape: 0.7880080917507009\n",
      "train groups ['era102' 'era103' 'era104' 'era105' 'era106']\n"
     ]
    },
    {
     "name": "stderr",
     "output_type": "stream",
     "text": [
      "Warning: less than 75% gpu memory available for training. Free: 4326.1875 Total: 5944.625\n"
     ]
    },
    {
     "name": "stdout",
     "output_type": "stream",
     "text": [
      "train groups ['era103' 'era104' 'era105' 'era106' 'era107']\n"
     ]
    },
    {
     "name": "stderr",
     "output_type": "stream",
     "text": [
      "Warning: less than 75% gpu memory available for training. Free: 4326.1875 Total: 5944.625\n"
     ]
    },
    {
     "name": "stdout",
     "output_type": "stream",
     "text": [
      "train groups ['era104' 'era105' 'era106' 'era107' 'era108']\n"
     ]
    },
    {
     "name": "stderr",
     "output_type": "stream",
     "text": [
      "Warning: less than 75% gpu memory available for training. Free: 4319.125 Total: 5944.625\n"
     ]
    },
    {
     "name": "stdout",
     "output_type": "stream",
     "text": [
      "train groups ['era105' 'era106' 'era107' 'era108' 'era109']\n"
     ]
    },
    {
     "name": "stderr",
     "output_type": "stream",
     "text": [
      "Warning: less than 75% gpu memory available for training. Free: 4319.125 Total: 5944.625\n"
     ]
    },
    {
     "name": "stdout",
     "output_type": "stream",
     "text": [
      "train groups ['era106' 'era107' 'era108' 'era109' 'era110']\n"
     ]
    },
    {
     "name": "stderr",
     "output_type": "stream",
     "text": [
      "Warning: less than 75% gpu memory available for training. Free: 4319.125 Total: 5944.625\n"
     ]
    },
    {
     "name": "stdout",
     "output_type": "stream",
     "text": [
      "Score group era121 - correlation 0.010897776820147389\n",
      "Score group era122 - correlation 0.010847392979846951\n",
      "Score group era123 - correlation 0.04552507470524785\n",
      "Score group era124 - correlation 0.06339431581172013\n",
      "Score group era125 - correlation 0.007152345848224375\n",
      "Score group era126 - correlation 0.021217456298669602\n",
      "Score group era127 - correlation 0.0029307536110211086\n",
      "Score group era128 - correlation 0.035199384953846835\n",
      "Score group era129 - correlation -0.007590771351464392\n",
      "Score group era130 - correlation 0.04923180050259974\n",
      "Score group era131 - correlation 0.014608199168210175\n",
      "Score group era132 - correlation 0.04647412451944105\n",
      "Score group era197 - correlation 0.03803021939503529\n",
      "Score group era198 - correlation 2.293800162165028e-05\n",
      "Score group era199 - correlation -0.040631599681568306\n",
      "Score group era200 - correlation 0.014672625552418475\n",
      "Score group era201 - correlation 0.03578645774119888\n",
      "Score group era202 - correlation 0.04822044600846484\n",
      "Score group era203 - correlation 0.003687096753764708\n",
      "Score group era204 - correlation 0.01079090962142551\n",
      "Score group era205 - correlation 0.009759006007321849\n",
      "Score group era206 - correlation 0.0037133137909781374\n",
      "Score group era207 - correlation 0.0407792946922204\n",
      "Score group era208 - correlation 0.0160929403150553\n",
      "Score group era209 - correlation -0.009958481958755245\n",
      "Score group era210 - correlation -0.006813766600618445\n",
      "Score group era211 - correlation 0.02391031533858467\n",
      "Score group era212 - correlation -0.00011992464210741169\n",
      "Autocrrelation 0.05247549590448878\n",
      "AVG Score: 0.017422487292948256\n",
      "Rshape: 0.7728659111889596\n",
      "train groups ['era107' 'era108' 'era109' 'era110' 'era111']\n"
     ]
    },
    {
     "name": "stderr",
     "output_type": "stream",
     "text": [
      "Warning: less than 75% gpu memory available for training. Free: 4319.125 Total: 5944.625\n"
     ]
    },
    {
     "name": "stdout",
     "output_type": "stream",
     "text": [
      "train groups ['era108' 'era109' 'era110' 'era111' 'era112']\n"
     ]
    },
    {
     "name": "stderr",
     "output_type": "stream",
     "text": [
      "Warning: less than 75% gpu memory available for training. Free: 4319.125 Total: 5944.625\n"
     ]
    },
    {
     "name": "stdout",
     "output_type": "stream",
     "text": [
      "train groups ['era109' 'era110' 'era111' 'era112' 'era113']\n"
     ]
    },
    {
     "name": "stderr",
     "output_type": "stream",
     "text": [
      "Warning: less than 75% gpu memory available for training. Free: 4319.125 Total: 5944.625\n"
     ]
    },
    {
     "name": "stdout",
     "output_type": "stream",
     "text": [
      "train groups ['era110' 'era111' 'era112' 'era113' 'era114']\n"
     ]
    },
    {
     "name": "stderr",
     "output_type": "stream",
     "text": [
      "Warning: less than 75% gpu memory available for training. Free: 4319.125 Total: 5944.625\n"
     ]
    },
    {
     "name": "stdout",
     "output_type": "stream",
     "text": [
      "train groups ['era111' 'era112' 'era113' 'era114' 'era115']\n"
     ]
    },
    {
     "name": "stderr",
     "output_type": "stream",
     "text": [
      "Warning: less than 75% gpu memory available for training. Free: 4319.125 Total: 5944.625\n"
     ]
    },
    {
     "name": "stdout",
     "output_type": "stream",
     "text": [
      "Score group era121 - correlation 0.012375645939492638\n",
      "Score group era122 - correlation 0.012234524888617928\n",
      "Score group era123 - correlation 0.04514383760908958\n",
      "Score group era124 - correlation 0.06332742309734196\n",
      "Score group era125 - correlation 0.009734383373200877\n",
      "Score group era126 - correlation 0.019546588470218566\n",
      "Score group era127 - correlation 0.0020855067683530266\n",
      "Score group era128 - correlation 0.03515502064133281\n",
      "Score group era129 - correlation -0.008286019549452484\n",
      "Score group era130 - correlation 0.049024154587592704\n",
      "Score group era131 - correlation 0.016424027720438203\n",
      "Score group era132 - correlation 0.04461796261942174\n",
      "Score group era197 - correlation 0.038730329501925724\n",
      "Score group era198 - correlation -0.001253007843685644\n",
      "Score group era199 - correlation -0.038285860392194886\n",
      "Score group era200 - correlation 0.01415302483648824\n",
      "Score group era201 - correlation 0.03527949179497769\n",
      "Score group era202 - correlation 0.049793328701356575\n",
      "Score group era203 - correlation 0.0032253785668075905\n",
      "Score group era204 - correlation 0.01113495576771561\n",
      "Score group era205 - correlation 0.011180710261196653\n",
      "Score group era206 - correlation 0.004501997751313607\n",
      "Score group era207 - correlation 0.039569546315429284\n",
      "Score group era208 - correlation 0.017442347894035055\n",
      "Score group era209 - correlation -0.008328068271957974\n",
      "Score group era210 - correlation -0.007162594242288336\n",
      "Score group era211 - correlation 0.020737426675079707\n",
      "Score group era212 - correlation -0.00224261956631594\n",
      "Autocrrelation 0.07507921093369245\n",
      "AVG Score: 0.017494980139840376\n",
      "Rshape: 0.7872559185718948\n",
      "train groups ['era112' 'era113' 'era114' 'era115' 'era116']\n"
     ]
    },
    {
     "name": "stderr",
     "output_type": "stream",
     "text": [
      "Warning: less than 75% gpu memory available for training. Free: 4319.125 Total: 5944.625\n"
     ]
    },
    {
     "name": "stdout",
     "output_type": "stream",
     "text": [
      "train groups ['era113' 'era114' 'era115' 'era116' 'era117']\n"
     ]
    },
    {
     "name": "stderr",
     "output_type": "stream",
     "text": [
      "Warning: less than 75% gpu memory available for training. Free: 4319.125 Total: 5944.625\n"
     ]
    },
    {
     "name": "stdout",
     "output_type": "stream",
     "text": [
      "train groups ['era114' 'era115' 'era116' 'era117' 'era118']\n"
     ]
    },
    {
     "name": "stderr",
     "output_type": "stream",
     "text": [
      "Warning: less than 75% gpu memory available for training. Free: 4319.125 Total: 5944.625\n"
     ]
    },
    {
     "name": "stdout",
     "output_type": "stream",
     "text": [
      "train groups ['era115' 'era116' 'era117' 'era118' 'era119']\n"
     ]
    },
    {
     "name": "stderr",
     "output_type": "stream",
     "text": [
      "Warning: less than 75% gpu memory available for training. Free: 4319.125 Total: 5944.625\n"
     ]
    }
   ],
   "source": [
    "ranker = Ranker(fullData=allData,\n",
    "                groupbyField='era', \n",
    "                train_dataset=training_data, \n",
    "                validation_dataset=validation, \n",
    "                numNeutralizedFeats=10,\n",
    "                feature_cols = feature_cols,\n",
    "                target_col = TARGET_NAME,                \n",
    "                encode_model_path=Ranker.AE_MODEL_PATH,\n",
    "                neutralizedTrain=copyNeut\n",
    "               )    \n",
    "\n",
    "ranker.train()"
   ]
  },
  {
   "cell_type": "code",
   "execution_count": 307,
   "metadata": {},
   "outputs": [
    {
     "name": "stdout",
     "output_type": "stream",
     "text": [
      "Score group era121 - correlation -0.01954358027672134\n",
      "Score group era122 - correlation 0.0044214270913480016\n",
      "Score group era123 - correlation 0.03217119148974253\n",
      "Score group era124 - correlation 0.013672961214451124\n",
      "Score group era125 - correlation -0.0013114874186980704\n",
      "Score group era126 - correlation -0.012976513268435203\n",
      "Score group era127 - correlation -0.007619394832216456\n",
      "Score group era128 - correlation 0.03587332575004587\n",
      "Score group era129 - correlation 0.015641244246493897\n",
      "Score group era130 - correlation 0.008069727248534943\n",
      "Score group era131 - correlation -0.02380810683905939\n",
      "Score group era132 - correlation 0.04158011966135679\n",
      "Score group era197 - correlation 0.008866022502827947\n",
      "Score group era198 - correlation -0.019823426707574466\n",
      "Score group era199 - correlation -0.04182223305720973\n",
      "Score group era200 - correlation 0.015567626233614478\n",
      "Score group era201 - correlation 0.012405146316719077\n",
      "Score group era202 - correlation 0.019856242707703607\n",
      "Score group era203 - correlation 0.021481789554001707\n",
      "Score group era204 - correlation 0.024888339076280082\n",
      "Score group era205 - correlation -0.0013905922065970526\n",
      "Score group era206 - correlation 0.021866658020548286\n",
      "Score group era207 - correlation 0.02014034371904627\n",
      "Score group era208 - correlation 0.019992199590516065\n",
      "Score group era209 - correlation 0.020793185975063553\n",
      "Score group era210 - correlation -0.011564203520774094\n",
      "Score group era211 - correlation -0.007376876513025807\n",
      "Score group era212 - correlation -0.015382276576499187\n",
      "Autocrrelation 0.13416723353737814\n",
      "AVG Score: 0.0062381735421958365\n",
      "Rshape: 0.31633168322617483\n"
     ]
    },
    {
     "data": {
      "text/plain": [
       "0.31633168322617483"
      ]
     },
     "execution_count": 307,
     "metadata": {},
     "output_type": "execute_result"
    }
   ],
   "source": [
    "def perdict_int(self, data):\n",
    "    data = data.copy()\n",
    "    data = data.reset_index().reindex().drop('index', axis=1)    \n",
    "    encode_data = extract_emb(self.encode_model, data[self.feature_cols].values)    \n",
    "    by = extract_emb(self.encode_model, data[self.feature_cols].values, layer_name='l_neut')\n",
    "\n",
    "    data['pred_neut'] = by        \n",
    "    dataNeut, _ = neutralize_group(data[self.feats_and_targetneu].copy(), target='pred_neut', feature_cols=self.feature_cols)        \n",
    "\n",
    "    data=pd.DataFrame(encode_data)\n",
    "\n",
    "    # used for val raw neutrailzed data and encoders layer l2_norm\n",
    "    data = pd.concat((data, dataNeut), axis=1)\n",
    "\n",
    "    feats =  self.features_encoded + [col for col in self.feature_cols]\n",
    "    \n",
    "    pred = np.mean([finalneutralize(pd.Series(model.predict(data[feats].values)), \n",
    "                                    pd.Series(by.reshape(-1)), 0.8).rank(method=\"first\", pct=True).values for model in self.allmodels], \n",
    "                   axis=0)\n",
    "    # pred = np.mean([pd.Series(model.predict(data[feats].values)).rank(method=\"first\", pct=True).values for model in self.allmodels], \n",
    "#                   axis=0)\n",
    "    return pred\n",
    "def predict_val(self):\n",
    "    scores = []\n",
    "\n",
    "    for group in self.validation_dataset[self.groupbyField].unique():    \n",
    "        predictions = perdict_int(self, self.validation_dataset[self.validation_dataset[self.groupbyField]==group])\n",
    "        score = np.corrcoef(self.validation_dataset[self.validation_dataset[self.groupbyField]==group]['target'], \n",
    "                            pd.Series(predictions).rank(pct=True, method=\"first\"))[0][1]\n",
    "        scores.append(score)\n",
    "        print(\"Score group {} - correlation {}\".format(group, score))\n",
    "\n",
    "    print(\"Autocrrelation\", ar1(scores))\n",
    "    print(\"AVG Score:\",np.mean(scores))\n",
    "    print(\"Rshape:\",np.mean(scores)/np.std(scores))\n",
    "    return np.mean(scores)/np.std(scores)  \n",
    "predict_val(ranker)"
   ]
  },
  {
   "cell_type": "code",
   "execution_count": 181,
   "metadata": {},
   "outputs": [],
   "source": [
    "ranker.prepareTrainableDataSet()"
   ]
  },
  {
   "cell_type": "code",
   "execution_count": 213,
   "metadata": {},
   "outputs": [
    {
     "data": {
      "text/plain": [
       "<tensorflow.python.keras.engine.functional.Functional at 0x7f89436018b0>"
      ]
     },
     "execution_count": 213,
     "metadata": {},
     "output_type": "execute_result"
    }
   ],
   "source": [
    "ranker.encode_model"
   ]
  },
  {
   "cell_type": "code",
   "execution_count": 227,
   "metadata": {},
   "outputs": [
    {
     "name": "stdout",
     "output_type": "stream",
     "text": [
      "Score group era121-cor 0.0006133815696893267\n",
      "Score group era122-cor 0.007338712629087977\n",
      "Score group era123-cor 0.033459988221705116\n",
      "Score group era124-cor 0.02015197257977349\n",
      "Score group era125-cor 0.014886159659765948\n",
      "Score group era126-cor 0.03357480202876932\n",
      "Score group era127-cor 0.011800464530482132\n",
      "Score group era128-cor 0.03750488646270648\n",
      "Score group era129-cor -0.009492144605805867\n",
      "Score group era130-cor 0.011964417020186207\n",
      "Score group era131-cor 0.021059993283445967\n",
      "Score group era132-cor 0.05463504130078883\n",
      "Score group era197-cor 0.008766118798058864\n",
      "Score group era198-cor -0.04066689230358891\n",
      "Score group era199-cor -0.03364164878451009\n",
      "Score group era200-cor -0.000162524602958868\n",
      "Score group era201-cor 0.014697064236858457\n",
      "Score group era202-cor 0.026154350200594118\n",
      "Score group era203-cor 0.018528270655674448\n",
      "Score group era204-cor 0.02805347607860009\n",
      "Score group era205-cor -0.0017222117385623237\n",
      "Score group era206-cor 0.017308012033776254\n",
      "Score group era207-cor 0.023220141379482622\n",
      "Score group era208-cor 0.04391342153378631\n",
      "Score group era209-cor 0.0019362887663260774\n",
      "Score group era210-cor -0.024306338431528567\n",
      "Score group era211-cor -0.006812998627154556\n",
      "Score group era212-cor 0.025037792006031283\n",
      "Autocrrelation 0.2998349463805394\n",
      "AVG Score: 0.012064285567195718\n",
      "Rshape: 0.5600744937661672\n"
     ]
    },
    {
     "data": {
      "text/plain": [
       "0.5600744937661672"
      ]
     },
     "execution_count": 227,
     "metadata": {},
     "output_type": "execute_result"
    }
   ],
   "source": [
    "def perdict_int(self, data):\n",
    "    data = data.copy()\n",
    "    data = data.reset_index().reindex().drop('index', axis=1)    \n",
    "    encode_data = extract_emb(self.encode_model, data[self.feature_cols].values)    \n",
    "    by = extract_emb(self.encode_model, data[self.feature_cols].values, layer_name='l_neut')\n",
    "    \n",
    "    data['pred_neut'] = by        \n",
    "    dataNeut, _ = neutralize_group(data[self.feats_and_targetneu].copy(), target='pred_neut', feature_cols=self.feature_cols)        \n",
    "\n",
    "    data=pd.DataFrame(encode_data)\n",
    "        \n",
    "    # used for val raw neutrailzed data and encoders layer l2_norm\n",
    "    data = pd.concat((data, dataNeut), axis=1)\n",
    "    \n",
    "    feats =  self.features_encoded + [col for col in self.feature_cols]\n",
    "    \n",
    "    pred = np.mean([model.predict(data[feats].values) for model in self.allmodels], axis=0)\n",
    "    \n",
    "    return pred\n",
    "    \n",
    "def predict_val(self):\n",
    "    scores = []\n",
    "    \n",
    "    for group in self.validation_dataset[self.groupbyField].unique():    \n",
    "        predictions = perdict_int(ranker, self.validation_dataset[self.validation_dataset[self.groupbyField]==group])\n",
    "        score = np.corrcoef(self.validation_dataset[self.validation_dataset[self.groupbyField]==group]['target'], pd.Series(predictions).rank(method=\"first\"))[0][1]\n",
    "        scores.append(score)\n",
    "        print(\"Score group {} - correlation {}\".format(group, score))\n",
    "        \n",
    "    print(\"Autocrrelation\", ar1(scores))\n",
    "    print(\"AVG Score:\",np.mean(scores))\n",
    "    print(\"Rshape:\",np.mean(scores)/np.std(scores))\n",
    "    return np.mean(scores)/np.std(scores)\n",
    "\n",
    "predict_val(ranker)"
   ]
  },
  {
   "cell_type": "code",
   "execution_count": 208,
   "metadata": {},
   "outputs": [
    {
     "name": "stdout",
     "output_type": "stream",
     "text": [
      "train groups ['era1' 'era2' 'era3' 'era4']\n",
      "train groups ['era2' 'era3' 'era4' 'era5']\n"
     ]
    },
    {
     "ename": "KeyboardInterrupt",
     "evalue": "",
     "output_type": "error",
     "traceback": [
      "\u001b[0;31m---------------------------------------------------------------------------\u001b[0m",
      "\u001b[0;31mKeyboardInterrupt\u001b[0m                         Traceback (most recent call last)",
      "\u001b[0;32m<ipython-input-208-947f3c3162f6>\u001b[0m in \u001b[0;36m<module>\u001b[0;34m\u001b[0m\n\u001b[1;32m     21\u001b[0m         \u001b[0mself\u001b[0m\u001b[0;34m.\u001b[0m\u001b[0mallmodels\u001b[0m\u001b[0;34m.\u001b[0m\u001b[0mappend\u001b[0m\u001b[0;34m(\u001b[0m\u001b[0mmodel\u001b[0m\u001b[0;34m)\u001b[0m\u001b[0;34m\u001b[0m\u001b[0;34m\u001b[0m\u001b[0m\n\u001b[1;32m     22\u001b[0m \u001b[0;34m\u001b[0m\u001b[0m\n\u001b[0;32m---> 23\u001b[0;31m \u001b[0mtrain_groups\u001b[0m\u001b[0;34m(\u001b[0m\u001b[0mranker\u001b[0m\u001b[0;34m)\u001b[0m\u001b[0;34m\u001b[0m\u001b[0;34m\u001b[0m\u001b[0m\n\u001b[0m",
      "\u001b[0;32m<ipython-input-208-947f3c3162f6>\u001b[0m in \u001b[0;36mtrain_groups\u001b[0;34m(self)\u001b[0m\n\u001b[1;32m     18\u001b[0m                        devices='0:1')\n\u001b[1;32m     19\u001b[0m \u001b[0;34m\u001b[0m\u001b[0m\n\u001b[0;32m---> 20\u001b[0;31m         \u001b[0mmodel\u001b[0m\u001b[0;34m.\u001b[0m\u001b[0mfit\u001b[0m\u001b[0;34m(\u001b[0m\u001b[0mtrain_X\u001b[0m\u001b[0;34m,\u001b[0m \u001b[0mtrain_y\u001b[0m\u001b[0;34m,\u001b[0m \u001b[0meval_set\u001b[0m \u001b[0;34m=\u001b[0m \u001b[0;34m(\u001b[0m\u001b[0mtest_X\u001b[0m\u001b[0;34m,\u001b[0m \u001b[0mtest_y\u001b[0m\u001b[0;34m)\u001b[0m\u001b[0;34m,\u001b[0m \u001b[0mearly_stopping_rounds\u001b[0m\u001b[0;34m=\u001b[0m\u001b[0;36m200\u001b[0m\u001b[0;34m,\u001b[0m \u001b[0mplot\u001b[0m\u001b[0;34m=\u001b[0m\u001b[0;32mFalse\u001b[0m\u001b[0;34m)\u001b[0m\u001b[0;34m\u001b[0m\u001b[0;34m\u001b[0m\u001b[0m\n\u001b[0m\u001b[1;32m     21\u001b[0m         \u001b[0mself\u001b[0m\u001b[0;34m.\u001b[0m\u001b[0mallmodels\u001b[0m\u001b[0;34m.\u001b[0m\u001b[0mappend\u001b[0m\u001b[0;34m(\u001b[0m\u001b[0mmodel\u001b[0m\u001b[0;34m)\u001b[0m\u001b[0;34m\u001b[0m\u001b[0;34m\u001b[0m\u001b[0m\n\u001b[1;32m     22\u001b[0m \u001b[0;34m\u001b[0m\u001b[0m\n",
      "\u001b[0;32m~/Desktop/git/kaggle/numerai/venv/lib/python3.8/site-packages/catboost/core.py\u001b[0m in \u001b[0;36mfit\u001b[0;34m(self, X, y, cat_features, sample_weight, baseline, use_best_model, eval_set, verbose, logging_level, plot, column_description, verbose_eval, metric_period, silent, early_stopping_rounds, save_snapshot, snapshot_file, snapshot_interval, init_model)\u001b[0m\n\u001b[1;32m   4845\u001b[0m             \u001b[0mself\u001b[0m\u001b[0;34m.\u001b[0m\u001b[0m_check_is_regressor_loss\u001b[0m\u001b[0;34m(\u001b[0m\u001b[0mparams\u001b[0m\u001b[0;34m[\u001b[0m\u001b[0;34m'loss_function'\u001b[0m\u001b[0;34m]\u001b[0m\u001b[0;34m)\u001b[0m\u001b[0;34m\u001b[0m\u001b[0;34m\u001b[0m\u001b[0m\n\u001b[1;32m   4846\u001b[0m \u001b[0;34m\u001b[0m\u001b[0m\n\u001b[0;32m-> 4847\u001b[0;31m         return self._fit(X, y, cat_features, None, None, None, sample_weight, None, None, None, None, baseline,\n\u001b[0m\u001b[1;32m   4848\u001b[0m                          \u001b[0muse_best_model\u001b[0m\u001b[0;34m,\u001b[0m \u001b[0meval_set\u001b[0m\u001b[0;34m,\u001b[0m \u001b[0mverbose\u001b[0m\u001b[0;34m,\u001b[0m \u001b[0mlogging_level\u001b[0m\u001b[0;34m,\u001b[0m \u001b[0mplot\u001b[0m\u001b[0;34m,\u001b[0m \u001b[0mcolumn_description\u001b[0m\u001b[0;34m,\u001b[0m\u001b[0;34m\u001b[0m\u001b[0;34m\u001b[0m\u001b[0m\n\u001b[1;32m   4849\u001b[0m                          \u001b[0mverbose_eval\u001b[0m\u001b[0;34m,\u001b[0m \u001b[0mmetric_period\u001b[0m\u001b[0;34m,\u001b[0m \u001b[0msilent\u001b[0m\u001b[0;34m,\u001b[0m \u001b[0mearly_stopping_rounds\u001b[0m\u001b[0;34m,\u001b[0m\u001b[0;34m\u001b[0m\u001b[0;34m\u001b[0m\u001b[0m\n",
      "\u001b[0;32m~/Desktop/git/kaggle/numerai/venv/lib/python3.8/site-packages/catboost/core.py\u001b[0m in \u001b[0;36m_fit\u001b[0;34m(self, X, y, cat_features, text_features, embedding_features, pairs, sample_weight, group_id, group_weight, subgroup_id, pairs_weight, baseline, use_best_model, eval_set, verbose, logging_level, plot, column_description, verbose_eval, metric_period, silent, early_stopping_rounds, save_snapshot, snapshot_file, snapshot_interval, init_model)\u001b[0m\n\u001b[1;32m   1802\u001b[0m \u001b[0;34m\u001b[0m\u001b[0m\n\u001b[1;32m   1803\u001b[0m         \u001b[0;32mwith\u001b[0m \u001b[0mlog_fixup\u001b[0m\u001b[0;34m(\u001b[0m\u001b[0;34m)\u001b[0m\u001b[0;34m,\u001b[0m \u001b[0mplot_wrapper\u001b[0m\u001b[0;34m(\u001b[0m\u001b[0mplot\u001b[0m\u001b[0;34m,\u001b[0m \u001b[0;34m[\u001b[0m\u001b[0m_get_train_dir\u001b[0m\u001b[0;34m(\u001b[0m\u001b[0mself\u001b[0m\u001b[0;34m.\u001b[0m\u001b[0mget_params\u001b[0m\u001b[0;34m(\u001b[0m\u001b[0;34m)\u001b[0m\u001b[0;34m)\u001b[0m\u001b[0;34m]\u001b[0m\u001b[0;34m)\u001b[0m\u001b[0;34m:\u001b[0m\u001b[0;34m\u001b[0m\u001b[0;34m\u001b[0m\u001b[0m\n\u001b[0;32m-> 1804\u001b[0;31m             self._train(\n\u001b[0m\u001b[1;32m   1805\u001b[0m                 \u001b[0mtrain_pool\u001b[0m\u001b[0;34m,\u001b[0m\u001b[0;34m\u001b[0m\u001b[0;34m\u001b[0m\u001b[0m\n\u001b[1;32m   1806\u001b[0m                 \u001b[0mtrain_params\u001b[0m\u001b[0;34m[\u001b[0m\u001b[0;34m\"eval_sets\"\u001b[0m\u001b[0;34m]\u001b[0m\u001b[0;34m,\u001b[0m\u001b[0;34m\u001b[0m\u001b[0;34m\u001b[0m\u001b[0m\n",
      "\u001b[0;32m~/Desktop/git/kaggle/numerai/venv/lib/python3.8/site-packages/catboost/core.py\u001b[0m in \u001b[0;36m_train\u001b[0;34m(self, train_pool, test_pool, params, allow_clear_pool, init_model)\u001b[0m\n\u001b[1;32m   1256\u001b[0m \u001b[0;34m\u001b[0m\u001b[0m\n\u001b[1;32m   1257\u001b[0m     \u001b[0;32mdef\u001b[0m \u001b[0m_train\u001b[0m\u001b[0;34m(\u001b[0m\u001b[0mself\u001b[0m\u001b[0;34m,\u001b[0m \u001b[0mtrain_pool\u001b[0m\u001b[0;34m,\u001b[0m \u001b[0mtest_pool\u001b[0m\u001b[0;34m,\u001b[0m \u001b[0mparams\u001b[0m\u001b[0;34m,\u001b[0m \u001b[0mallow_clear_pool\u001b[0m\u001b[0;34m,\u001b[0m \u001b[0minit_model\u001b[0m\u001b[0;34m)\u001b[0m\u001b[0;34m:\u001b[0m\u001b[0;34m\u001b[0m\u001b[0;34m\u001b[0m\u001b[0m\n\u001b[0;32m-> 1258\u001b[0;31m         \u001b[0mself\u001b[0m\u001b[0;34m.\u001b[0m\u001b[0m_object\u001b[0m\u001b[0;34m.\u001b[0m\u001b[0m_train\u001b[0m\u001b[0;34m(\u001b[0m\u001b[0mtrain_pool\u001b[0m\u001b[0;34m,\u001b[0m \u001b[0mtest_pool\u001b[0m\u001b[0;34m,\u001b[0m \u001b[0mparams\u001b[0m\u001b[0;34m,\u001b[0m \u001b[0mallow_clear_pool\u001b[0m\u001b[0;34m,\u001b[0m \u001b[0minit_model\u001b[0m\u001b[0;34m.\u001b[0m\u001b[0m_object\u001b[0m \u001b[0;32mif\u001b[0m \u001b[0minit_model\u001b[0m \u001b[0;32melse\u001b[0m \u001b[0;32mNone\u001b[0m\u001b[0;34m)\u001b[0m\u001b[0;34m\u001b[0m\u001b[0;34m\u001b[0m\u001b[0m\n\u001b[0m\u001b[1;32m   1259\u001b[0m         \u001b[0mself\u001b[0m\u001b[0;34m.\u001b[0m\u001b[0m_set_trained_model_attributes\u001b[0m\u001b[0;34m(\u001b[0m\u001b[0;34m)\u001b[0m\u001b[0;34m\u001b[0m\u001b[0;34m\u001b[0m\u001b[0m\n\u001b[1;32m   1260\u001b[0m \u001b[0;34m\u001b[0m\u001b[0m\n",
      "\u001b[0;32m_catboost.pyx\u001b[0m in \u001b[0;36m_catboost._CatBoost._train\u001b[0;34m()\u001b[0m\n",
      "\u001b[0;32m_catboost.pyx\u001b[0m in \u001b[0;36m_catboost._CatBoost._train\u001b[0;34m()\u001b[0m\n",
      "\u001b[0;31mKeyboardInterrupt\u001b[0m: "
     ]
    }
   ],
   "source": [
    "\n",
    "    \n",
    "\n",
    "def train_groups(self):\n",
    "    self.allmodels = []\n",
    "    feats =  self.features_encoded + [col for col in self.feature_cols]\n",
    "    \n",
    "    for x in range(len(self.train_encode['group'].unique())-4):\n",
    "        \n",
    "        train_groups = self.train_encode['group'].unique()[x:x+4]\n",
    "        print(\"train groups\", train_groups)\n",
    "        train_X = self.train_encode[self.train_encode['group'].isin(train_groups)][feats].values\n",
    "        train_y = self.train_encode[self.train_encode['group'].isin(train_groups)]['target'].values\n",
    "        test_X = self.train_encode[~self.train_encode['group'].isin(train_groups)][feats].values\n",
    "        test_y = self.train_encode[~self.train_encode['group'].isin(train_groups)]['target'].values\n",
    "\n",
    "        model = CatBoostRegressor(iterations=10000,    \n",
    "                        verbose=False,\n",
    "                        use_best_model=True,\n",
    "                        task_type=\"GPU\",\n",
    "                       devices='0:1')\n",
    "    \n",
    "        model.fit(train_X, train_y, eval_set = (test_X, test_y), early_stopping_rounds=200, plot=False)   \n",
    "        self.allmodels.append(model)\n",
    "        \n",
    "        if x%5==0 and x>0:\n",
    "            self.predict_val()\n",
    "        \n",
    "train_groups(ranker)    "
   ]
  },
  {
   "cell_type": "code",
   "execution_count": 190,
   "metadata": {},
   "outputs": [
    {
     "data": {
      "text/plain": [
       "Index(['feature_intelligence1', 'feature_intelligence2',\n",
       "       'feature_intelligence3', 'feature_intelligence4',\n",
       "       'feature_intelligence5', 'feature_intelligence6',\n",
       "       'feature_intelligence7', 'feature_intelligence8',\n",
       "       'feature_intelligence9', 'feature_intelligence10',\n",
       "       ...\n",
       "       'feature_wisdom37', 'feature_wisdom38', 'feature_wisdom39',\n",
       "       'feature_wisdom40', 'feature_wisdom41', 'feature_wisdom42',\n",
       "       'feature_wisdom43', 'feature_wisdom44', 'feature_wisdom45',\n",
       "       'feature_wisdom46'],\n",
       "      dtype='object', length=310)"
      ]
     },
     "execution_count": 190,
     "metadata": {},
     "output_type": "execute_result"
    }
   ],
   "source": [
    "ranker.feature_cols"
   ]
  },
  {
   "cell_type": "code",
   "execution_count": 194,
   "metadata": {},
   "outputs": [
    {
     "data": {
      "text/plain": [
       "[0,\n",
       " 1,\n",
       " 2,\n",
       " 3,\n",
       " 4,\n",
       " 5,\n",
       " 6,\n",
       " 7,\n",
       " 8,\n",
       " 9,\n",
       " 10,\n",
       " 11,\n",
       " 12,\n",
       " 13,\n",
       " 14,\n",
       " 15,\n",
       " 16,\n",
       " 17,\n",
       " 18,\n",
       " 19,\n",
       " 20,\n",
       " 21,\n",
       " 22,\n",
       " 23,\n",
       " 24,\n",
       " 25,\n",
       " 26,\n",
       " 27,\n",
       " 28,\n",
       " 29,\n",
       " 30,\n",
       " 31,\n",
       " 32,\n",
       " 33,\n",
       " 34,\n",
       " 35,\n",
       " 36,\n",
       " 37,\n",
       " 38,\n",
       " 39,\n",
       " 40,\n",
       " 41,\n",
       " 42,\n",
       " 43,\n",
       " 44,\n",
       " 45,\n",
       " 46,\n",
       " 47,\n",
       " 48,\n",
       " 49,\n",
       " 50,\n",
       " 51,\n",
       " 52,\n",
       " 53,\n",
       " 54,\n",
       " 55,\n",
       " 56,\n",
       " 57,\n",
       " 58,\n",
       " 59,\n",
       " 60,\n",
       " 61,\n",
       " 62,\n",
       " 63,\n",
       " 64,\n",
       " 65,\n",
       " 66,\n",
       " 67,\n",
       " 68,\n",
       " 69,\n",
       " 70,\n",
       " 71,\n",
       " 72,\n",
       " 73,\n",
       " 74,\n",
       " 75,\n",
       " 76,\n",
       " 77,\n",
       " 78,\n",
       " 79,\n",
       " 80,\n",
       " 81,\n",
       " 82,\n",
       " 83,\n",
       " 84,\n",
       " 'feature_intelligence1',\n",
       " 'feature_intelligence2',\n",
       " 'feature_intelligence3',\n",
       " 'feature_intelligence4',\n",
       " 'feature_intelligence5',\n",
       " 'feature_intelligence6',\n",
       " 'feature_intelligence7',\n",
       " 'feature_intelligence8',\n",
       " 'feature_intelligence9',\n",
       " 'feature_intelligence10',\n",
       " 'feature_intelligence11',\n",
       " 'feature_intelligence12',\n",
       " 'feature_charisma1',\n",
       " 'feature_charisma2',\n",
       " 'feature_charisma3',\n",
       " 'feature_charisma4',\n",
       " 'feature_charisma5',\n",
       " 'feature_charisma6',\n",
       " 'feature_charisma7',\n",
       " 'feature_charisma8',\n",
       " 'feature_charisma9',\n",
       " 'feature_charisma10',\n",
       " 'feature_charisma11',\n",
       " 'feature_charisma12',\n",
       " 'feature_charisma13',\n",
       " 'feature_charisma14',\n",
       " 'feature_charisma15',\n",
       " 'feature_charisma16',\n",
       " 'feature_charisma17',\n",
       " 'feature_charisma18',\n",
       " 'feature_charisma19',\n",
       " 'feature_charisma20',\n",
       " 'feature_charisma21',\n",
       " 'feature_charisma22',\n",
       " 'feature_charisma23',\n",
       " 'feature_charisma24',\n",
       " 'feature_charisma25',\n",
       " 'feature_charisma26',\n",
       " 'feature_charisma27',\n",
       " 'feature_charisma28',\n",
       " 'feature_charisma29',\n",
       " 'feature_charisma30',\n",
       " 'feature_charisma31',\n",
       " 'feature_charisma32',\n",
       " 'feature_charisma33',\n",
       " 'feature_charisma34',\n",
       " 'feature_charisma35',\n",
       " 'feature_charisma36',\n",
       " 'feature_charisma37',\n",
       " 'feature_charisma38',\n",
       " 'feature_charisma39',\n",
       " 'feature_charisma40',\n",
       " 'feature_charisma41',\n",
       " 'feature_charisma42',\n",
       " 'feature_charisma43',\n",
       " 'feature_charisma44',\n",
       " 'feature_charisma45',\n",
       " 'feature_charisma46',\n",
       " 'feature_charisma47',\n",
       " 'feature_charisma48',\n",
       " 'feature_charisma49',\n",
       " 'feature_charisma50',\n",
       " 'feature_charisma51',\n",
       " 'feature_charisma52',\n",
       " 'feature_charisma53',\n",
       " 'feature_charisma54',\n",
       " 'feature_charisma55',\n",
       " 'feature_charisma56',\n",
       " 'feature_charisma57',\n",
       " 'feature_charisma58',\n",
       " 'feature_charisma59',\n",
       " 'feature_charisma60',\n",
       " 'feature_charisma61',\n",
       " 'feature_charisma62',\n",
       " 'feature_charisma63',\n",
       " 'feature_charisma64',\n",
       " 'feature_charisma65',\n",
       " 'feature_charisma66',\n",
       " 'feature_charisma67',\n",
       " 'feature_charisma68',\n",
       " 'feature_charisma69',\n",
       " 'feature_charisma70',\n",
       " 'feature_charisma71',\n",
       " 'feature_charisma72',\n",
       " 'feature_charisma73',\n",
       " 'feature_charisma74',\n",
       " 'feature_charisma75',\n",
       " 'feature_charisma76',\n",
       " 'feature_charisma77',\n",
       " 'feature_charisma78',\n",
       " 'feature_charisma79',\n",
       " 'feature_charisma80',\n",
       " 'feature_charisma81',\n",
       " 'feature_charisma82',\n",
       " 'feature_charisma83',\n",
       " 'feature_charisma84',\n",
       " 'feature_charisma85',\n",
       " 'feature_charisma86',\n",
       " 'feature_strength1',\n",
       " 'feature_strength2',\n",
       " 'feature_strength3',\n",
       " 'feature_strength4',\n",
       " 'feature_strength5',\n",
       " 'feature_strength6',\n",
       " 'feature_strength7',\n",
       " 'feature_strength8',\n",
       " 'feature_strength9',\n",
       " 'feature_strength10',\n",
       " 'feature_strength11',\n",
       " 'feature_strength12',\n",
       " 'feature_strength13',\n",
       " 'feature_strength14',\n",
       " 'feature_strength15',\n",
       " 'feature_strength16',\n",
       " 'feature_strength17',\n",
       " 'feature_strength18',\n",
       " 'feature_strength19',\n",
       " 'feature_strength20',\n",
       " 'feature_strength21',\n",
       " 'feature_strength22',\n",
       " 'feature_strength23',\n",
       " 'feature_strength24',\n",
       " 'feature_strength25',\n",
       " 'feature_strength26',\n",
       " 'feature_strength27',\n",
       " 'feature_strength28',\n",
       " 'feature_strength29',\n",
       " 'feature_strength30',\n",
       " 'feature_strength31',\n",
       " 'feature_strength32',\n",
       " 'feature_strength33',\n",
       " 'feature_strength34',\n",
       " 'feature_strength35',\n",
       " 'feature_strength36',\n",
       " 'feature_strength37',\n",
       " 'feature_strength38',\n",
       " 'feature_dexterity1',\n",
       " 'feature_dexterity2',\n",
       " 'feature_dexterity3',\n",
       " 'feature_dexterity4',\n",
       " 'feature_dexterity5',\n",
       " 'feature_dexterity6',\n",
       " 'feature_dexterity7',\n",
       " 'feature_dexterity8',\n",
       " 'feature_dexterity9',\n",
       " 'feature_dexterity10',\n",
       " 'feature_dexterity11',\n",
       " 'feature_dexterity12',\n",
       " 'feature_dexterity13',\n",
       " 'feature_dexterity14',\n",
       " 'feature_constitution1',\n",
       " 'feature_constitution2',\n",
       " 'feature_constitution3',\n",
       " 'feature_constitution4',\n",
       " 'feature_constitution5',\n",
       " 'feature_constitution6',\n",
       " 'feature_constitution7',\n",
       " 'feature_constitution8',\n",
       " 'feature_constitution9',\n",
       " 'feature_constitution10',\n",
       " 'feature_constitution11',\n",
       " 'feature_constitution12',\n",
       " 'feature_constitution13',\n",
       " 'feature_constitution14',\n",
       " 'feature_constitution15',\n",
       " 'feature_constitution16',\n",
       " 'feature_constitution17',\n",
       " 'feature_constitution18',\n",
       " 'feature_constitution19',\n",
       " 'feature_constitution20',\n",
       " 'feature_constitution21',\n",
       " 'feature_constitution22',\n",
       " 'feature_constitution23',\n",
       " 'feature_constitution24',\n",
       " 'feature_constitution25',\n",
       " 'feature_constitution26',\n",
       " 'feature_constitution27',\n",
       " 'feature_constitution28',\n",
       " 'feature_constitution29',\n",
       " 'feature_constitution30',\n",
       " 'feature_constitution31',\n",
       " 'feature_constitution32',\n",
       " 'feature_constitution33',\n",
       " 'feature_constitution34',\n",
       " 'feature_constitution35',\n",
       " 'feature_constitution36',\n",
       " 'feature_constitution37',\n",
       " 'feature_constitution38',\n",
       " 'feature_constitution39',\n",
       " 'feature_constitution40',\n",
       " 'feature_constitution41',\n",
       " 'feature_constitution42',\n",
       " 'feature_constitution43',\n",
       " 'feature_constitution44',\n",
       " 'feature_constitution45',\n",
       " 'feature_constitution46',\n",
       " 'feature_constitution47',\n",
       " 'feature_constitution48',\n",
       " 'feature_constitution49',\n",
       " 'feature_constitution50',\n",
       " 'feature_constitution51',\n",
       " 'feature_constitution52',\n",
       " 'feature_constitution53',\n",
       " 'feature_constitution54',\n",
       " 'feature_constitution55',\n",
       " 'feature_constitution56',\n",
       " 'feature_constitution57',\n",
       " 'feature_constitution58',\n",
       " 'feature_constitution59',\n",
       " 'feature_constitution60',\n",
       " 'feature_constitution61',\n",
       " 'feature_constitution62',\n",
       " 'feature_constitution63',\n",
       " 'feature_constitution64',\n",
       " 'feature_constitution65',\n",
       " 'feature_constitution66',\n",
       " 'feature_constitution67',\n",
       " 'feature_constitution68',\n",
       " 'feature_constitution69',\n",
       " 'feature_constitution70',\n",
       " 'feature_constitution71',\n",
       " 'feature_constitution72',\n",
       " 'feature_constitution73',\n",
       " 'feature_constitution74',\n",
       " 'feature_constitution75',\n",
       " 'feature_constitution76',\n",
       " 'feature_constitution77',\n",
       " 'feature_constitution78',\n",
       " 'feature_constitution79',\n",
       " 'feature_constitution80',\n",
       " 'feature_constitution81',\n",
       " 'feature_constitution82',\n",
       " 'feature_constitution83',\n",
       " 'feature_constitution84',\n",
       " 'feature_constitution85',\n",
       " 'feature_constitution86',\n",
       " 'feature_constitution87',\n",
       " 'feature_constitution88',\n",
       " 'feature_constitution89',\n",
       " 'feature_constitution90',\n",
       " 'feature_constitution91',\n",
       " 'feature_constitution92',\n",
       " 'feature_constitution93',\n",
       " 'feature_constitution94',\n",
       " 'feature_constitution95',\n",
       " 'feature_constitution96',\n",
       " 'feature_constitution97',\n",
       " 'feature_constitution98',\n",
       " 'feature_constitution99',\n",
       " 'feature_constitution100',\n",
       " 'feature_constitution101',\n",
       " 'feature_constitution102',\n",
       " 'feature_constitution103',\n",
       " 'feature_constitution104',\n",
       " 'feature_constitution105',\n",
       " 'feature_constitution106',\n",
       " 'feature_constitution107',\n",
       " 'feature_constitution108',\n",
       " 'feature_constitution109',\n",
       " 'feature_constitution110',\n",
       " 'feature_constitution111',\n",
       " 'feature_constitution112',\n",
       " 'feature_constitution113',\n",
       " 'feature_constitution114',\n",
       " 'feature_wisdom1',\n",
       " 'feature_wisdom2',\n",
       " 'feature_wisdom3',\n",
       " 'feature_wisdom4',\n",
       " 'feature_wisdom5',\n",
       " 'feature_wisdom6',\n",
       " 'feature_wisdom7',\n",
       " 'feature_wisdom8',\n",
       " 'feature_wisdom9',\n",
       " 'feature_wisdom10',\n",
       " 'feature_wisdom11',\n",
       " 'feature_wisdom12',\n",
       " 'feature_wisdom13',\n",
       " 'feature_wisdom14',\n",
       " 'feature_wisdom15',\n",
       " 'feature_wisdom16',\n",
       " 'feature_wisdom17',\n",
       " 'feature_wisdom18',\n",
       " 'feature_wisdom19',\n",
       " 'feature_wisdom20',\n",
       " 'feature_wisdom21',\n",
       " 'feature_wisdom22',\n",
       " 'feature_wisdom23',\n",
       " 'feature_wisdom24',\n",
       " 'feature_wisdom25',\n",
       " 'feature_wisdom26',\n",
       " 'feature_wisdom27',\n",
       " 'feature_wisdom28',\n",
       " 'feature_wisdom29',\n",
       " 'feature_wisdom30',\n",
       " 'feature_wisdom31',\n",
       " 'feature_wisdom32',\n",
       " 'feature_wisdom33',\n",
       " 'feature_wisdom34',\n",
       " 'feature_wisdom35',\n",
       " 'feature_wisdom36',\n",
       " 'feature_wisdom37',\n",
       " 'feature_wisdom38',\n",
       " 'feature_wisdom39',\n",
       " 'feature_wisdom40',\n",
       " 'feature_wisdom41',\n",
       " 'feature_wisdom42',\n",
       " 'feature_wisdom43',\n",
       " 'feature_wisdom44',\n",
       " 'feature_wisdom45',\n",
       " 'feature_wisdom46']"
      ]
     },
     "execution_count": 194,
     "metadata": {},
     "output_type": "execute_result"
    }
   ],
   "source": []
  },
  {
   "cell_type": "code",
   "execution_count": null,
   "metadata": {},
   "outputs": [],
   "source": []
  },
  {
   "cell_type": "code",
   "execution_count": null,
   "metadata": {},
   "outputs": [],
   "source": []
  }
 ],
 "metadata": {
  "kernelspec": {
   "display_name": "Python 3",
   "language": "python",
   "name": "python3"
  },
  "language_info": {
   "codemirror_mode": {
    "name": "ipython",
    "version": 3
   },
   "file_extension": ".py",
   "mimetype": "text/x-python",
   "name": "python",
   "nbconvert_exporter": "python",
   "pygments_lexer": "ipython3",
   "version": "3.8.5"
  }
 },
 "nbformat": 4,
 "nbformat_minor": 4
}
